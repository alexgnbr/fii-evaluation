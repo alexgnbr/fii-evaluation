{
 "cells": [
  {
   "cell_type": "code",
   "execution_count": 2,
   "id": "429bb34f",
   "metadata": {},
   "outputs": [
    {
     "name": "stdout",
     "output_type": "stream",
     "text": [
      "2024-03-20 09:38:27\n",
      "2024-03-25 16:01:51\n",
      "2024-03-27 12:49:40\n",
      "2024-03-11 02:26:38\n",
      "2024-03-01 06:52:39\n",
      "2024-03-04 09:57:12\n",
      "2024-03-12 03:10:12\n",
      "2024-03-07 12:27:09\n",
      "2024-03-01 07:59:57\n",
      "2024-03-10 20:02:25\n",
      "2024-03-28 22:00:12\n",
      "2024-03-26 23:41:48\n",
      "2024-03-20 19:01:36\n",
      "2024-03-09 05:16:02\n",
      "2024-03-09 23:05:27\n",
      "2024-03-14 23:30:52\n",
      "2024-03-10 19:08:32\n",
      "2024-03-18 02:11:13\n",
      "2024-03-26 05:14:43\n",
      "2024-03-30 17:05:30\n",
      "2024-03-28 07:06:43\n",
      "2024-03-01 06:26:24\n",
      "2024-03-02 10:11:57\n",
      "2024-03-03 10:33:22\n",
      "2024-03-02 20:58:19\n",
      "2024-03-08 18:23:18\n",
      "2024-03-04 15:59:11\n",
      "2024-03-22 12:23:04\n",
      "2024-03-03 02:00:25\n",
      "2024-03-18 10:25:46\n"
     ]
    }
   ],
   "source": [
    "import random\n",
    "from datetime import datetime, timedelta\n",
    "\n",
    "# Defina as datas de início e fim\n",
    "data_inicio = datetime(2024, 3, 1)\n",
    "data_fim = datetime(2024, 3, 31)\n",
    "\n",
    "# Lista para armazenar as datas geradas\n",
    "datas_aleatorias = []\n",
    "\n",
    "# Gere 30 datas aleatórias\n",
    "for _ in range(30):\n",
    "    # Calcule um intervalo de tempo aleatório entre as datas de início e fim\n",
    "    intervalo_aleatorio = random.uniform(0, (data_fim - data_inicio).total_seconds())\n",
    "    data_aleatoria = data_inicio + timedelta(seconds=intervalo_aleatorio)\n",
    "    datas_aleatorias.append(data_aleatoria)\n",
    "\n",
    "# Exiba as datas geradas\n",
    "for data in datas_aleatorias:\n",
    "    print(data.strftime(\"%Y-%m-%d %H:%M:%S\"))"
   ]
  },
  {
   "cell_type": "code",
   "execution_count": 3,
   "id": "0bb447f4",
   "metadata": {},
   "outputs": [
    {
     "name": "stdout",
     "output_type": "stream",
     "text": [
      "30\n"
     ]
    }
   ],
   "source": [
    "a = int(input())"
   ]
  },
  {
   "cell_type": "code",
   "execution_count": 4,
   "id": "3afe31ce",
   "metadata": {},
   "outputs": [
    {
     "name": "stdout",
     "output_type": "stream",
     "text": [
      "50\n"
     ]
    }
   ],
   "source": [
    "print(a + 20)"
   ]
  },
  {
   "cell_type": "code",
   "execution_count": 1,
   "id": "ba580708",
   "metadata": {
    "collapsed": true
   },
   "outputs": [
    {
     "name": "stdout",
     "output_type": "stream",
     "text": [
      "Collecting jupyter-dash\n",
      "  Downloading jupyter_dash-0.4.2-py3-none-any.whl.metadata (3.6 kB)\n",
      "Collecting dash (from jupyter-dash)\n",
      "  Downloading dash-2.16.1-py3-none-any.whl.metadata (10 kB)\n",
      "Requirement already satisfied: requests in c:\\users\\alex\\anaconda3\\envs\\mylab\\lib\\site-packages (from jupyter-dash) (2.31.0)\n",
      "Collecting flask (from jupyter-dash)\n",
      "  Downloading flask-3.0.2-py3-none-any.whl.metadata (3.6 kB)\n",
      "Collecting retrying (from jupyter-dash)\n",
      "  Downloading retrying-1.3.4-py3-none-any.whl.metadata (6.9 kB)\n",
      "Requirement already satisfied: ipython in c:\\users\\alex\\anaconda3\\envs\\mylab\\lib\\site-packages (from jupyter-dash) (8.15.0)\n",
      "Requirement already satisfied: ipykernel in c:\\users\\alex\\anaconda3\\envs\\mylab\\lib\\site-packages (from jupyter-dash) (6.25.0)\n",
      "Collecting ansi2html (from jupyter-dash)\n",
      "  Downloading ansi2html-1.9.1-py3-none-any.whl.metadata (3.7 kB)\n",
      "Requirement already satisfied: nest-asyncio in c:\\users\\alex\\anaconda3\\envs\\mylab\\lib\\site-packages (from jupyter-dash) (1.5.6)\n",
      "Collecting Werkzeug<3.1 (from dash->jupyter-dash)\n",
      "  Downloading werkzeug-3.0.1-py3-none-any.whl.metadata (4.1 kB)\n",
      "Requirement already satisfied: plotly>=5.0.0 in c:\\users\\alex\\anaconda3\\envs\\mylab\\lib\\site-packages (from dash->jupyter-dash) (5.20.0)\n",
      "Collecting dash-html-components==2.0.0 (from dash->jupyter-dash)\n",
      "  Downloading dash_html_components-2.0.0-py3-none-any.whl.metadata (3.8 kB)\n",
      "Collecting dash-core-components==2.0.0 (from dash->jupyter-dash)\n",
      "  Downloading dash_core_components-2.0.0-py3-none-any.whl.metadata (2.9 kB)\n",
      "Collecting dash-table==5.0.0 (from dash->jupyter-dash)\n",
      "  Downloading dash_table-5.0.0-py3-none-any.whl.metadata (2.4 kB)\n",
      "Requirement already satisfied: importlib-metadata in c:\\users\\alex\\anaconda3\\envs\\mylab\\lib\\site-packages (from dash->jupyter-dash) (7.0.1)\n",
      "Requirement already satisfied: typing-extensions>=4.1.1 in c:\\users\\alex\\anaconda3\\envs\\mylab\\lib\\site-packages (from dash->jupyter-dash) (4.9.0)\n",
      "Requirement already satisfied: setuptools in c:\\users\\alex\\anaconda3\\envs\\mylab\\lib\\site-packages (from dash->jupyter-dash) (68.0.0)\n",
      "Collecting Jinja2>=3.1.2 (from flask->jupyter-dash)\n",
      "  Downloading Jinja2-3.1.3-py3-none-any.whl.metadata (3.3 kB)\n",
      "Collecting itsdangerous>=2.1.2 (from flask->jupyter-dash)\n",
      "  Downloading itsdangerous-2.1.2-py3-none-any.whl.metadata (2.9 kB)\n",
      "Collecting click>=8.1.3 (from flask->jupyter-dash)\n",
      "  Downloading click-8.1.7-py3-none-any.whl.metadata (3.0 kB)\n",
      "Collecting blinker>=1.6.2 (from flask->jupyter-dash)\n",
      "  Downloading blinker-1.7.0-py3-none-any.whl.metadata (1.9 kB)\n",
      "Requirement already satisfied: comm>=0.1.1 in c:\\users\\alex\\anaconda3\\envs\\mylab\\lib\\site-packages (from ipykernel->jupyter-dash) (0.1.2)\n",
      "Requirement already satisfied: debugpy>=1.6.5 in c:\\users\\alex\\anaconda3\\envs\\mylab\\lib\\site-packages (from ipykernel->jupyter-dash) (1.6.7)\n",
      "Requirement already satisfied: jupyter-client>=6.1.12 in c:\\users\\alex\\anaconda3\\envs\\mylab\\lib\\site-packages (from ipykernel->jupyter-dash) (8.6.0)\n",
      "Requirement already satisfied: jupyter-core!=5.0.*,>=4.12 in c:\\users\\alex\\anaconda3\\envs\\mylab\\lib\\site-packages (from ipykernel->jupyter-dash) (5.5.0)\n",
      "Requirement already satisfied: matplotlib-inline>=0.1 in c:\\users\\alex\\anaconda3\\envs\\mylab\\lib\\site-packages (from ipykernel->jupyter-dash) (0.1.6)\n",
      "Requirement already satisfied: packaging in c:\\users\\alex\\anaconda3\\envs\\mylab\\lib\\site-packages (from ipykernel->jupyter-dash) (23.1)\n",
      "Requirement already satisfied: psutil in c:\\users\\alex\\anaconda3\\envs\\mylab\\lib\\site-packages (from ipykernel->jupyter-dash) (5.9.0)\n",
      "Requirement already satisfied: pyzmq>=20 in c:\\users\\alex\\anaconda3\\envs\\mylab\\lib\\site-packages (from ipykernel->jupyter-dash) (25.1.0)\n",
      "Requirement already satisfied: tornado>=6.1 in c:\\users\\alex\\anaconda3\\envs\\mylab\\lib\\site-packages (from ipykernel->jupyter-dash) (6.3.3)\n",
      "Requirement already satisfied: traitlets>=5.4.0 in c:\\users\\alex\\anaconda3\\envs\\mylab\\lib\\site-packages (from ipykernel->jupyter-dash) (5.7.1)\n",
      "Requirement already satisfied: backcall in c:\\users\\alex\\anaconda3\\envs\\mylab\\lib\\site-packages (from ipython->jupyter-dash) (0.2.0)\n",
      "Requirement already satisfied: decorator in c:\\users\\alex\\anaconda3\\envs\\mylab\\lib\\site-packages (from ipython->jupyter-dash) (5.1.1)\n",
      "Requirement already satisfied: jedi>=0.16 in c:\\users\\alex\\anaconda3\\envs\\mylab\\lib\\site-packages (from ipython->jupyter-dash) (0.18.1)\n",
      "Requirement already satisfied: pickleshare in c:\\users\\alex\\anaconda3\\envs\\mylab\\lib\\site-packages (from ipython->jupyter-dash) (0.7.5)\n",
      "Requirement already satisfied: prompt-toolkit!=3.0.37,<3.1.0,>=3.0.30 in c:\\users\\alex\\anaconda3\\envs\\mylab\\lib\\site-packages (from ipython->jupyter-dash) (3.0.36)\n",
      "Requirement already satisfied: pygments>=2.4.0 in c:\\users\\alex\\anaconda3\\envs\\mylab\\lib\\site-packages (from ipython->jupyter-dash) (2.15.1)\n",
      "Requirement already satisfied: stack-data in c:\\users\\alex\\anaconda3\\envs\\mylab\\lib\\site-packages (from ipython->jupyter-dash) (0.2.0)\n",
      "Requirement already satisfied: colorama in c:\\users\\alex\\anaconda3\\envs\\mylab\\lib\\site-packages (from ipython->jupyter-dash) (0.4.6)\n",
      "Requirement already satisfied: charset-normalizer<4,>=2 in c:\\users\\alex\\anaconda3\\envs\\mylab\\lib\\site-packages (from requests->jupyter-dash) (3.3.2)\n",
      "Requirement already satisfied: idna<4,>=2.5 in c:\\users\\alex\\anaconda3\\envs\\mylab\\lib\\site-packages (from requests->jupyter-dash) (3.6)\n",
      "Requirement already satisfied: urllib3<3,>=1.21.1 in c:\\users\\alex\\anaconda3\\envs\\mylab\\lib\\site-packages (from requests->jupyter-dash) (1.26.18)\n",
      "Requirement already satisfied: certifi>=2017.4.17 in c:\\users\\alex\\anaconda3\\envs\\mylab\\lib\\site-packages (from requests->jupyter-dash) (2023.11.17)\n",
      "Requirement already satisfied: six>=1.7.0 in c:\\users\\alex\\anaconda3\\envs\\mylab\\lib\\site-packages (from retrying->jupyter-dash) (1.16.0)\n",
      "Requirement already satisfied: parso<0.9.0,>=0.8.0 in c:\\users\\alex\\anaconda3\\envs\\mylab\\lib\\site-packages (from jedi>=0.16->ipython->jupyter-dash) (0.8.3)\n",
      "Collecting MarkupSafe>=2.0 (from Jinja2>=3.1.2->flask->jupyter-dash)\n",
      "  Downloading MarkupSafe-2.1.5-cp311-cp311-win_amd64.whl.metadata (3.1 kB)\n",
      "Requirement already satisfied: python-dateutil>=2.8.2 in c:\\users\\alex\\anaconda3\\envs\\mylab\\lib\\site-packages (from jupyter-client>=6.1.12->ipykernel->jupyter-dash) (2.8.2)\n",
      "Requirement already satisfied: platformdirs>=2.5 in c:\\users\\alex\\anaconda3\\envs\\mylab\\lib\\site-packages (from jupyter-core!=5.0.*,>=4.12->ipykernel->jupyter-dash) (3.10.0)\n",
      "Requirement already satisfied: pywin32>=300 in c:\\users\\alex\\anaconda3\\envs\\mylab\\lib\\site-packages (from jupyter-core!=5.0.*,>=4.12->ipykernel->jupyter-dash) (305.1)\n",
      "Requirement already satisfied: tenacity>=6.2.0 in c:\\users\\alex\\anaconda3\\envs\\mylab\\lib\\site-packages (from plotly>=5.0.0->dash->jupyter-dash) (8.2.3)\n",
      "Requirement already satisfied: wcwidth in c:\\users\\alex\\anaconda3\\envs\\mylab\\lib\\site-packages (from prompt-toolkit!=3.0.37,<3.1.0,>=3.0.30->ipython->jupyter-dash) (0.2.5)\n",
      "Requirement already satisfied: zipp>=0.5 in c:\\users\\alex\\anaconda3\\envs\\mylab\\lib\\site-packages (from importlib-metadata->dash->jupyter-dash) (3.17.0)\n",
      "Requirement already satisfied: executing in c:\\users\\alex\\anaconda3\\envs\\mylab\\lib\\site-packages (from stack-data->ipython->jupyter-dash) (0.8.3)\n",
      "Requirement already satisfied: asttokens in c:\\users\\alex\\anaconda3\\envs\\mylab\\lib\\site-packages (from stack-data->ipython->jupyter-dash) (2.0.5)\n",
      "Requirement already satisfied: pure-eval in c:\\users\\alex\\anaconda3\\envs\\mylab\\lib\\site-packages (from stack-data->ipython->jupyter-dash) (0.2.2)\n",
      "Downloading jupyter_dash-0.4.2-py3-none-any.whl (23 kB)\n",
      "Downloading ansi2html-1.9.1-py3-none-any.whl (17 kB)\n",
      "Downloading dash-2.16.1-py3-none-any.whl (10.2 MB)\n",
      "   ---------------------------------------- 0.0/10.2 MB ? eta -:--:--\n",
      "   ---------------------------------------- 0.1/10.2 MB 4.8 MB/s eta 0:00:03\n",
      "    --------------------------------------- 0.2/10.2 MB 4.1 MB/s eta 0:00:03\n",
      "   - -------------------------------------- 0.4/10.2 MB 3.6 MB/s eta 0:00:03\n",
      "   -- ------------------------------------- 0.6/10.2 MB 3.7 MB/s eta 0:00:03\n",
      "   -- ------------------------------------- 0.7/10.2 MB 3.8 MB/s eta 0:00:03\n",
      "   --- ------------------------------------ 0.9/10.2 MB 3.5 MB/s eta 0:00:03\n",
      "   ---- ----------------------------------- 1.1/10.2 MB 3.6 MB/s eta 0:00:03\n",
      "   ---- ----------------------------------- 1.2/10.2 MB 3.4 MB/s eta 0:00:03\n",
      "   ----- ---------------------------------- 1.4/10.2 MB 3.4 MB/s eta 0:00:03\n",
      "   ------ --------------------------------- 1.6/10.2 MB 3.4 MB/s eta 0:00:03\n",
      "   ------ --------------------------------- 1.7/10.2 MB 3.5 MB/s eta 0:00:03\n",
      "   ------- -------------------------------- 1.9/10.2 MB 3.4 MB/s eta 0:00:03\n",
      "   ------- -------------------------------- 2.0/10.2 MB 3.4 MB/s eta 0:00:03\n",
      "   -------- ------------------------------- 2.1/10.2 MB 3.3 MB/s eta 0:00:03\n",
      "   --------- ------------------------------ 2.3/10.2 MB 3.4 MB/s eta 0:00:03\n",
      "   --------- ------------------------------ 2.5/10.2 MB 3.4 MB/s eta 0:00:03\n",
      "   ---------- ----------------------------- 2.7/10.2 MB 3.4 MB/s eta 0:00:03\n",
      "   ----------- ---------------------------- 2.8/10.2 MB 3.4 MB/s eta 0:00:03\n",
      "   ----------- ---------------------------- 3.0/10.2 MB 3.4 MB/s eta 0:00:03\n",
      "   ------------ --------------------------- 3.2/10.2 MB 3.5 MB/s eta 0:00:03\n",
      "   ------------- -------------------------- 3.4/10.2 MB 3.5 MB/s eta 0:00:02\n",
      "   ------------- -------------------------- 3.5/10.2 MB 3.4 MB/s eta 0:00:02\n",
      "   -------------- ------------------------- 3.7/10.2 MB 3.4 MB/s eta 0:00:02\n",
      "   --------------- ------------------------ 3.8/10.2 MB 3.5 MB/s eta 0:00:02\n",
      "   --------------- ------------------------ 4.0/10.2 MB 3.4 MB/s eta 0:00:02\n",
      "   ---------------- ----------------------- 4.2/10.2 MB 3.5 MB/s eta 0:00:02\n",
      "   ----------------- ---------------------- 4.4/10.2 MB 3.5 MB/s eta 0:00:02\n",
      "   ----------------- ---------------------- 4.5/10.2 MB 3.5 MB/s eta 0:00:02\n",
      "   ------------------ --------------------- 4.7/10.2 MB 3.4 MB/s eta 0:00:02\n",
      "   ------------------ --------------------- 4.8/10.2 MB 3.5 MB/s eta 0:00:02\n",
      "   ------------------- -------------------- 5.0/10.2 MB 3.5 MB/s eta 0:00:02\n",
      "   -------------------- ------------------- 5.2/10.2 MB 3.4 MB/s eta 0:00:02\n",
      "   -------------------- ------------------- 5.4/10.2 MB 3.5 MB/s eta 0:00:02\n",
      "   --------------------- ------------------ 5.5/10.2 MB 3.5 MB/s eta 0:00:02\n",
      "   ---------------------- ----------------- 5.7/10.2 MB 3.5 MB/s eta 0:00:02\n",
      "   ---------------------- ----------------- 5.9/10.2 MB 3.5 MB/s eta 0:00:02\n",
      "   ----------------------- ---------------- 6.0/10.2 MB 3.5 MB/s eta 0:00:02\n",
      "   ------------------------ --------------- 6.2/10.2 MB 3.5 MB/s eta 0:00:02\n",
      "   ------------------------ --------------- 6.3/10.2 MB 3.4 MB/s eta 0:00:02\n",
      "   ------------------------- -------------- 6.5/10.2 MB 3.4 MB/s eta 0:00:02\n",
      "   -------------------------- ------------- 6.7/10.2 MB 3.5 MB/s eta 0:00:02\n",
      "   -------------------------- ------------- 6.8/10.2 MB 3.5 MB/s eta 0:00:01\n",
      "   --------------------------- ------------ 7.0/10.2 MB 3.5 MB/s eta 0:00:01\n",
      "   ---------------------------- ----------- 7.2/10.2 MB 3.5 MB/s eta 0:00:01\n",
      "   ---------------------------- ----------- 7.3/10.2 MB 3.5 MB/s eta 0:00:01\n",
      "   ----------------------------- ---------- 7.5/10.2 MB 3.5 MB/s eta 0:00:01\n",
      "   ------------------------------ --------- 7.7/10.2 MB 3.5 MB/s eta 0:00:01\n",
      "   ------------------------------ --------- 7.8/10.2 MB 3.5 MB/s eta 0:00:01\n",
      "   ------------------------------- -------- 8.0/10.2 MB 3.5 MB/s eta 0:00:01\n",
      "   ------------------------------- -------- 8.1/10.2 MB 3.5 MB/s eta 0:00:01\n",
      "   -------------------------------- ------- 8.3/10.2 MB 3.5 MB/s eta 0:00:01\n",
      "   --------------------------------- ------ 8.4/10.2 MB 3.5 MB/s eta 0:00:01\n",
      "   --------------------------------- ------ 8.6/10.2 MB 3.4 MB/s eta 0:00:01\n",
      "   ---------------------------------- ----- 8.7/10.2 MB 3.4 MB/s eta 0:00:01\n",
      "   ---------------------------------- ----- 8.9/10.2 MB 3.4 MB/s eta 0:00:01\n",
      "   ----------------------------------- ---- 9.0/10.2 MB 3.4 MB/s eta 0:00:01\n",
      "   ------------------------------------ --- 9.2/10.2 MB 3.4 MB/s eta 0:00:01\n",
      "   ------------------------------------ --- 9.4/10.2 MB 3.4 MB/s eta 0:00:01\n",
      "   ------------------------------------- -- 9.6/10.2 MB 3.4 MB/s eta 0:00:01\n",
      "   ------------------------------------- -- 9.7/10.2 MB 3.4 MB/s eta 0:00:01\n",
      "   -------------------------------------- - 9.9/10.2 MB 3.4 MB/s eta 0:00:01\n",
      "   ---------------------------------------  10.1/10.2 MB 3.4 MB/s eta 0:00:01\n",
      "   ---------------------------------------  10.2/10.2 MB 3.5 MB/s eta 0:00:01\n",
      "   ---------------------------------------- 10.2/10.2 MB 3.4 MB/s eta 0:00:00\n",
      "Downloading dash_core_components-2.0.0-py3-none-any.whl (3.8 kB)\n",
      "Downloading dash_html_components-2.0.0-py3-none-any.whl (4.1 kB)\n",
      "Downloading dash_table-5.0.0-py3-none-any.whl (3.9 kB)\n",
      "Downloading flask-3.0.2-py3-none-any.whl (101 kB)\n",
      "   ---------------------------------------- 0.0/101.3 kB ? eta -:--:--\n",
      "   ---------------------------------------- 101.3/101.3 kB 5.7 MB/s eta 0:00:00\n",
      "Downloading retrying-1.3.4-py3-none-any.whl (11 kB)\n",
      "Downloading blinker-1.7.0-py3-none-any.whl (13 kB)\n",
      "Downloading click-8.1.7-py3-none-any.whl (97 kB)\n",
      "   ---------------------------------------- 0.0/97.9 kB ? eta -:--:--\n",
      "   ---------------------------------------- 97.9/97.9 kB 2.8 MB/s eta 0:00:00\n",
      "Downloading itsdangerous-2.1.2-py3-none-any.whl (15 kB)\n",
      "Downloading Jinja2-3.1.3-py3-none-any.whl (133 kB)\n",
      "   ---------------------------------------- 0.0/133.2 kB ? eta -:--:--\n",
      "   ---------------------------------------  133.1/133.2 kB 8.2 MB/s eta 0:00:01\n",
      "   ---------------------------------------- 133.2/133.2 kB 2.7 MB/s eta 0:00:00\n",
      "Downloading werkzeug-3.0.1-py3-none-any.whl (226 kB)\n",
      "   ---------------------------------------- 0.0/226.7 kB ? eta -:--:--\n",
      "   ---------------------------------------  225.3/226.7 kB 6.9 MB/s eta 0:00:01\n",
      "   ---------------------------------------- 226.7/226.7 kB 3.5 MB/s eta 0:00:00\n",
      "Downloading MarkupSafe-2.1.5-cp311-cp311-win_amd64.whl (17 kB)\n",
      "Installing collected packages: dash-table, dash-html-components, dash-core-components, retrying, MarkupSafe, itsdangerous, click, blinker, ansi2html, Werkzeug, Jinja2, flask, dash, jupyter-dash\n",
      "Successfully installed Jinja2-3.1.3 MarkupSafe-2.1.5 Werkzeug-3.0.1 ansi2html-1.9.1 blinker-1.7.0 click-8.1.7 dash-2.16.1 dash-core-components-2.0.0 dash-html-components-2.0.0 dash-table-5.0.0 flask-3.0.2 itsdangerous-2.1.2 jupyter-dash-0.4.2 retrying-1.3.4\n",
      "Note: you may need to restart the kernel to use updated packages.\n"
     ]
    },
    {
     "name": "stderr",
     "output_type": "stream",
     "text": [
      "  WARNING: The script ansi2html.exe is installed in 'C:\\Users\\Alex\\anaconda3\\envs\\mylab\\Scripts' which is not on PATH.\n",
      "  Consider adding this directory to PATH or, if you prefer to suppress this warning, use --no-warn-script-location.\n",
      "  WARNING: The script flask.exe is installed in 'C:\\Users\\Alex\\anaconda3\\envs\\mylab\\Scripts' which is not on PATH.\n",
      "  Consider adding this directory to PATH or, if you prefer to suppress this warning, use --no-warn-script-location.\n",
      "  WARNING: The scripts dash-generate-components.exe, dash-update-components.exe and renderer.exe are installed in 'C:\\Users\\Alex\\anaconda3\\envs\\mylab\\Scripts' which is not on PATH.\n",
      "  Consider adding this directory to PATH or, if you prefer to suppress this warning, use --no-warn-script-location.\n"
     ]
    }
   ],
   "source": [
    "%pip install jupyter-dash"
   ]
  },
  {
   "cell_type": "code",
   "execution_count": 13,
   "id": "1e2f62e1",
   "metadata": {},
   "outputs": [
    {
     "name": "stdout",
     "output_type": "stream",
     "text": [
      "Dash app running on http://127.0.0.1:8050/\n"
     ]
    },
    {
     "data": {
      "application/javascript": [
       "window.open('http://127.0.0.1:8050/')"
      ],
      "text/plain": [
       "<IPython.core.display.Javascript object>"
      ]
     },
     "metadata": {},
     "output_type": "display_data"
    }
   ],
   "source": [
    "from dash import Dash, html, dcc, callback, Output, Input\n",
    "import plotly.express as px\n",
    "import pandas as pd\n",
    "\n",
    "df = pd.read_csv('https://raw.githubusercontent.com/plotly/datasets/master/gapminder_unfiltered.csv')\n",
    "\n",
    "app = Dash(__name__)\n",
    "\n",
    "app.layout = html.Div([\n",
    "    html.H1(children='Title Of Dash App', style={'textAlign':'center'}),\n",
    "    dcc.Dropdown(df.country.unique(), 'Canada', id='dropdown-selection'),\n",
    "    dcc.Graph(id='graph-content')\n",
    "])\n",
    "\n",
    "@callback(\n",
    "    Output('graph-content', 'figure'),\n",
    "    Input('dropdown-selection', 'value')\n",
    ")\n",
    "\n",
    "def update_graph(value):\n",
    "    dff = df[df.country==value]\n",
    "    return px.line(dff, x='year', y='pop')\n",
    "\n",
    "if __name__ == '__main__':\n",
    "    app.run_server(debug=True, jupyter_mode='tab')"
   ]
  },
  {
   "cell_type": "code",
   "execution_count": null,
   "id": "a06c4cde",
   "metadata": {},
   "outputs": [],
   "source": []
  }
 ],
 "metadata": {
  "kernelspec": {
   "display_name": "mylab",
   "language": "python",
   "name": "mylab"
  },
  "language_info": {
   "codemirror_mode": {
    "name": "ipython",
    "version": 3
   },
   "file_extension": ".py",
   "mimetype": "text/x-python",
   "name": "python",
   "nbconvert_exporter": "python",
   "pygments_lexer": "ipython3",
   "version": "3.11.5"
  }
 },
 "nbformat": 4,
 "nbformat_minor": 5
}
