{
 "cells": [
  {
   "cell_type": "markdown",
   "id": "f4283b78",
   "metadata": {},
   "source": [
    "# Imports"
   ]
  },
  {
   "cell_type": "code",
   "execution_count": 1,
   "id": "fd69edb0",
   "metadata": {},
   "outputs": [],
   "source": [
    "import pandas as pd\n",
    "import zipfile\n",
    "from datetime import datetime\n",
    "import math\n",
    "import os.path\n",
    "import re\n",
    "import xml.etree.ElementTree as ET\n",
    "import numpy as np\n",
    "import matplotlib.pyplot as plt\n",
    "import plotly.express as px\n",
    "import plotly.graph_objects as go\n",
    "from pyod.models.knn import KNN\n",
    "import yfinance as yf\n",
    "from urllib.error import HTTPError\n",
    "from dash import Dash, html, dcc, callback, Output, Input, State, dash_table\n",
    "import warnings\n",
    "\n",
    "warnings.filterwarnings(\"ignore\")"
   ]
  },
  {
   "cell_type": "markdown",
   "id": "72c4f25f",
   "metadata": {},
   "source": [
    "# Variáveis"
   ]
  },
  {
   "cell_type": "code",
   "execution_count": 2,
   "id": "da0256dc",
   "metadata": {},
   "outputs": [],
   "source": [
    "path_dataset = '../dataset/'\n",
    "file_list_fii = f'{path_dataset}BDovI.csv'\n",
    "path_cvm_monthly = f'{path_dataset}cvm_monthly/'\n",
    "path_cvm_quarterly = f'{path_dataset}cvm_quarterly/'\n",
    "path_cvm_dividend = f'{path_dataset}cvm_dividend/'"
   ]
  },
  {
   "cell_type": "code",
   "execution_count": 3,
   "id": "06664b43",
   "metadata": {},
   "outputs": [],
   "source": [
    "columns_metrics = ['Metric', 'Grade_Asc', 'Interval_0', 'Interval_25', 'Interval_50', 'Interval_75', 'Interval_100',\n",
    "                   'Grade_0', 'Grade_25', 'Grade_50', 'Grade_75', 'Grade_100', 'Coef_0', 'Coef_25', 'Coef_50', 'Coef_75']\n",
    "\n",
    "columns_grade = ['Ticker', 'Metric', 'Value', 'Grade']\n",
    "\n",
    "columns_yf = ['Ticker', 'Ticker_YF', 'currentPrice', 'regularMarketPreviousClose', 'averageVolume']\n",
    "\n",
    "# equity_growth = 'Equity Growth'\n",
    "# pvp = 'PVP'\n",
    "# shareholders = 'Shareholders'\n",
    "# liquidity = 'Liquidity'\n",
    "# dividend_yield = 'Dividend Yield'\n",
    "# dividend_share = 'Dividend per Share'\n",
    "# vacancy = 'Vacancy'\n",
    "# default = 'Default'\n",
    "\n",
    "equity_growth = 'Evolucao Patrimonial'\n",
    "pvp = 'PVP'\n",
    "shareholders = 'Cotistas'\n",
    "liquidity = 'Liquidez'\n",
    "dividend_yield = 'Dividend Yield'\n",
    "dividend_share = 'Dividend Cota'\n",
    "vacancy = 'Vacancia'\n",
    "default = 'Inadimplencia'\n",
    "\n",
    "metrics = [equity_growth, pvp, shareholders, liquidity, dividend_yield, dividend_share, vacancy, default]"
   ]
  },
  {
   "cell_type": "code",
   "execution_count": 4,
   "id": "1c5299dc",
   "metadata": {},
   "outputs": [],
   "source": [
    "df_metrics = pd.DataFrame(columns=columns_metrics)\n",
    "df_grade = pd.DataFrame(columns=columns_grade)\n",
    "df_yf_info = pd.DataFrame(columns=columns_yf)"
   ]
  },
  {
   "cell_type": "markdown",
   "id": "bdcc2718",
   "metadata": {},
   "source": [
    "# Dataframe de FIIs com CNPJ e ticker"
   ]
  },
  {
   "cell_type": "code",
   "execution_count": 5,
   "id": "6dbdba79",
   "metadata": {},
   "outputs": [
    {
     "data": {
      "text/html": [
       "<div>\n",
       "<style scoped>\n",
       "    .dataframe tbody tr th:only-of-type {\n",
       "        vertical-align: middle;\n",
       "    }\n",
       "\n",
       "    .dataframe tbody tr th {\n",
       "        vertical-align: top;\n",
       "    }\n",
       "\n",
       "    .dataframe thead th {\n",
       "        text-align: right;\n",
       "    }\n",
       "</style>\n",
       "<table border=\"1\" class=\"dataframe\">\n",
       "  <thead>\n",
       "    <tr style=\"text-align: right;\">\n",
       "      <th></th>\n",
       "      <th>Codigo</th>\n",
       "      <th>CNPJ</th>\n",
       "    </tr>\n",
       "  </thead>\n",
       "  <tbody>\n",
       "    <tr>\n",
       "      <th>0</th>\n",
       "      <td>ABCP11</td>\n",
       "      <td>01.201.140/0001-90</td>\n",
       "    </tr>\n",
       "    <tr>\n",
       "      <th>1</th>\n",
       "      <td>AFHI11</td>\n",
       "      <td>36.642.293/0001-58</td>\n",
       "    </tr>\n",
       "    <tr>\n",
       "      <th>2</th>\n",
       "      <td>AIEC11</td>\n",
       "      <td>35.765.826/0001-26</td>\n",
       "    </tr>\n",
       "    <tr>\n",
       "      <th>3</th>\n",
       "      <td>ALMI11</td>\n",
       "      <td>07.122.725/0001-00</td>\n",
       "    </tr>\n",
       "    <tr>\n",
       "      <th>4</th>\n",
       "      <td>ALZM11</td>\n",
       "      <td>34.847.063/0001-08</td>\n",
       "    </tr>\n",
       "    <tr>\n",
       "      <th>...</th>\n",
       "      <td>...</td>\n",
       "      <td>...</td>\n",
       "    </tr>\n",
       "    <tr>\n",
       "      <th>420</th>\n",
       "      <td>XPPR11</td>\n",
       "      <td>30.654.849/0001-40</td>\n",
       "    </tr>\n",
       "    <tr>\n",
       "      <th>421</th>\n",
       "      <td>XPSF11</td>\n",
       "      <td>30.983.020/0001-90</td>\n",
       "    </tr>\n",
       "    <tr>\n",
       "      <th>422</th>\n",
       "      <td>YUFI11</td>\n",
       "      <td>36.445.551/0001-06</td>\n",
       "    </tr>\n",
       "    <tr>\n",
       "      <th>423</th>\n",
       "      <td>ZAVI11</td>\n",
       "      <td>40.575.940/0001-23</td>\n",
       "    </tr>\n",
       "    <tr>\n",
       "      <th>424</th>\n",
       "      <td>ZIFI11</td>\n",
       "      <td>35.820.768/0001-96</td>\n",
       "    </tr>\n",
       "  </tbody>\n",
       "</table>\n",
       "<p>425 rows × 2 columns</p>\n",
       "</div>"
      ],
      "text/plain": [
       "     Codigo                CNPJ\n",
       "0    ABCP11  01.201.140/0001-90\n",
       "1    AFHI11  36.642.293/0001-58\n",
       "2    AIEC11  35.765.826/0001-26\n",
       "3    ALMI11  07.122.725/0001-00\n",
       "4    ALZM11  34.847.063/0001-08\n",
       "..      ...                 ...\n",
       "420  XPPR11  30.654.849/0001-40\n",
       "421  XPSF11  30.983.020/0001-90\n",
       "422  YUFI11  36.445.551/0001-06\n",
       "423  ZAVI11  40.575.940/0001-23\n",
       "424  ZIFI11  35.820.768/0001-96\n",
       "\n",
       "[425 rows x 2 columns]"
      ]
     },
     "execution_count": 5,
     "metadata": {},
     "output_type": "execute_result"
    }
   ],
   "source": [
    "df_list_fii = pd.read_csv(file_list_fii)\n",
    "df_list_fii = df_list_fii.iloc[:, [2,4]]\n",
    "df_list_fii"
   ]
  },
  {
   "cell_type": "markdown",
   "id": "805b74e8",
   "metadata": {},
   "source": [
    "# Funções Gerais"
   ]
  },
  {
   "cell_type": "code",
   "execution_count": 6,
   "id": "69be7461",
   "metadata": {},
   "outputs": [],
   "source": [
    "def diff_month(d1, d2):\n",
    "    return (d1.year - d2.year) * 12 + d1.month - d2.month"
   ]
  },
  {
   "cell_type": "code",
   "execution_count": 7,
   "id": "0602362c",
   "metadata": {},
   "outputs": [],
   "source": [
    "#outliers = get_outliers(df_dividend_yield[['DY_Mean']])\n",
    "#df_dividend_yield.iloc[outliers,:]\n",
    "\n",
    "def get_outliers(values):\n",
    "    detector = KNN(contamination=0.025)\n",
    "    detector.fit(values)\n",
    "\n",
    "    predictions = detector.labels_\n",
    "    \n",
    "    outliers = [i for i in range(len(predictions)) if predictions[i] == 1]\n",
    "\n",
    "    return outliers\n",
    "\n",
    "\n",
    "def get_box_plot_data(labels, bp):\n",
    "    rows_list = []\n",
    "\n",
    "    # res  = {}\n",
    "    # for key, value in bp.items():\n",
    "    #     res[key] = [v.get_data() for v in value]\n",
    "    #     print(res[key])\n",
    "\n",
    "    for i in range(len(labels)):\n",
    "        dict1 = {}\n",
    "        dict1['label'] = labels[i]\n",
    "        dict1['lower_whisker'] = bp['whiskers'][i*2].get_ydata()[1]\n",
    "        dict1['lower_quartile'] = bp['boxes'][i].get_ydata()[1]\n",
    "        dict1['median'] = bp['medians'][i].get_ydata()[1]\n",
    "        dict1['upper_quartile'] = bp['boxes'][i].get_ydata()[2]\n",
    "        dict1['upper_whisker'] = bp['whiskers'][(i*2)+1].get_ydata()[1]\n",
    "        rows_list.append(dict1)\n",
    "\n",
    "    return pd.DataFrame(rows_list)"
   ]
  },
  {
   "cell_type": "code",
   "execution_count": 8,
   "id": "08d4f1f3",
   "metadata": {},
   "outputs": [],
   "source": [
    "def add_yf_ticker_suffix(ticker):\n",
    "    return ticker + '.SA'\n",
    "\n",
    "def download_yf_info():\n",
    "    global df_yf_info, columns_yf\n",
    "\n",
    "    tickers = df_current['Ticker'].values\n",
    "\n",
    "    for ticker in tickers:\n",
    "        if ticker not in df_yf_info['Ticker'].values:\n",
    "            ticker_yf = add_yf_ticker_suffix(ticker)\n",
    "\n",
    "            try:\n",
    "                print(ticker)\n",
    "                new_row = dict.fromkeys(columns_yf)\n",
    "\n",
    "                fii = yf.Ticker(ticker_yf)\n",
    "                fii_info = fii.info\n",
    "                new_row['Ticker'] = ticker\n",
    "                new_row['Ticker_YF'] = ticker_yf\n",
    "\n",
    "                for column in columns_yf:\n",
    "                    if column in fii_info:\n",
    "                        new_row[column] = fii.info[column]\n",
    "\n",
    "                i = len(df_yf_info)\n",
    "                df_yf_info.loc[i] = new_row\n",
    "                #if i > 5:\n",
    "                #    break;\n",
    "            except Exception as err:\n",
    "                print(err)\n",
    "\n",
    "# def get_fii_current_price(ticker):\n",
    "#     print(ticker)\n",
    "#     fii = yf.Ticker(ticker + '.SA')\n",
    "\n",
    "#     if 'currentPrice' in fii.info:\n",
    "#         return fii.info['currentPrice']\n",
    "#     elif 'regularMarketPreviousClose' in fii.info:\n",
    "#         return fii.info['regularMarketPreviousClose']\n",
    "#     else:\n",
    "#         return None\n",
    "    \n",
    "# def download_yf_data():\n",
    "#     global df_yf\n",
    "    \n",
    "#     df_yf = yf.download(tickers_yf, period='1d')\n",
    "    \n",
    "\n",
    "# def get_yf_ticker_last_close(ticker):\n",
    "#     global df_yf\n",
    "    \n",
    "#     ticker_yf = add_yf_ticker_suffix(ticker)\n",
    "    \n",
    "#     return df_yf.iloc[-1,:]['Adj Close'][ticker_yf]\n",
    "\n",
    "# def get_yf_ticker_last_volume(ticker):\n",
    "#     global df_yf\n",
    "    \n",
    "#     ticker_yf = add_yf_ticker_suffix(ticker)\n",
    "    \n",
    "#     return df_yf.iloc[-1,:]['Volume'][ticker_yf]"
   ]
  },
  {
   "cell_type": "markdown",
   "id": "152a0816",
   "metadata": {},
   "source": [
    "# Funções CVM"
   ]
  },
  {
   "cell_type": "code",
   "execution_count": 9,
   "id": "0b2af6a6",
   "metadata": {},
   "outputs": [],
   "source": [
    "def get_cvm_monthly_data():\n",
    "    df_final = None\n",
    "    df_geral = None\n",
    "    df_complemento = None\n",
    "    df_ativo_passivo = None\n",
    "    \n",
    "    zip_files = [os.path.join(path_cvm_monthly, name) for name in os.listdir(path_cvm_monthly)]\n",
    "\n",
    "    for zip_file in zip_files:\n",
    "        with zipfile.ZipFile(zip_file) as zf:\n",
    "            csv_files = zf.infolist()\n",
    "            for csv_file in csv_files:\n",
    "                df = pd.read_csv(zf.open(csv_file.filename), encoding='ISO-8859-1', delimiter=';')\n",
    "                if csv_file.filename.startswith(\"inf_mensal_fii_geral\"):\n",
    "                    df_geral = pd.concat([df_geral, df], ignore_index = True)\n",
    "                elif csv_file.filename.startswith(\"inf_mensal_fii_complemento\"):\n",
    "                    df_complemento = pd.concat([df_complemento, df], ignore_index = True)\n",
    "                elif csv_file.filename.startswith(\"inf_mensal_fii_ativo_passivo\"):\n",
    "                    df_ativo_passivo = pd.concat([df_ativo_passivo, df], ignore_index = True)\n",
    "    \n",
    "    df_final = df_geral.join(df_complemento.set_index(['CNPJ_Fundo', 'Data_Referencia', 'Versao']), on=['CNPJ_Fundo', 'Data_Referencia', 'Versao'])\n",
    "    df_final = df_final.join(df_ativo_passivo.set_index(['CNPJ_Fundo', 'Data_Referencia', 'Versao']), on=['CNPJ_Fundo', 'Data_Referencia', 'Versao'])\n",
    "    \n",
    "    df_final = df_final.join(df_list_fii.set_index(['CNPJ']), on=['CNPJ_Fundo'])\n",
    "    df_final.insert(0, 'Ticker', df_final.pop('Codigo'))\n",
    "    df_final.dropna(subset=['Ticker'], inplace=True)\n",
    "    df_final\n",
    "\n",
    "    return df_final"
   ]
  },
  {
   "cell_type": "code",
   "execution_count": 10,
   "id": "b76f395e",
   "metadata": {},
   "outputs": [],
   "source": [
    "def get_cvm_quarterly_data():\n",
    "    df_imovel = None\n",
    "    df_inquilino = None\n",
    "    df_ativo = None\n",
    "    \n",
    "    zip_files = [os.path.join(path_cvm_quarterly, name) for name in os.listdir(path_cvm_quarterly)]\n",
    "\n",
    "    for zip_file in zip_files:\n",
    "        with zipfile.ZipFile(zip_file) as zf:\n",
    "            csv_files = zf.infolist()\n",
    "            for csv_file in csv_files:\n",
    "                df = pd.read_csv(zf.open(csv_file.filename), encoding='ISO-8859-1', delimiter=';')\n",
    "                if re.match(r\"inf_trimestral_fii_imovel_\\d{4}\\.csv\", csv_file.filename):\n",
    "                    df_imovel = pd.concat([df_imovel, df], ignore_index = True)\n",
    "                elif re.match(r\"inf_trimestral_fii_imovel_renda_acabado_inquilino_\\d{4}\\.csv\", csv_file.filename):\n",
    "                    df_inquilino = pd.concat([df_inquilino, df], ignore_index = True)\n",
    "                elif re.match(r\"inf_trimestral_fii_ativo_\\d{4}\\.csv\", csv_file.filename):\n",
    "                    df_ativo = pd.concat([df_ativo, df], ignore_index = True)\n",
    "                    \n",
    "    df_imovel = df_imovel.join(df_list_fii.set_index(['CNPJ']), on=['CNPJ_Fundo'])\n",
    "    df_imovel.insert(0, 'Ticker', df_imovel.pop('Codigo'))\n",
    "    df_imovel.dropna(subset=['Ticker'], inplace=True)\n",
    "    df_imovel['Data_Referencia'] = pd.to_datetime(df_imovel['Data_Referencia'], format='%Y-%m-%d')\n",
    "    df_imovel\n",
    "    \n",
    "    df_inquilino = df_inquilino.join(df_list_fii.set_index(['CNPJ']), on=['CNPJ_Fundo'])\n",
    "    df_inquilino.insert(0, 'Ticker', df_inquilino.pop('Codigo'))\n",
    "    df_inquilino.dropna(subset=['Ticker'], inplace=True)\n",
    "    df_inquilino['Data_Referencia'] = pd.to_datetime(df_inquilino['Data_Referencia'], format='%Y-%m-%d')\n",
    "    df_inquilino\n",
    "    \n",
    "    df_ativo = df_ativo.join(df_list_fii.set_index(['CNPJ']), on=['CNPJ_Fundo'])\n",
    "    df_ativo.insert(0, 'Ticker', df_ativo.pop('Codigo'))\n",
    "    df_ativo.insert(7, 'Quantidade', df_ativo.pop('Quantidade'))\n",
    "    df_ativo.insert(8, 'Valor', df_ativo.pop('Valor'))\n",
    "    df_ativo.dropna(subset=['Ticker'], inplace=True)\n",
    "    df_ativo['Data_Referencia'] = pd.to_datetime(df_ativo['Data_Referencia'], format='%Y-%m-%d')\n",
    "    df_ativo\n",
    "\n",
    "    return df_imovel, df_inquilino, df_ativo"
   ]
  },
  {
   "cell_type": "code",
   "execution_count": 11,
   "id": "28216324",
   "metadata": {},
   "outputs": [],
   "source": [
    "def get_df_monthly(df_cvm_monthly):\n",
    "    columns_monthly = ['Ticker', 'Data_Referencia', 'Caixa', 'Imoveis', 'Fundos', 'Papeis', 'Alugueis', 'OutrosAtivos', 'Ativos', 'RendDistribuir',\n",
    "                      'Taxas', 'OutrosPassivos', 'Passivos', 'PatrLiquido', 'RentEfetivaMes', 'RentPatrimonialMes', 'DY']\n",
    "\n",
    "    df_monthly = pd.DataFrame(columns=columns_monthly)\n",
    "    i = 0\n",
    "    \n",
    "    #df_monthly_filter = df_cvm_monthly.loc[df_cvm_monthly['Ticker'] == 'KNCR11'].sort_values(['Ticker', 'Data_Referencia'], ascending=[True, False])\n",
    "    df_monthly_filter = df_cvm_monthly.sort_values(['Ticker', 'Data_Referencia'], ascending=[True, False])\n",
    "    df_monthly_filter.fillna(0, inplace = True)    \n",
    "\n",
    "    for index, row in df_monthly_filter.iterrows():\n",
    "        new_row = dict.fromkeys(columns_monthly)\n",
    "        new_row['Ticker'] = row['Ticker']\n",
    "        new_row['Data_Referencia'] = row['Data_Referencia']\n",
    "        new_row['Caixa'] = float(row['Total_Necessidades_Liquidez'])\n",
    "        new_row['Imoveis'] = float(row['Direitos_Bens_Imoveis']) + float(row['Acoes_Sociedades_Atividades_FII'])\n",
    "        new_row['Fundos'] = float(row['Fundo_Acoes']) + float(row['FIP']) + float(row['FII']) + float(row['FDIC'])\n",
    "        new_row['Papeis'] = float(row['CRI']) + float(row['CRI_CRA']) + float(row['Letras_Hipotecarias']) + float(row['LCI']) + float(row['LCI_LCA']) + float(row['LIG'])\n",
    "        new_row['Alugueis'] = float(row['Contas_Receber_Aluguel'])\n",
    "        new_row['OutrosAtivos'] = float(row['Outros_Valores_Mobliarios'])\n",
    "        new_row['Ativos'] = float(row['Valor_Ativo'])\n",
    "        new_row['RendDistribuir'] = float(row['Rendimentos_Distribuir'])\n",
    "        new_row['Taxas'] = float(row['Taxa_Administracao_Pagar']) + float(row['Taxa_Performance_Pagar'])\n",
    "        new_row['OutrosPassivos'] = float(row['Obrigacoes_Aquisicao_Imoveis']) + float(row['Obrigacoes_Securitizacao_Recebiveis']) + float(row['Outros_Valores_Pagar'])\n",
    "        new_row['Passivos'] = float(row['Total_Passivo'])\n",
    "        new_row['PatrLiquido'] = float(row['Patrimonio_Liquido'])\n",
    "        new_row['RentEfetivaMes'] = float(row['Percentual_Rentabilidade_Efetiva_Mes'])\n",
    "        new_row['RentPatrimonialMes'] = float(row['Percentual_Rentabilidade_Patrimonial_Mes'])\n",
    "        new_row['DY'] = float(row['Percentual_Dividend_Yield_Mes'])\n",
    "        df_monthly.loc[i] = new_row\n",
    "        #if i > 5:\n",
    "        #    break;\n",
    "        i = i+1\n",
    "\n",
    "    df_monthly['Data_Referencia'] = pd.to_datetime(df_monthly['Data_Referencia'], format='%Y-%m-%d')\n",
    "\n",
    "    return df_monthly"
   ]
  },
  {
   "cell_type": "code",
   "execution_count": 12,
   "id": "8df7ecb0",
   "metadata": {},
   "outputs": [],
   "source": [
    "def get_cvm_dividend_list(path_document):\n",
    "    columns_rendimento = ['CodISINCota', 'CodISIN', 'CodNegociacaoCota', 'CodNegociacao', 'DataBase', 'DataPagamento', 'ValorProventoCota', 'ValorProvento', 'PeriodoReferencia', 'Ano', 'RendimentoIsentoIR', 'DataInformacao', 'Arquivo']\n",
    "    list_dividend = []\n",
    "    row_rendimento = dict.fromkeys(columns_rendimento)\n",
    "    row_header = None\n",
    "    tag_provento = False\n",
    "    tag_amortizacao = False\n",
    "    row_rendimento['Arquivo'] = path_document\n",
    "    \n",
    "    try:\n",
    "        tree = ET.parse(path_document)\n",
    "        root = tree.getroot()\n",
    "\n",
    "        for element in root.findall(\".//\"):\n",
    "            if element.tag == 'Provento':\n",
    "                tag_provento = True\n",
    "                tag_amortizacao = False\n",
    "                if row_header is None:\n",
    "                    row_header = row_rendimento.copy()\n",
    "                if row_rendimento['DataBase'] is not None:\n",
    "                    list_dividend.append(row_rendimento)\n",
    "                    row_rendimento = row_header.copy()\n",
    "            if element.tag == 'Rendimento':\n",
    "                tag_amortizacao = False\n",
    "                if row_header is None and tag_provento == False:\n",
    "                    row_header = row_rendimento.copy()\n",
    "                if row_rendimento['DataBase'] is not None:\n",
    "                    list_dividend.append(row_rendimento)\n",
    "                    row_rendimento = row_header.copy()\n",
    "            if element.tag == 'Amortizacao':\n",
    "                tag_amortizacao = True\n",
    "                if row_rendimento['DataBase'] is not None:\n",
    "                    list_dividend.append(row_rendimento)\n",
    "                    row_rendimento = row_header.copy()\n",
    "            if tag_amortizacao == False and element.tag in columns_rendimento:\n",
    "                row_rendimento[element.tag] = element.text\n",
    "                    \n",
    "    except Exception as err:\n",
    "        print(err)\n",
    "        print(path_document)\n",
    "    \n",
    "    if row_rendimento['DataBase'] is not None:\n",
    "        list_dividend.append(row_rendimento)\n",
    "        \n",
    "    return list_dividend"
   ]
  },
  {
   "cell_type": "code",
   "execution_count": 13,
   "id": "bd94e99a",
   "metadata": {},
   "outputs": [],
   "source": [
    "def get_cvm_dividend_data():\n",
    "    df_dividend = None\n",
    "    data_dividend = []\n",
    "    i = 0\n",
    "    \n",
    "    folder = f'{path_cvm_dividend}'\n",
    "    files = [os.path.join(folder, name) for name in os.listdir(folder)]\n",
    "\n",
    "    for file in files:\n",
    "        ticker = os.path.basename(file).split('_')[0]\n",
    "        list_dividend = get_cvm_dividend_list(file)\n",
    "        data_dividend.extend(list_dividend)\n",
    "\n",
    "        #i = i + 1\n",
    "        #if i > 1000:\n",
    "        #    break\n",
    "        \n",
    "    df_dividend = pd.DataFrame(data_dividend)\n",
    "    df_dividend['DataBase'] = pd.to_datetime(df_dividend['DataBase'], format='%Y-%m-%d')\n",
    "    df_dividend['ValorProventoCota'] = df_dividend['ValorProventoCota'].astype(float)\n",
    "    df_dividend['ValorProvento'] = df_dividend['ValorProvento'].astype(float)\n",
    "    #df_dividend['DataPagamento'] = pd.to_datetime(df_dividend['DataPagamento'], format='%Y-%m-%d')\n",
    "    #df_dividend['Ano'] = df_dividend['Ano'].astype(int)\n",
    "    #df_dividend['RendimentoIsentoIR'] = df_dividend['RendimentoIsentoIR'].str.capitalize().astype(bool)\n",
    "        \n",
    "    return df_dividend"
   ]
  },
  {
   "cell_type": "markdown",
   "id": "6ba91fc7",
   "metadata": {},
   "source": [
    "# Dataframes CVM"
   ]
  },
  {
   "cell_type": "code",
   "execution_count": 14,
   "id": "681d4d5b",
   "metadata": {},
   "outputs": [],
   "source": [
    "df_cvm_monthly = get_cvm_monthly_data()\n",
    "#df_cvm_monthly"
   ]
  },
  {
   "cell_type": "code",
   "execution_count": 15,
   "id": "918ebf12",
   "metadata": {},
   "outputs": [],
   "source": [
    "df_cvm_quarterly_imovel, df_cvm_quarterly_inquilino, df_cvm_quarterly_ativo = get_cvm_quarterly_data()\n",
    "#df_cvm_quarterly_ativo.head()"
   ]
  },
  {
   "cell_type": "code",
   "execution_count": 16,
   "id": "d582338a",
   "metadata": {},
   "outputs": [
    {
     "data": {
      "text/plain": [
       "(19415, 13)"
      ]
     },
     "execution_count": 16,
     "metadata": {},
     "output_type": "execute_result"
    }
   ],
   "source": [
    "df_cvm_dividend = get_cvm_dividend_data()\n",
    "df_cvm_dividend.shape #(19415, 12)"
   ]
  },
  {
   "cell_type": "code",
   "execution_count": 17,
   "id": "22b5ba68",
   "metadata": {},
   "outputs": [
    {
     "data": {
      "text/html": [
       "<div>\n",
       "<style scoped>\n",
       "    .dataframe tbody tr th:only-of-type {\n",
       "        vertical-align: middle;\n",
       "    }\n",
       "\n",
       "    .dataframe tbody tr th {\n",
       "        vertical-align: top;\n",
       "    }\n",
       "\n",
       "    .dataframe thead th {\n",
       "        text-align: right;\n",
       "    }\n",
       "</style>\n",
       "<table border=\"1\" class=\"dataframe\">\n",
       "  <thead>\n",
       "    <tr style=\"text-align: right;\">\n",
       "      <th></th>\n",
       "      <th>Ticker</th>\n",
       "      <th>Data_Referencia</th>\n",
       "      <th>Publico_Alvo</th>\n",
       "      <th>Prazo_Duracao</th>\n",
       "      <th>Mercado_Negociacao_Bolsa</th>\n",
       "      <th>Tipo_Gestao</th>\n",
       "      <th>Mandato</th>\n",
       "      <th>Segmento_Atuacao</th>\n",
       "      <th>Data_Funcionamento</th>\n",
       "      <th>Total_Numero_Cotistas</th>\n",
       "      <th>Patrimonio_Liquido</th>\n",
       "      <th>Cotas_Emitidas</th>\n",
       "      <th>Valor_Patrimonial_Cotas</th>\n",
       "    </tr>\n",
       "    <tr>\n",
       "      <th>Ticker</th>\n",
       "      <th></th>\n",
       "      <th></th>\n",
       "      <th></th>\n",
       "      <th></th>\n",
       "      <th></th>\n",
       "      <th></th>\n",
       "      <th></th>\n",
       "      <th></th>\n",
       "      <th></th>\n",
       "      <th></th>\n",
       "      <th></th>\n",
       "      <th></th>\n",
       "      <th></th>\n",
       "    </tr>\n",
       "  </thead>\n",
       "  <tbody>\n",
       "    <tr>\n",
       "      <th>ABCP11</th>\n",
       "      <td>ABCP11</td>\n",
       "      <td>2024-01-01</td>\n",
       "      <td>INVESTIDORES EM GERAL</td>\n",
       "      <td>Indeterminado</td>\n",
       "      <td>S</td>\n",
       "      <td>Passiva</td>\n",
       "      <td>Renda</td>\n",
       "      <td>Shoppings</td>\n",
       "      <td>1996-05-17</td>\n",
       "      <td>17090.0</td>\n",
       "      <td>4.770901e+08</td>\n",
       "      <td>4709082.0</td>\n",
       "      <td>101.312754</td>\n",
       "    </tr>\n",
       "    <tr>\n",
       "      <th>AFHI11</th>\n",
       "      <td>AFHI11</td>\n",
       "      <td>2024-01-01</td>\n",
       "      <td>INVESTIDORES EM GERAL</td>\n",
       "      <td>Indeterminado</td>\n",
       "      <td>S</td>\n",
       "      <td>Ativa</td>\n",
       "      <td>Títulos e Valores Mobiliários</td>\n",
       "      <td>Títulos e Val. Mob.</td>\n",
       "      <td>2021-03-03</td>\n",
       "      <td>29705.0</td>\n",
       "      <td>3.527629e+08</td>\n",
       "      <td>3646118.0</td>\n",
       "      <td>96.750273</td>\n",
       "    </tr>\n",
       "    <tr>\n",
       "      <th>AIEC11</th>\n",
       "      <td>AIEC11</td>\n",
       "      <td>2024-01-01</td>\n",
       "      <td>INVESTIDORES EM GERAL</td>\n",
       "      <td>Indeterminado</td>\n",
       "      <td>S</td>\n",
       "      <td>Ativa</td>\n",
       "      <td>Renda</td>\n",
       "      <td>Lajes Corporativas</td>\n",
       "      <td>2020-09-02</td>\n",
       "      <td>17606.0</td>\n",
       "      <td>4.047296e+08</td>\n",
       "      <td>4824987.0</td>\n",
       "      <td>83.882002</td>\n",
       "    </tr>\n",
       "    <tr>\n",
       "      <th>ALMI11</th>\n",
       "      <td>ALMI11</td>\n",
       "      <td>2024-01-01</td>\n",
       "      <td>INVESTIDORES EM GERAL</td>\n",
       "      <td>Indeterminado</td>\n",
       "      <td>S</td>\n",
       "      <td>Passiva</td>\n",
       "      <td>Renda</td>\n",
       "      <td>Lajes Corporativas</td>\n",
       "      <td>2004-11-19</td>\n",
       "      <td>2228.0</td>\n",
       "      <td>2.398364e+08</td>\n",
       "      <td>111177.0</td>\n",
       "      <td>2157.248083</td>\n",
       "    </tr>\n",
       "    <tr>\n",
       "      <th>ALZM11</th>\n",
       "      <td>ALZM11</td>\n",
       "      <td>2024-01-01</td>\n",
       "      <td>INVESTIDORES EM GERAL</td>\n",
       "      <td>Indeterminado</td>\n",
       "      <td>S</td>\n",
       "      <td>Ativa</td>\n",
       "      <td>Títulos e Valores Mobiliários</td>\n",
       "      <td>Títulos e Val. Mob.</td>\n",
       "      <td>2020-03-13</td>\n",
       "      <td>8611.0</td>\n",
       "      <td>1.297649e+08</td>\n",
       "      <td>15180540.0</td>\n",
       "      <td>8.548111</td>\n",
       "    </tr>\n",
       "  </tbody>\n",
       "</table>\n",
       "</div>"
      ],
      "text/plain": [
       "        Ticker Data_Referencia           Publico_Alvo  Prazo_Duracao  \\\n",
       "Ticker                                                                 \n",
       "ABCP11  ABCP11      2024-01-01  INVESTIDORES EM GERAL  Indeterminado   \n",
       "AFHI11  AFHI11      2024-01-01  INVESTIDORES EM GERAL  Indeterminado   \n",
       "AIEC11  AIEC11      2024-01-01  INVESTIDORES EM GERAL  Indeterminado   \n",
       "ALMI11  ALMI11      2024-01-01  INVESTIDORES EM GERAL  Indeterminado   \n",
       "ALZM11  ALZM11      2024-01-01  INVESTIDORES EM GERAL  Indeterminado   \n",
       "\n",
       "       Mercado_Negociacao_Bolsa Tipo_Gestao                        Mandato  \\\n",
       "Ticker                                                                       \n",
       "ABCP11                        S     Passiva                          Renda   \n",
       "AFHI11                        S       Ativa  Títulos e Valores Mobiliários   \n",
       "AIEC11                        S       Ativa                          Renda   \n",
       "ALMI11                        S     Passiva                          Renda   \n",
       "ALZM11                        S       Ativa  Títulos e Valores Mobiliários   \n",
       "\n",
       "           Segmento_Atuacao Data_Funcionamento  Total_Numero_Cotistas  \\\n",
       "Ticker                                                                  \n",
       "ABCP11            Shoppings         1996-05-17                17090.0   \n",
       "AFHI11  Títulos e Val. Mob.         2021-03-03                29705.0   \n",
       "AIEC11   Lajes Corporativas         2020-09-02                17606.0   \n",
       "ALMI11   Lajes Corporativas         2004-11-19                 2228.0   \n",
       "ALZM11  Títulos e Val. Mob.         2020-03-13                 8611.0   \n",
       "\n",
       "        Patrimonio_Liquido  Cotas_Emitidas  Valor_Patrimonial_Cotas  \n",
       "Ticker                                                               \n",
       "ABCP11        4.770901e+08       4709082.0               101.312754  \n",
       "AFHI11        3.527629e+08       3646118.0                96.750273  \n",
       "AIEC11        4.047296e+08       4824987.0                83.882002  \n",
       "ALMI11        2.398364e+08        111177.0              2157.248083  \n",
       "ALZM11        1.297649e+08      15180540.0                 8.548111  "
      ]
     },
     "execution_count": 17,
     "metadata": {},
     "output_type": "execute_result"
    }
   ],
   "source": [
    "df_current = df_cvm_monthly.groupby('Ticker').apply(lambda x: x.loc[x['Data_Referencia'].idxmax()])[[\n",
    "    'Ticker', 'Data_Referencia', 'Publico_Alvo', 'Prazo_Duracao', 'Mercado_Negociacao_Bolsa', \n",
    "    'Tipo_Gestao', 'Mandato', 'Segmento_Atuacao', 'Data_Funcionamento', 'Total_Numero_Cotistas',\n",
    "    'Patrimonio_Liquido', 'Cotas_Emitidas', 'Valor_Patrimonial_Cotas']]\n",
    "df_current.head()"
   ]
  },
  {
   "cell_type": "code",
   "execution_count": 18,
   "id": "1e041b45",
   "metadata": {},
   "outputs": [
    {
     "name": "stdout",
     "output_type": "stream",
     "text": [
      "Publico_Alvo\n",
      "['INVESTIDORES EM GERAL' 'INVESTIDOR PROFISSIONAL'\n",
      " 'INVESTIDOR QUALIFICADO' 'INVESTIDOR QUALIFICADO E PROFISSIONAL']\n",
      "Prazo_Duracao\n",
      "['Indeterminado' 'Determinado']\n",
      "Mercado_Negociacao_Bolsa\n",
      "['S' 'N']\n",
      "Tipo_Gestao\n",
      "['Passiva' 'Ativa' nan]\n",
      "Mandato\n",
      "['Renda' 'Títulos e Valores Mobiliários' 'Desenvolvimento para Renda'\n",
      " 'Híbrido' nan 'Desenvolvimento para Venda']\n",
      "Segmento_Atuacao\n",
      "['Shoppings' 'Títulos e Val. Mob.' 'Lajes Corporativas' 'Híbrido' 'Outros'\n",
      " 'Logística' 'Residencial' nan 'Hospital' 'Hotel']\n"
     ]
    }
   ],
   "source": [
    "print('Publico_Alvo')\n",
    "print(df_current['Publico_Alvo'].unique())\n",
    "print('Prazo_Duracao')\n",
    "print(df_current['Prazo_Duracao'].unique())\n",
    "print('Mercado_Negociacao_Bolsa')\n",
    "print(df_current['Mercado_Negociacao_Bolsa'].unique())\n",
    "print('Tipo_Gestao')\n",
    "print(df_current['Tipo_Gestao'].unique())\n",
    "print('Mandato')\n",
    "print(df_current['Mandato'].unique())\n",
    "print('Segmento_Atuacao')\n",
    "print(df_current['Segmento_Atuacao'].unique())"
   ]
  },
  {
   "cell_type": "code",
   "execution_count": 19,
   "id": "9c887544",
   "metadata": {},
   "outputs": [
    {
     "name": "stdout",
     "output_type": "stream",
     "text": [
      "Publico_Alvo\n",
      "INVESTIDORES EM GERAL                    309\n",
      "INVESTIDOR QUALIFICADO                    72\n",
      "INVESTIDOR PROFISSIONAL                   30\n",
      "INVESTIDOR QUALIFICADO E PROFISSIONAL      6\n",
      "Name: count, dtype: int64\n",
      "Prazo_Duracao\n",
      "Indeterminado    373\n",
      "Determinado       44\n",
      "Name: count, dtype: int64\n",
      "Mercado_Negociacao_Bolsa\n",
      "S    366\n",
      "N     51\n",
      "Name: count, dtype: int64\n",
      "Tipo_Gestao\n",
      "Ativa      339\n",
      "Passiva     71\n",
      "Name: count, dtype: int64\n",
      "Mandato\n",
      "Renda                            163\n",
      "Títulos e Valores Mobiliários    121\n",
      "Híbrido                           72\n",
      "Desenvolvimento para Venda        29\n",
      "Desenvolvimento para Renda        25\n",
      "Name: count, dtype: int64\n",
      "Segmento_Atuacao\n",
      "Títulos e Val. Mob.    120\n",
      "Híbrido                116\n",
      "Lajes Corporativas      49\n",
      "Outros                  48\n",
      "Logística               30\n",
      "Shoppings               26\n",
      "Residencial             19\n",
      "Hospital                 5\n",
      "Hotel                    2\n",
      "Name: count, dtype: int64\n"
     ]
    }
   ],
   "source": [
    "print(df_current['Publico_Alvo'].value_counts())\n",
    "print(df_current['Prazo_Duracao'].value_counts())\n",
    "print(df_current['Mercado_Negociacao_Bolsa'].value_counts())\n",
    "print(df_current['Tipo_Gestao'].value_counts())\n",
    "print(df_current['Mandato'].value_counts())\n",
    "print(df_current['Segmento_Atuacao'].value_counts())"
   ]
  },
  {
   "cell_type": "code",
   "execution_count": 20,
   "id": "eaf22ed1",
   "metadata": {},
   "outputs": [
    {
     "data": {
      "text/html": [
       "<div>\n",
       "<style scoped>\n",
       "    .dataframe tbody tr th:only-of-type {\n",
       "        vertical-align: middle;\n",
       "    }\n",
       "\n",
       "    .dataframe tbody tr th {\n",
       "        vertical-align: top;\n",
       "    }\n",
       "\n",
       "    .dataframe thead th {\n",
       "        text-align: right;\n",
       "    }\n",
       "</style>\n",
       "<table border=\"1\" class=\"dataframe\">\n",
       "  <thead>\n",
       "    <tr style=\"text-align: right;\">\n",
       "      <th></th>\n",
       "      <th>Ticker</th>\n",
       "      <th>Data_Referencia</th>\n",
       "      <th>Publico_Alvo</th>\n",
       "      <th>Prazo_Duracao</th>\n",
       "      <th>Mercado_Negociacao_Bolsa</th>\n",
       "      <th>Tipo_Gestao</th>\n",
       "      <th>Mandato</th>\n",
       "      <th>Segmento_Atuacao</th>\n",
       "      <th>Data_Funcionamento</th>\n",
       "      <th>Total_Numero_Cotistas</th>\n",
       "      <th>Patrimonio_Liquido</th>\n",
       "      <th>Cotas_Emitidas</th>\n",
       "      <th>Valor_Patrimonial_Cotas</th>\n",
       "    </tr>\n",
       "  </thead>\n",
       "  <tbody>\n",
       "    <tr>\n",
       "      <th>0</th>\n",
       "      <td>ABCP11</td>\n",
       "      <td>2024-01-01</td>\n",
       "      <td>INVESTIDORES EM GERAL</td>\n",
       "      <td>Indeterminado</td>\n",
       "      <td>S</td>\n",
       "      <td>Passiva</td>\n",
       "      <td>Renda</td>\n",
       "      <td>Shoppings</td>\n",
       "      <td>1996-05-17</td>\n",
       "      <td>17090.0</td>\n",
       "      <td>4.770901e+08</td>\n",
       "      <td>4.709082e+06</td>\n",
       "      <td>101.312754</td>\n",
       "    </tr>\n",
       "    <tr>\n",
       "      <th>1</th>\n",
       "      <td>AFHI11</td>\n",
       "      <td>2024-01-01</td>\n",
       "      <td>INVESTIDORES EM GERAL</td>\n",
       "      <td>Indeterminado</td>\n",
       "      <td>S</td>\n",
       "      <td>Ativa</td>\n",
       "      <td>Títulos e Valores Mobiliários</td>\n",
       "      <td>Títulos e Val. Mob.</td>\n",
       "      <td>2021-03-03</td>\n",
       "      <td>29705.0</td>\n",
       "      <td>3.527629e+08</td>\n",
       "      <td>3.646118e+06</td>\n",
       "      <td>96.750273</td>\n",
       "    </tr>\n",
       "    <tr>\n",
       "      <th>2</th>\n",
       "      <td>AIEC11</td>\n",
       "      <td>2024-01-01</td>\n",
       "      <td>INVESTIDORES EM GERAL</td>\n",
       "      <td>Indeterminado</td>\n",
       "      <td>S</td>\n",
       "      <td>Ativa</td>\n",
       "      <td>Renda</td>\n",
       "      <td>Lajes Corporativas</td>\n",
       "      <td>2020-09-02</td>\n",
       "      <td>17606.0</td>\n",
       "      <td>4.047296e+08</td>\n",
       "      <td>4.824987e+06</td>\n",
       "      <td>83.882002</td>\n",
       "    </tr>\n",
       "    <tr>\n",
       "      <th>3</th>\n",
       "      <td>ALMI11</td>\n",
       "      <td>2024-01-01</td>\n",
       "      <td>INVESTIDORES EM GERAL</td>\n",
       "      <td>Indeterminado</td>\n",
       "      <td>S</td>\n",
       "      <td>Passiva</td>\n",
       "      <td>Renda</td>\n",
       "      <td>Lajes Corporativas</td>\n",
       "      <td>2004-11-19</td>\n",
       "      <td>2228.0</td>\n",
       "      <td>2.398364e+08</td>\n",
       "      <td>1.111770e+05</td>\n",
       "      <td>2157.248083</td>\n",
       "    </tr>\n",
       "    <tr>\n",
       "      <th>4</th>\n",
       "      <td>ALZM11</td>\n",
       "      <td>2024-01-01</td>\n",
       "      <td>INVESTIDORES EM GERAL</td>\n",
       "      <td>Indeterminado</td>\n",
       "      <td>S</td>\n",
       "      <td>Ativa</td>\n",
       "      <td>Títulos e Valores Mobiliários</td>\n",
       "      <td>Títulos e Val. Mob.</td>\n",
       "      <td>2020-03-13</td>\n",
       "      <td>8611.0</td>\n",
       "      <td>1.297649e+08</td>\n",
       "      <td>1.518054e+07</td>\n",
       "      <td>8.548111</td>\n",
       "    </tr>\n",
       "    <tr>\n",
       "      <th>...</th>\n",
       "      <td>...</td>\n",
       "      <td>...</td>\n",
       "      <td>...</td>\n",
       "      <td>...</td>\n",
       "      <td>...</td>\n",
       "      <td>...</td>\n",
       "      <td>...</td>\n",
       "      <td>...</td>\n",
       "      <td>...</td>\n",
       "      <td>...</td>\n",
       "      <td>...</td>\n",
       "      <td>...</td>\n",
       "      <td>...</td>\n",
       "    </tr>\n",
       "    <tr>\n",
       "      <th>214</th>\n",
       "      <td>XPLG11</td>\n",
       "      <td>2024-01-01</td>\n",
       "      <td>INVESTIDORES EM GERAL</td>\n",
       "      <td>Indeterminado</td>\n",
       "      <td>S</td>\n",
       "      <td>Ativa</td>\n",
       "      <td>Híbrido</td>\n",
       "      <td>Logística</td>\n",
       "      <td>2018-06-01</td>\n",
       "      <td>335298.0</td>\n",
       "      <td>3.319205e+09</td>\n",
       "      <td>2.961323e+07</td>\n",
       "      <td>112.085201</td>\n",
       "    </tr>\n",
       "    <tr>\n",
       "      <th>215</th>\n",
       "      <td>XPML11</td>\n",
       "      <td>2024-01-01</td>\n",
       "      <td>INVESTIDORES EM GERAL</td>\n",
       "      <td>Indeterminado</td>\n",
       "      <td>S</td>\n",
       "      <td>Ativa</td>\n",
       "      <td>Renda</td>\n",
       "      <td>Shoppings</td>\n",
       "      <td>2017-12-22</td>\n",
       "      <td>409164.0</td>\n",
       "      <td>3.445982e+09</td>\n",
       "      <td>3.082221e+07</td>\n",
       "      <td>111.801902</td>\n",
       "    </tr>\n",
       "    <tr>\n",
       "      <th>216</th>\n",
       "      <td>XPPR11</td>\n",
       "      <td>2024-01-01</td>\n",
       "      <td>INVESTIDORES EM GERAL</td>\n",
       "      <td>Indeterminado</td>\n",
       "      <td>S</td>\n",
       "      <td>Ativa</td>\n",
       "      <td>Renda</td>\n",
       "      <td>Outros</td>\n",
       "      <td>2019-12-04</td>\n",
       "      <td>55407.0</td>\n",
       "      <td>4.835793e+08</td>\n",
       "      <td>7.316171e+06</td>\n",
       "      <td>66.097322</td>\n",
       "    </tr>\n",
       "    <tr>\n",
       "      <th>217</th>\n",
       "      <td>XPSF11</td>\n",
       "      <td>2024-01-01</td>\n",
       "      <td>INVESTIDORES EM GERAL</td>\n",
       "      <td>Indeterminado</td>\n",
       "      <td>S</td>\n",
       "      <td>Ativa</td>\n",
       "      <td>Títulos e Valores Mobiliários</td>\n",
       "      <td>Títulos e Val. Mob.</td>\n",
       "      <td>2019-07-02</td>\n",
       "      <td>65013.0</td>\n",
       "      <td>3.739414e+08</td>\n",
       "      <td>4.330214e+07</td>\n",
       "      <td>8.635634</td>\n",
       "    </tr>\n",
       "    <tr>\n",
       "      <th>218</th>\n",
       "      <td>ZAVI11</td>\n",
       "      <td>2024-01-01</td>\n",
       "      <td>INVESTIDORES EM GERAL</td>\n",
       "      <td>Indeterminado</td>\n",
       "      <td>S</td>\n",
       "      <td>Ativa</td>\n",
       "      <td>Renda</td>\n",
       "      <td>Híbrido</td>\n",
       "      <td>2021-07-05</td>\n",
       "      <td>5412.0</td>\n",
       "      <td>1.567973e+08</td>\n",
       "      <td>1.173322e+06</td>\n",
       "      <td>133.635311</td>\n",
       "    </tr>\n",
       "  </tbody>\n",
       "</table>\n",
       "<p>219 rows × 13 columns</p>\n",
       "</div>"
      ],
      "text/plain": [
       "     Ticker Data_Referencia           Publico_Alvo  Prazo_Duracao  \\\n",
       "0    ABCP11      2024-01-01  INVESTIDORES EM GERAL  Indeterminado   \n",
       "1    AFHI11      2024-01-01  INVESTIDORES EM GERAL  Indeterminado   \n",
       "2    AIEC11      2024-01-01  INVESTIDORES EM GERAL  Indeterminado   \n",
       "3    ALMI11      2024-01-01  INVESTIDORES EM GERAL  Indeterminado   \n",
       "4    ALZM11      2024-01-01  INVESTIDORES EM GERAL  Indeterminado   \n",
       "..      ...             ...                    ...            ...   \n",
       "214  XPLG11      2024-01-01  INVESTIDORES EM GERAL  Indeterminado   \n",
       "215  XPML11      2024-01-01  INVESTIDORES EM GERAL  Indeterminado   \n",
       "216  XPPR11      2024-01-01  INVESTIDORES EM GERAL  Indeterminado   \n",
       "217  XPSF11      2024-01-01  INVESTIDORES EM GERAL  Indeterminado   \n",
       "218  ZAVI11      2024-01-01  INVESTIDORES EM GERAL  Indeterminado   \n",
       "\n",
       "    Mercado_Negociacao_Bolsa Tipo_Gestao                        Mandato  \\\n",
       "0                          S     Passiva                          Renda   \n",
       "1                          S       Ativa  Títulos e Valores Mobiliários   \n",
       "2                          S       Ativa                          Renda   \n",
       "3                          S     Passiva                          Renda   \n",
       "4                          S       Ativa  Títulos e Valores Mobiliários   \n",
       "..                       ...         ...                            ...   \n",
       "214                        S       Ativa                        Híbrido   \n",
       "215                        S       Ativa                          Renda   \n",
       "216                        S       Ativa                          Renda   \n",
       "217                        S       Ativa  Títulos e Valores Mobiliários   \n",
       "218                        S       Ativa                          Renda   \n",
       "\n",
       "        Segmento_Atuacao Data_Funcionamento  Total_Numero_Cotistas  \\\n",
       "0              Shoppings         1996-05-17                17090.0   \n",
       "1    Títulos e Val. Mob.         2021-03-03                29705.0   \n",
       "2     Lajes Corporativas         2020-09-02                17606.0   \n",
       "3     Lajes Corporativas         2004-11-19                 2228.0   \n",
       "4    Títulos e Val. Mob.         2020-03-13                 8611.0   \n",
       "..                   ...                ...                    ...   \n",
       "214            Logística         2018-06-01               335298.0   \n",
       "215            Shoppings         2017-12-22               409164.0   \n",
       "216               Outros         2019-12-04                55407.0   \n",
       "217  Títulos e Val. Mob.         2019-07-02                65013.0   \n",
       "218              Híbrido         2021-07-05                 5412.0   \n",
       "\n",
       "     Patrimonio_Liquido  Cotas_Emitidas  Valor_Patrimonial_Cotas  \n",
       "0          4.770901e+08    4.709082e+06               101.312754  \n",
       "1          3.527629e+08    3.646118e+06                96.750273  \n",
       "2          4.047296e+08    4.824987e+06                83.882002  \n",
       "3          2.398364e+08    1.111770e+05              2157.248083  \n",
       "4          1.297649e+08    1.518054e+07                 8.548111  \n",
       "..                  ...             ...                      ...  \n",
       "214        3.319205e+09    2.961323e+07               112.085201  \n",
       "215        3.445982e+09    3.082221e+07               111.801902  \n",
       "216        4.835793e+08    7.316171e+06                66.097322  \n",
       "217        3.739414e+08    4.330214e+07                 8.635634  \n",
       "218        1.567973e+08    1.173322e+06               133.635311  \n",
       "\n",
       "[219 rows x 13 columns]"
      ]
     },
     "execution_count": 20,
     "metadata": {},
     "output_type": "execute_result"
    }
   ],
   "source": [
    "df_current = df_current[(df_current['Publico_Alvo'] == 'INVESTIDORES EM GERAL')\n",
    "          & (df_current['Prazo_Duracao'] == 'Indeterminado')\n",
    "          & (df_current['Mercado_Negociacao_Bolsa'] == 'S')\n",
    "          & (df_current['Total_Numero_Cotistas'] > 500)]\n",
    "df_current.loc[df_current['Segmento_Atuacao'].isnull(), 'Segmento_Atuacao'] = 'Outros'\n",
    "df_current.loc[df_current['Tipo_Gestao'].isnull(), 'Tipo_Gestao'] = 'Indefinido'\n",
    "df_current.loc[df_current['Mandato'].isnull(), 'Mandato'] = 'Indefinido'\n",
    "df_current['Data_Referencia'] = pd.to_datetime(df_current['Data_Referencia'], format='%Y-%m-%d')\n",
    "df_current = df_current.reset_index(drop=True)\n",
    "df_current"
   ]
  },
  {
   "cell_type": "markdown",
   "id": "07c368ff",
   "metadata": {},
   "source": [
    "# Dataframe mensal"
   ]
  },
  {
   "cell_type": "code",
   "execution_count": 21,
   "id": "a583dc2a",
   "metadata": {},
   "outputs": [
    {
     "data": {
      "text/html": [
       "<div>\n",
       "<style scoped>\n",
       "    .dataframe tbody tr th:only-of-type {\n",
       "        vertical-align: middle;\n",
       "    }\n",
       "\n",
       "    .dataframe tbody tr th {\n",
       "        vertical-align: top;\n",
       "    }\n",
       "\n",
       "    .dataframe thead th {\n",
       "        text-align: right;\n",
       "    }\n",
       "</style>\n",
       "<table border=\"1\" class=\"dataframe\">\n",
       "  <thead>\n",
       "    <tr style=\"text-align: right;\">\n",
       "      <th></th>\n",
       "      <th>Ticker</th>\n",
       "      <th>Data_Referencia</th>\n",
       "      <th>Caixa</th>\n",
       "      <th>Imoveis</th>\n",
       "      <th>Fundos</th>\n",
       "      <th>Papeis</th>\n",
       "      <th>Alugueis</th>\n",
       "      <th>OutrosAtivos</th>\n",
       "      <th>Ativos</th>\n",
       "      <th>RendDistribuir</th>\n",
       "      <th>Taxas</th>\n",
       "      <th>OutrosPassivos</th>\n",
       "      <th>Passivos</th>\n",
       "      <th>PatrLiquido</th>\n",
       "      <th>RentEfetivaMes</th>\n",
       "      <th>RentPatrimonialMes</th>\n",
       "      <th>DY</th>\n",
       "    </tr>\n",
       "  </thead>\n",
       "  <tbody>\n",
       "    <tr>\n",
       "      <th>0</th>\n",
       "      <td>ABCP11</td>\n",
       "      <td>2024-01-01</td>\n",
       "      <td>8693945.84</td>\n",
       "      <td>4.654359e+08</td>\n",
       "      <td>0.0</td>\n",
       "      <td>0.0</td>\n",
       "      <td>5848178.98</td>\n",
       "      <td>0.0</td>\n",
       "      <td>4.814812e+08</td>\n",
       "      <td>3963509.69</td>\n",
       "      <td>96900.4</td>\n",
       "      <td>270799.14</td>\n",
       "      <td>4391125.55</td>\n",
       "      <td>4.770901e+08</td>\n",
       "      <td>0.006153</td>\n",
       "      <td>-0.001925</td>\n",
       "      <td>0.008078</td>\n",
       "    </tr>\n",
       "    <tr>\n",
       "      <th>1</th>\n",
       "      <td>ABCP11</td>\n",
       "      <td>2023-12-01</td>\n",
       "      <td>7774587.04</td>\n",
       "      <td>4.654359e+08</td>\n",
       "      <td>0.0</td>\n",
       "      <td>0.0</td>\n",
       "      <td>7341861.90</td>\n",
       "      <td>0.0</td>\n",
       "      <td>4.816811e+08</td>\n",
       "      <td>3162098.67</td>\n",
       "      <td>96900.4</td>\n",
       "      <td>337268.79</td>\n",
       "      <td>3670610.50</td>\n",
       "      <td>4.780105e+08</td>\n",
       "      <td>0.111847</td>\n",
       "      <td>0.104773</td>\n",
       "      <td>0.007074</td>\n",
       "    </tr>\n",
       "    <tr>\n",
       "      <th>2</th>\n",
       "      <td>ABCP11</td>\n",
       "      <td>2023-11-01</td>\n",
       "      <td>7253472.73</td>\n",
       "      <td>4.209459e+08</td>\n",
       "      <td>0.0</td>\n",
       "      <td>0.0</td>\n",
       "      <td>5699158.45</td>\n",
       "      <td>0.0</td>\n",
       "      <td>4.360294e+08</td>\n",
       "      <td>2918185.86</td>\n",
       "      <td>96900.4</td>\n",
       "      <td>279824.23</td>\n",
       "      <td>3352060.85</td>\n",
       "      <td>4.326774e+08</td>\n",
       "      <td>0.007162</td>\n",
       "      <td>0.000628</td>\n",
       "      <td>0.006534</td>\n",
       "    </tr>\n",
       "    <tr>\n",
       "      <th>3</th>\n",
       "      <td>ABCP11</td>\n",
       "      <td>2023-10-01</td>\n",
       "      <td>7001554.95</td>\n",
       "      <td>4.209459e+08</td>\n",
       "      <td>0.0</td>\n",
       "      <td>0.0</td>\n",
       "      <td>5548482.72</td>\n",
       "      <td>0.0</td>\n",
       "      <td>4.357647e+08</td>\n",
       "      <td>2918543.99</td>\n",
       "      <td>96900.4</td>\n",
       "      <td>297459.02</td>\n",
       "      <td>3358979.50</td>\n",
       "      <td>4.324057e+08</td>\n",
       "      <td>0.006396</td>\n",
       "      <td>-0.000137</td>\n",
       "      <td>0.006533</td>\n",
       "    </tr>\n",
       "    <tr>\n",
       "      <th>4</th>\n",
       "      <td>ABCP11</td>\n",
       "      <td>2023-09-01</td>\n",
       "      <td>7005166.55</td>\n",
       "      <td>4.209459e+08</td>\n",
       "      <td>0.0</td>\n",
       "      <td>0.0</td>\n",
       "      <td>5323220.98</td>\n",
       "      <td>0.0</td>\n",
       "      <td>4.358476e+08</td>\n",
       "      <td>2916256.59</td>\n",
       "      <td>96900.4</td>\n",
       "      <td>335063.28</td>\n",
       "      <td>3382421.79</td>\n",
       "      <td>4.324652e+08</td>\n",
       "      <td>0.006077</td>\n",
       "      <td>-0.000453</td>\n",
       "      <td>0.006530</td>\n",
       "    </tr>\n",
       "  </tbody>\n",
       "</table>\n",
       "</div>"
      ],
      "text/plain": [
       "   Ticker Data_Referencia       Caixa       Imoveis  Fundos  Papeis  \\\n",
       "0  ABCP11      2024-01-01  8693945.84  4.654359e+08     0.0     0.0   \n",
       "1  ABCP11      2023-12-01  7774587.04  4.654359e+08     0.0     0.0   \n",
       "2  ABCP11      2023-11-01  7253472.73  4.209459e+08     0.0     0.0   \n",
       "3  ABCP11      2023-10-01  7001554.95  4.209459e+08     0.0     0.0   \n",
       "4  ABCP11      2023-09-01  7005166.55  4.209459e+08     0.0     0.0   \n",
       "\n",
       "     Alugueis  OutrosAtivos        Ativos  RendDistribuir    Taxas  \\\n",
       "0  5848178.98           0.0  4.814812e+08      3963509.69  96900.4   \n",
       "1  7341861.90           0.0  4.816811e+08      3162098.67  96900.4   \n",
       "2  5699158.45           0.0  4.360294e+08      2918185.86  96900.4   \n",
       "3  5548482.72           0.0  4.357647e+08      2918543.99  96900.4   \n",
       "4  5323220.98           0.0  4.358476e+08      2916256.59  96900.4   \n",
       "\n",
       "   OutrosPassivos    Passivos   PatrLiquido  RentEfetivaMes  \\\n",
       "0       270799.14  4391125.55  4.770901e+08        0.006153   \n",
       "1       337268.79  3670610.50  4.780105e+08        0.111847   \n",
       "2       279824.23  3352060.85  4.326774e+08        0.007162   \n",
       "3       297459.02  3358979.50  4.324057e+08        0.006396   \n",
       "4       335063.28  3382421.79  4.324652e+08        0.006077   \n",
       "\n",
       "   RentPatrimonialMes        DY  \n",
       "0           -0.001925  0.008078  \n",
       "1            0.104773  0.007074  \n",
       "2            0.000628  0.006534  \n",
       "3           -0.000137  0.006533  \n",
       "4           -0.000453  0.006530  "
      ]
     },
     "execution_count": 21,
     "metadata": {},
     "output_type": "execute_result"
    }
   ],
   "source": [
    "#df_monthly.to_csv('../dataset/df_monthly.csv', index=False)\n",
    "df_monthly = pd.read_csv('../dataset/df_monthly.csv')\n",
    "df_monthly['Data_Referencia'] = pd.to_datetime(df_monthly['Data_Referencia'], format='%Y-%m-%d')\n",
    "df_monthly.head()"
   ]
  },
  {
   "cell_type": "code",
   "execution_count": 22,
   "id": "28ec9694",
   "metadata": {},
   "outputs": [],
   "source": [
    "#df_monthly = get_df_monthly(df_cvm_monthly)\n",
    "#df_monthly = df_monthly[df_monthly['Ticker'].isin(df_current['Ticker'])]\n",
    "#df_monthly.head()"
   ]
  },
  {
   "cell_type": "markdown",
   "id": "30507ef9",
   "metadata": {},
   "source": [
    "# Dataframe dividendos"
   ]
  },
  {
   "cell_type": "code",
   "execution_count": 23,
   "id": "60fe88de",
   "metadata": {},
   "outputs": [
    {
     "data": {
      "text/html": [
       "<div>\n",
       "<style scoped>\n",
       "    .dataframe tbody tr th:only-of-type {\n",
       "        vertical-align: middle;\n",
       "    }\n",
       "\n",
       "    .dataframe tbody tr th {\n",
       "        vertical-align: top;\n",
       "    }\n",
       "\n",
       "    .dataframe thead th {\n",
       "        text-align: right;\n",
       "    }\n",
       "</style>\n",
       "<table border=\"1\" class=\"dataframe\">\n",
       "  <thead>\n",
       "    <tr style=\"text-align: right;\">\n",
       "      <th></th>\n",
       "      <th>Ticker</th>\n",
       "      <th>Data_Referencia</th>\n",
       "      <th>Rendimento</th>\n",
       "    </tr>\n",
       "  </thead>\n",
       "  <tbody>\n",
       "    <tr>\n",
       "      <th>0</th>\n",
       "      <td>ABCP11</td>\n",
       "      <td>2016-12-01</td>\n",
       "      <td>0.075</td>\n",
       "    </tr>\n",
       "    <tr>\n",
       "      <th>1</th>\n",
       "      <td>ABCP11</td>\n",
       "      <td>2017-01-01</td>\n",
       "      <td>0.120</td>\n",
       "    </tr>\n",
       "    <tr>\n",
       "      <th>2</th>\n",
       "      <td>ABCP11</td>\n",
       "      <td>2017-02-01</td>\n",
       "      <td>0.080</td>\n",
       "    </tr>\n",
       "    <tr>\n",
       "      <th>3</th>\n",
       "      <td>ABCP11</td>\n",
       "      <td>2017-03-01</td>\n",
       "      <td>0.075</td>\n",
       "    </tr>\n",
       "    <tr>\n",
       "      <th>4</th>\n",
       "      <td>ABCP11</td>\n",
       "      <td>2017-04-01</td>\n",
       "      <td>0.075</td>\n",
       "    </tr>\n",
       "    <tr>\n",
       "      <th>...</th>\n",
       "      <td>...</td>\n",
       "      <td>...</td>\n",
       "      <td>...</td>\n",
       "    </tr>\n",
       "    <tr>\n",
       "      <th>10850</th>\n",
       "      <td>ZAVI11</td>\n",
       "      <td>2023-09-01</td>\n",
       "      <td>1.160</td>\n",
       "    </tr>\n",
       "    <tr>\n",
       "      <th>10851</th>\n",
       "      <td>ZAVI11</td>\n",
       "      <td>2023-10-01</td>\n",
       "      <td>1.160</td>\n",
       "    </tr>\n",
       "    <tr>\n",
       "      <th>10852</th>\n",
       "      <td>ZAVI11</td>\n",
       "      <td>2023-11-01</td>\n",
       "      <td>1.180</td>\n",
       "    </tr>\n",
       "    <tr>\n",
       "      <th>10853</th>\n",
       "      <td>ZAVI11</td>\n",
       "      <td>2023-12-01</td>\n",
       "      <td>1.240</td>\n",
       "    </tr>\n",
       "    <tr>\n",
       "      <th>10854</th>\n",
       "      <td>ZAVI11</td>\n",
       "      <td>2024-01-01</td>\n",
       "      <td>1.320</td>\n",
       "    </tr>\n",
       "  </tbody>\n",
       "</table>\n",
       "<p>10855 rows × 3 columns</p>\n",
       "</div>"
      ],
      "text/plain": [
       "       Ticker Data_Referencia  Rendimento\n",
       "0      ABCP11      2016-12-01       0.075\n",
       "1      ABCP11      2017-01-01       0.120\n",
       "2      ABCP11      2017-02-01       0.080\n",
       "3      ABCP11      2017-03-01       0.075\n",
       "4      ABCP11      2017-04-01       0.075\n",
       "...       ...             ...         ...\n",
       "10850  ZAVI11      2023-09-01       1.160\n",
       "10851  ZAVI11      2023-10-01       1.160\n",
       "10852  ZAVI11      2023-11-01       1.180\n",
       "10853  ZAVI11      2023-12-01       1.240\n",
       "10854  ZAVI11      2024-01-01       1.320\n",
       "\n",
       "[10855 rows x 3 columns]"
      ]
     },
     "execution_count": 23,
     "metadata": {},
     "output_type": "execute_result"
    }
   ],
   "source": [
    "df_dividend = df_cvm_dividend[['CodISINCota', 'CodISIN', 'CodNegociacaoCota', 'CodNegociacao', 'ValorProventoCota', 'ValorProvento', 'DataBase']]\n",
    "df_dividend['ISIN'] = np.where(df_dividend['CodISINCota'].isnull() == False,\n",
    "                               df_dividend['CodISINCota'],\n",
    "                               df_dividend['CodISIN'])\n",
    "df_dividend['Ticker'] = np.where(df_dividend['CodNegociacaoCota'].isnull() == False,\n",
    "                                 df_dividend['CodNegociacaoCota'],\n",
    "                                 df_dividend['CodNegociacao'])\n",
    "df_dividend['Rendimento'] = np.where(df_dividend['ValorProventoCota'].isnull() == False,\n",
    "                                 df_dividend['ValorProventoCota'],\n",
    "                                 df_dividend['ValorProvento'])\n",
    "df_dividend.dropna(subset=['ISIN', 'Ticker', 'Rendimento'], inplace=True)\n",
    "df_dividend = df_dividend[df_dividend['Ticker'].isin(df_current['Ticker'])]\n",
    "df_dividend = df_dividend.loc[df_dividend.groupby(['Ticker', 'DataBase'])['Rendimento'].idxmax()]\n",
    "df_dividend['Data_Referencia'] = df_dividend['DataBase'].apply(lambda x: x.replace(day=1))\n",
    "df_dividend.drop(columns=['DataBase', 'ISIN', 'CodISINCota', 'CodISIN', 'CodNegociacaoCota', 'CodNegociacao', 'ValorProventoCota', 'ValorProvento'], inplace=True)\n",
    "df_dividend.insert(0, 'Ticker', df_dividend.pop('Ticker'))\n",
    "df_dividend.insert(1, 'Data_Referencia', df_dividend.pop('Data_Referencia'))\n",
    "df_dividend.sort_values(['Ticker', 'Data_Referencia'], inplace=True)\n",
    "df_dividend = df_dividend.reset_index(drop=True)\n",
    "df_dividend"
   ]
  },
  {
   "cell_type": "markdown",
   "id": "0507caa3",
   "metadata": {},
   "source": [
    "# Funções Avaliação"
   ]
  },
  {
   "cell_type": "code",
   "execution_count": 24,
   "id": "3bcc9798",
   "metadata": {},
   "outputs": [],
   "source": [
    "def fii_type(caixa, imovel, fundo, papel):\n",
    "    if imovel > 0.5:\n",
    "        return 'Tijolo'\n",
    "    \n",
    "    if fundo > 0.5:\n",
    "        return 'Fundo de Fundos'\n",
    "        \n",
    "    if papel > 0.5:\n",
    "        return 'Papel'\n",
    "    \n",
    "    return 'Hibrido'"
   ]
  },
  {
   "cell_type": "code",
   "execution_count": 25,
   "id": "645dfa3c",
   "metadata": {},
   "outputs": [],
   "source": [
    "def compute_grade(m_value, metric):\n",
    "    grade_asc = df_metrics[df_metrics['Metric'] == metric]['Grade_Asc'].values[0]\n",
    "    intervals = df_metrics[df_metrics['Metric'] == metric][['Interval_0', 'Interval_25', 'Interval_50', 'Interval_75', 'Interval_100']].values.ravel()\n",
    "    \n",
    "    if grade_asc == True:\n",
    "        if m_value < intervals[0]:\n",
    "            return 0\n",
    "\n",
    "        if m_value >= intervals[len(intervals) - 1]:\n",
    "            return 10\n",
    "    else:\n",
    "        if m_value < intervals[0]:\n",
    "            return 10\n",
    "\n",
    "        if m_value >= intervals[len(intervals) - 1]:\n",
    "            return 0\n",
    "    \n",
    "    interval = max(num for num in intervals if m_value >= num)\n",
    "    \n",
    "    index = np.where(intervals == interval)[0][0]\n",
    "    \n",
    "    suffix_name = str(index *25)\n",
    "    coef = df_metrics[df_metrics['Metric'] == metric]['Coef_' + suffix_name].values[0]\n",
    "    value_min = df_metrics[df_metrics['Metric'] == metric]['Interval_' + suffix_name].values[0]\n",
    "    grade_min = df_metrics[df_metrics['Metric'] == metric]['Grade_' + suffix_name].values[0]\n",
    "    \n",
    "    grade = (m_value + (coef * grade_min) - value_min) / coef\n",
    "    \n",
    "    return grade"
   ]
  },
  {
   "cell_type": "code",
   "execution_count": 26,
   "id": "da89a8bf",
   "metadata": {},
   "outputs": [],
   "source": [
    "def compute_growth(val_fin, val_ini, interval):\n",
    "    if val_ini == 0 or interval == 0:\n",
    "        return 0.0\n",
    "    else:\n",
    "        return float( ( (val_fin / val_ini) ** (1.0 / interval) ).real) - 1.0"
   ]
  },
  {
   "cell_type": "code",
   "execution_count": 27,
   "id": "98c926bb",
   "metadata": {},
   "outputs": [],
   "source": [
    "def include_metric(name, intervals, grade_asc=True):\n",
    "    global df_metrics\n",
    "    \n",
    "    grades = np.array([1.0, 3.0, 5.5, 8.0, 10.0])\n",
    "    \n",
    "    if grade_asc == False:\n",
    "        grades = np.flip(grades)\n",
    "    \n",
    "    new_row = dict.fromkeys(columns_metrics)\n",
    "    new_row['Metric'] = name\n",
    "    new_row['Grade_Asc'] = grade_asc\n",
    "    new_row['Interval_0'] = float(intervals[0])\n",
    "    new_row['Interval_25'] = float(intervals[1])\n",
    "    new_row['Interval_50'] = float(intervals[2])\n",
    "    new_row['Interval_75'] = float(intervals[3])\n",
    "    new_row['Interval_100'] = float(intervals[4])\n",
    "    new_row['Grade_0'] = grades[0]\n",
    "    new_row['Grade_25'] = grades[1]\n",
    "    new_row['Grade_50'] = grades[2]\n",
    "    new_row['Grade_75'] = grades[3]\n",
    "    new_row['Grade_100'] = grades[4]\n",
    "    \n",
    "    if name in df_metrics['Metric'].values:\n",
    "        df_metrics = df_metrics[df_metrics['Metric'] != name]\n",
    "        df_metrics = df_metrics.reset_index(drop=True)\n",
    "    \n",
    "    i = len(df_metrics)\n",
    "    df_metrics.loc[i] = new_row\n",
    "\n",
    "    df_metrics['Coef_0'] = (df_metrics['Interval_25'] - df_metrics['Interval_0']) / (df_metrics['Grade_25'] - df_metrics['Grade_0'])\n",
    "    df_metrics['Coef_25'] = (df_metrics['Interval_50'] - df_metrics['Interval_25']) / (df_metrics['Grade_50'] - df_metrics['Grade_25'])\n",
    "    df_metrics['Coef_50'] = (df_metrics['Interval_75'] - df_metrics['Interval_50']) / (df_metrics['Grade_75'] - df_metrics['Grade_50'])\n",
    "    df_metrics['Coef_75'] = (df_metrics['Interval_100'] - df_metrics['Interval_75']) / (df_metrics['Grade_100'] - df_metrics['Grade_75'])"
   ]
  },
  {
   "cell_type": "code",
   "execution_count": 28,
   "id": "48192b3b",
   "metadata": {},
   "outputs": [],
   "source": [
    "def include_grade_data(tickers, values, metric):\n",
    "    global df_grade\n",
    "    \n",
    "    df_temp = pd.DataFrame({'Ticker': tickers, 'Value': values})\n",
    "    df_temp['Metric'] = metric\n",
    "    df_temp['Grade'] = df_temp['Value'].apply(compute_grade, args=(metric,))\n",
    "    \n",
    "    df_grade = df_grade[df_grade['Metric'] != metric]\n",
    "    df_grade = pd.concat([df_grade, df_temp], ignore_index=True)"
   ]
  },
  {
   "cell_type": "markdown",
   "id": "16f7d5ab",
   "metadata": {},
   "source": [
    "# Download Cotação e Liquidez (YFinance)"
   ]
  },
  {
   "cell_type": "code",
   "execution_count": 29,
   "id": "c4dab999",
   "metadata": {},
   "outputs": [
    {
     "data": {
      "text/html": [
       "<div>\n",
       "<style scoped>\n",
       "    .dataframe tbody tr th:only-of-type {\n",
       "        vertical-align: middle;\n",
       "    }\n",
       "\n",
       "    .dataframe tbody tr th {\n",
       "        vertical-align: top;\n",
       "    }\n",
       "\n",
       "    .dataframe thead th {\n",
       "        text-align: right;\n",
       "    }\n",
       "</style>\n",
       "<table border=\"1\" class=\"dataframe\">\n",
       "  <thead>\n",
       "    <tr style=\"text-align: right;\">\n",
       "      <th></th>\n",
       "      <th>Ticker</th>\n",
       "      <th>Ticker_YF</th>\n",
       "      <th>currentPrice</th>\n",
       "      <th>regularMarketPreviousClose</th>\n",
       "      <th>averageVolume</th>\n",
       "    </tr>\n",
       "  </thead>\n",
       "  <tbody>\n",
       "    <tr>\n",
       "      <th>0</th>\n",
       "      <td>ABCP11</td>\n",
       "      <td>ABCP11.SA</td>\n",
       "      <td>77.92</td>\n",
       "      <td>77.37</td>\n",
       "      <td>979.0</td>\n",
       "    </tr>\n",
       "    <tr>\n",
       "      <th>1</th>\n",
       "      <td>AFHI11</td>\n",
       "      <td>AFHI11.SA</td>\n",
       "      <td>98.44</td>\n",
       "      <td>97.85</td>\n",
       "      <td>12359.0</td>\n",
       "    </tr>\n",
       "    <tr>\n",
       "      <th>2</th>\n",
       "      <td>AIEC11</td>\n",
       "      <td>AIEC11.SA</td>\n",
       "      <td>51.47</td>\n",
       "      <td>51.90</td>\n",
       "      <td>13346.0</td>\n",
       "    </tr>\n",
       "    <tr>\n",
       "      <th>3</th>\n",
       "      <td>ALMI11</td>\n",
       "      <td>ALMI11.SA</td>\n",
       "      <td>NaN</td>\n",
       "      <td>656.09</td>\n",
       "      <td>153.0</td>\n",
       "    </tr>\n",
       "    <tr>\n",
       "      <th>4</th>\n",
       "      <td>ALZM11</td>\n",
       "      <td>ALZM11.SA</td>\n",
       "      <td>8.43</td>\n",
       "      <td>8.46</td>\n",
       "      <td>23886.0</td>\n",
       "    </tr>\n",
       "  </tbody>\n",
       "</table>\n",
       "</div>"
      ],
      "text/plain": [
       "   Ticker  Ticker_YF  currentPrice  regularMarketPreviousClose  averageVolume\n",
       "0  ABCP11  ABCP11.SA         77.92                       77.37          979.0\n",
       "1  AFHI11  AFHI11.SA         98.44                       97.85        12359.0\n",
       "2  AIEC11  AIEC11.SA         51.47                       51.90        13346.0\n",
       "3  ALMI11  ALMI11.SA           NaN                      656.09          153.0\n",
       "4  ALZM11  ALZM11.SA          8.43                        8.46        23886.0"
      ]
     },
     "execution_count": 29,
     "metadata": {},
     "output_type": "execute_result"
    }
   ],
   "source": [
    "#df_yf_info.to_csv('../dataset/df_yf_info.csv', index=False)\n",
    "df_yf_info = pd.read_csv('../dataset/df_yf_info.csv')\n",
    "df_yf_info.head()"
   ]
  },
  {
   "cell_type": "code",
   "execution_count": 30,
   "id": "84477d58",
   "metadata": {},
   "outputs": [],
   "source": [
    "#download_yf_info()"
   ]
  },
  {
   "cell_type": "markdown",
   "id": "35ab8bf2",
   "metadata": {},
   "source": [
    "# Distribuição de Ativos e Tipo FII"
   ]
  },
  {
   "cell_type": "code",
   "execution_count": 31,
   "id": "f8eb4ab1",
   "metadata": {},
   "outputs": [
    {
     "data": {
      "text/html": [
       "<div>\n",
       "<style scoped>\n",
       "    .dataframe tbody tr th:only-of-type {\n",
       "        vertical-align: middle;\n",
       "    }\n",
       "\n",
       "    .dataframe tbody tr th {\n",
       "        vertical-align: top;\n",
       "    }\n",
       "\n",
       "    .dataframe thead th {\n",
       "        text-align: right;\n",
       "    }\n",
       "</style>\n",
       "<table border=\"1\" class=\"dataframe\">\n",
       "  <thead>\n",
       "    <tr style=\"text-align: right;\">\n",
       "      <th></th>\n",
       "      <th>Ticker</th>\n",
       "      <th>Data_Referencia</th>\n",
       "      <th>Caixa_Perc</th>\n",
       "      <th>Imoveis_Perc</th>\n",
       "      <th>Fundos_Perc</th>\n",
       "      <th>Papeis_Perc</th>\n",
       "      <th>Tipo</th>\n",
       "    </tr>\n",
       "  </thead>\n",
       "  <tbody>\n",
       "    <tr>\n",
       "      <th>0</th>\n",
       "      <td>ABCP11</td>\n",
       "      <td>2024-01-01</td>\n",
       "      <td>0.018057</td>\n",
       "      <td>0.966675</td>\n",
       "      <td>0.000000</td>\n",
       "      <td>0.000000</td>\n",
       "      <td>Tijolo</td>\n",
       "    </tr>\n",
       "    <tr>\n",
       "      <th>1</th>\n",
       "      <td>AFHI11</td>\n",
       "      <td>2024-01-01</td>\n",
       "      <td>0.089854</td>\n",
       "      <td>0.000000</td>\n",
       "      <td>0.001591</td>\n",
       "      <td>0.908555</td>\n",
       "      <td>Papel</td>\n",
       "    </tr>\n",
       "    <tr>\n",
       "      <th>2</th>\n",
       "      <td>AIEC11</td>\n",
       "      <td>2024-01-01</td>\n",
       "      <td>0.024318</td>\n",
       "      <td>0.959636</td>\n",
       "      <td>0.000000</td>\n",
       "      <td>0.000000</td>\n",
       "      <td>Tijolo</td>\n",
       "    </tr>\n",
       "    <tr>\n",
       "      <th>3</th>\n",
       "      <td>ALMI11</td>\n",
       "      <td>2024-01-01</td>\n",
       "      <td>0.033271</td>\n",
       "      <td>0.931228</td>\n",
       "      <td>0.000000</td>\n",
       "      <td>0.000000</td>\n",
       "      <td>Tijolo</td>\n",
       "    </tr>\n",
       "    <tr>\n",
       "      <th>4</th>\n",
       "      <td>ALZM11</td>\n",
       "      <td>2024-01-01</td>\n",
       "      <td>0.023204</td>\n",
       "      <td>0.000000</td>\n",
       "      <td>0.366770</td>\n",
       "      <td>0.539227</td>\n",
       "      <td>Papel</td>\n",
       "    </tr>\n",
       "    <tr>\n",
       "      <th>...</th>\n",
       "      <td>...</td>\n",
       "      <td>...</td>\n",
       "      <td>...</td>\n",
       "      <td>...</td>\n",
       "      <td>...</td>\n",
       "      <td>...</td>\n",
       "      <td>...</td>\n",
       "    </tr>\n",
       "    <tr>\n",
       "      <th>214</th>\n",
       "      <td>XPLG11</td>\n",
       "      <td>2024-01-01</td>\n",
       "      <td>0.097544</td>\n",
       "      <td>0.681742</td>\n",
       "      <td>0.213303</td>\n",
       "      <td>0.000000</td>\n",
       "      <td>Tijolo</td>\n",
       "    </tr>\n",
       "    <tr>\n",
       "      <th>215</th>\n",
       "      <td>XPML11</td>\n",
       "      <td>2024-01-01</td>\n",
       "      <td>0.088991</td>\n",
       "      <td>0.726588</td>\n",
       "      <td>0.133227</td>\n",
       "      <td>0.028302</td>\n",
       "      <td>Tijolo</td>\n",
       "    </tr>\n",
       "    <tr>\n",
       "      <th>216</th>\n",
       "      <td>XPPR11</td>\n",
       "      <td>2024-01-01</td>\n",
       "      <td>0.015989</td>\n",
       "      <td>0.967597</td>\n",
       "      <td>0.000000</td>\n",
       "      <td>0.000000</td>\n",
       "      <td>Tijolo</td>\n",
       "    </tr>\n",
       "    <tr>\n",
       "      <th>217</th>\n",
       "      <td>XPSF11</td>\n",
       "      <td>2024-01-01</td>\n",
       "      <td>0.058448</td>\n",
       "      <td>0.000000</td>\n",
       "      <td>0.876919</td>\n",
       "      <td>0.060653</td>\n",
       "      <td>Fundo de Fundos</td>\n",
       "    </tr>\n",
       "    <tr>\n",
       "      <th>218</th>\n",
       "      <td>ZAVI11</td>\n",
       "      <td>2024-01-01</td>\n",
       "      <td>0.024774</td>\n",
       "      <td>0.914340</td>\n",
       "      <td>0.000000</td>\n",
       "      <td>0.030650</td>\n",
       "      <td>Tijolo</td>\n",
       "    </tr>\n",
       "  </tbody>\n",
       "</table>\n",
       "<p>219 rows × 7 columns</p>\n",
       "</div>"
      ],
      "text/plain": [
       "     Ticker Data_Referencia  Caixa_Perc  Imoveis_Perc  Fundos_Perc  \\\n",
       "0    ABCP11      2024-01-01    0.018057      0.966675     0.000000   \n",
       "1    AFHI11      2024-01-01    0.089854      0.000000     0.001591   \n",
       "2    AIEC11      2024-01-01    0.024318      0.959636     0.000000   \n",
       "3    ALMI11      2024-01-01    0.033271      0.931228     0.000000   \n",
       "4    ALZM11      2024-01-01    0.023204      0.000000     0.366770   \n",
       "..      ...             ...         ...           ...          ...   \n",
       "214  XPLG11      2024-01-01    0.097544      0.681742     0.213303   \n",
       "215  XPML11      2024-01-01    0.088991      0.726588     0.133227   \n",
       "216  XPPR11      2024-01-01    0.015989      0.967597     0.000000   \n",
       "217  XPSF11      2024-01-01    0.058448      0.000000     0.876919   \n",
       "218  ZAVI11      2024-01-01    0.024774      0.914340     0.000000   \n",
       "\n",
       "     Papeis_Perc             Tipo  \n",
       "0       0.000000           Tijolo  \n",
       "1       0.908555            Papel  \n",
       "2       0.000000           Tijolo  \n",
       "3       0.000000           Tijolo  \n",
       "4       0.539227            Papel  \n",
       "..           ...              ...  \n",
       "214     0.000000           Tijolo  \n",
       "215     0.028302           Tijolo  \n",
       "216     0.000000           Tijolo  \n",
       "217     0.060653  Fundo de Fundos  \n",
       "218     0.030650           Tijolo  \n",
       "\n",
       "[219 rows x 7 columns]"
      ]
     },
     "execution_count": 31,
     "metadata": {},
     "output_type": "execute_result"
    }
   ],
   "source": [
    "df_temp = df_monthly[['Ticker', 'Data_Referencia', 'Caixa', 'Imoveis', 'Fundos', 'Papeis', 'Ativos']]\n",
    "df_temp['Total'] = df_temp['Caixa'] + df_temp['Imoveis'] + df_temp['Fundos'] + df_temp['Papeis']\n",
    "df_temp['Caixa_Perc'] = df_temp['Caixa'] / df_temp['Ativos']\n",
    "df_temp['Imoveis_Perc'] = df_temp['Imoveis'] / df_temp['Ativos']\n",
    "df_temp['Fundos_Perc'] = df_temp['Fundos'] / df_temp['Ativos']\n",
    "df_temp['Papeis_Perc'] = df_temp['Papeis'] / df_temp['Ativos']\n",
    "\n",
    "df_asset_dist = df_temp.groupby('Ticker').apply(lambda x: x.loc[x['Data_Referencia'].idxmax()])[[\n",
    "    'Ticker', 'Data_Referencia', 'Caixa_Perc', 'Imoveis_Perc', 'Fundos_Perc', 'Papeis_Perc']]\n",
    "\n",
    "df_asset_dist['Tipo'] = df_asset_dist.apply(lambda x: fii_type(x['Caixa_Perc'], x['Imoveis_Perc'], x['Fundos_Perc'], x['Papeis_Perc']), axis=1)\n",
    "df_asset_dist = df_asset_dist.reset_index(drop=True)\n",
    "df_asset_dist"
   ]
  },
  {
   "cell_type": "markdown",
   "id": "2da2fece",
   "metadata": {},
   "source": [
    "# Ativos e inquilinos"
   ]
  },
  {
   "cell_type": "code",
   "execution_count": 32,
   "id": "1bcfe7f2",
   "metadata": {},
   "outputs": [
    {
     "data": {
      "text/html": [
       "<div>\n",
       "<style scoped>\n",
       "    .dataframe tbody tr th:only-of-type {\n",
       "        vertical-align: middle;\n",
       "    }\n",
       "\n",
       "    .dataframe tbody tr th {\n",
       "        vertical-align: top;\n",
       "    }\n",
       "\n",
       "    .dataframe thead th {\n",
       "        text-align: right;\n",
       "    }\n",
       "</style>\n",
       "<table border=\"1\" class=\"dataframe\">\n",
       "  <thead>\n",
       "    <tr style=\"text-align: right;\">\n",
       "      <th></th>\n",
       "      <th>Ticker</th>\n",
       "      <th>Data_Referencia</th>\n",
       "      <th>Ativos</th>\n",
       "      <th>Inquilinos</th>\n",
       "    </tr>\n",
       "  </thead>\n",
       "  <tbody>\n",
       "    <tr>\n",
       "      <th>0</th>\n",
       "      <td>ABCP11</td>\n",
       "      <td>2023-12-31</td>\n",
       "      <td>1</td>\n",
       "      <td>374</td>\n",
       "    </tr>\n",
       "    <tr>\n",
       "      <th>1</th>\n",
       "      <td>AIEC11</td>\n",
       "      <td>2023-12-29</td>\n",
       "      <td>4</td>\n",
       "      <td>2</td>\n",
       "    </tr>\n",
       "    <tr>\n",
       "      <th>2</th>\n",
       "      <td>ALMI11</td>\n",
       "      <td>2023-12-31</td>\n",
       "      <td>1</td>\n",
       "      <td>6</td>\n",
       "    </tr>\n",
       "    <tr>\n",
       "      <th>3</th>\n",
       "      <td>ALZR11</td>\n",
       "      <td>2023-12-31</td>\n",
       "      <td>14</td>\n",
       "      <td>13</td>\n",
       "    </tr>\n",
       "    <tr>\n",
       "      <th>4</th>\n",
       "      <td>APTO11</td>\n",
       "      <td>2023-12-29</td>\n",
       "      <td>6</td>\n",
       "      <td>6</td>\n",
       "    </tr>\n",
       "    <tr>\n",
       "      <th>...</th>\n",
       "      <td>...</td>\n",
       "      <td>...</td>\n",
       "      <td>...</td>\n",
       "      <td>...</td>\n",
       "    </tr>\n",
       "    <tr>\n",
       "      <th>122</th>\n",
       "      <td>XPIN11</td>\n",
       "      <td>2023-12-31</td>\n",
       "      <td>99</td>\n",
       "      <td>81</td>\n",
       "    </tr>\n",
       "    <tr>\n",
       "      <th>123</th>\n",
       "      <td>XPLG11</td>\n",
       "      <td>2023-12-31</td>\n",
       "      <td>19</td>\n",
       "      <td>122</td>\n",
       "    </tr>\n",
       "    <tr>\n",
       "      <th>124</th>\n",
       "      <td>XPML11</td>\n",
       "      <td>2023-12-31</td>\n",
       "      <td>14</td>\n",
       "      <td>2442</td>\n",
       "    </tr>\n",
       "    <tr>\n",
       "      <th>125</th>\n",
       "      <td>XPPR11</td>\n",
       "      <td>2023-12-31</td>\n",
       "      <td>3</td>\n",
       "      <td>44</td>\n",
       "    </tr>\n",
       "    <tr>\n",
       "      <th>126</th>\n",
       "      <td>ZAVI11</td>\n",
       "      <td>2023-12-29</td>\n",
       "      <td>10</td>\n",
       "      <td>53</td>\n",
       "    </tr>\n",
       "  </tbody>\n",
       "</table>\n",
       "<p>127 rows × 4 columns</p>\n",
       "</div>"
      ],
      "text/plain": [
       "     Ticker Data_Referencia  Ativos  Inquilinos\n",
       "0    ABCP11      2023-12-31       1         374\n",
       "1    AIEC11      2023-12-29       4           2\n",
       "2    ALMI11      2023-12-31       1           6\n",
       "3    ALZR11      2023-12-31      14          13\n",
       "4    APTO11      2023-12-29       6           6\n",
       "..      ...             ...     ...         ...\n",
       "122  XPIN11      2023-12-31      99          81\n",
       "123  XPLG11      2023-12-31      19         122\n",
       "124  XPML11      2023-12-31      14        2442\n",
       "125  XPPR11      2023-12-31       3          44\n",
       "126  ZAVI11      2023-12-29      10          53\n",
       "\n",
       "[127 rows x 4 columns]"
      ]
     },
     "execution_count": 32,
     "metadata": {},
     "output_type": "execute_result"
    }
   ],
   "source": [
    "df_cvm_quarterly_imovel = df_cvm_quarterly_imovel[df_cvm_quarterly_imovel['Ticker'].isin(df_current['Ticker'])]\n",
    "df_cvm_quarterly_inquilino = df_cvm_quarterly_inquilino[df_cvm_quarterly_inquilino['Ticker'].isin(df_current['Ticker'])]\n",
    "\n",
    "df_temp = df_cvm_quarterly_imovel.groupby('Ticker').apply(lambda x: x[x['Data_Referencia'] == x['Data_Referencia'].max()])[['Ticker', 'Data_Referencia', 'Classe', 'Nome_Imovel', 'Numero_Unidades', 'Percentual_Vacancia']]\n",
    "df_temp = df_temp.dropna(subset='Numero_Unidades')\n",
    "df_temp = df_temp.reset_index(drop=True)\n",
    "df_temp['Unidades_Ocupadas'] = (np.where(df_temp['Percentual_Vacancia'].isnull(),\n",
    "                                        0,\n",
    "                                        df_temp['Numero_Unidades'] * (1 - df_temp['Percentual_Vacancia']))).astype(int)\n",
    "\n",
    "count_nome_imovel = df_temp.groupby(['Ticker', 'Data_Referencia'])['Nome_Imovel'].count()\n",
    "sum_unidades_ocupadas = df_temp.groupby(['Ticker', 'Data_Referencia'])['Unidades_Ocupadas'].sum()\n",
    "\n",
    "df_ativos_inquilinos = pd.DataFrame({\n",
    "    'Ativos': count_nome_imovel,\n",
    "    'Inquilinos': sum_unidades_ocupadas\n",
    "})\n",
    "\n",
    "df_ativos_inquilinos = df_ativos_inquilinos.reset_index()\n",
    "df_ativos_inquilinos"
   ]
  },
  {
   "cell_type": "markdown",
   "id": "b7cc9b33",
   "metadata": {},
   "source": [
    "# Crescimento Patrimônio"
   ]
  },
  {
   "cell_type": "code",
   "execution_count": 33,
   "id": "fcd1fb89",
   "metadata": {},
   "outputs": [
    {
     "data": {
      "text/html": [
       "<div>\n",
       "<style scoped>\n",
       "    .dataframe tbody tr th:only-of-type {\n",
       "        vertical-align: middle;\n",
       "    }\n",
       "\n",
       "    .dataframe tbody tr th {\n",
       "        vertical-align: top;\n",
       "    }\n",
       "\n",
       "    .dataframe thead th {\n",
       "        text-align: right;\n",
       "    }\n",
       "</style>\n",
       "<table border=\"1\" class=\"dataframe\">\n",
       "  <thead>\n",
       "    <tr style=\"text-align: right;\">\n",
       "      <th></th>\n",
       "      <th>Ticker</th>\n",
       "      <th>PatrLiquido_Ini</th>\n",
       "      <th>PatrLiquido_Fin</th>\n",
       "      <th>Months</th>\n",
       "      <th>Growth</th>\n",
       "      <th>Data_Referencia_Ini</th>\n",
       "      <th>Data_Referencia_Fin</th>\n",
       "    </tr>\n",
       "  </thead>\n",
       "  <tbody>\n",
       "    <tr>\n",
       "      <th>0</th>\n",
       "      <td>ABCP11</td>\n",
       "      <td>6.794528e+08</td>\n",
       "      <td>4.770901e+08</td>\n",
       "      <td>86</td>\n",
       "      <td>-0.004103</td>\n",
       "      <td>2016-11-01</td>\n",
       "      <td>2024-01-01</td>\n",
       "    </tr>\n",
       "    <tr>\n",
       "      <th>1</th>\n",
       "      <td>AFHI11</td>\n",
       "      <td>1.717025e+08</td>\n",
       "      <td>3.527629e+08</td>\n",
       "      <td>34</td>\n",
       "      <td>0.021403</td>\n",
       "      <td>2021-03-01</td>\n",
       "      <td>2024-01-01</td>\n",
       "    </tr>\n",
       "    <tr>\n",
       "      <th>2</th>\n",
       "      <td>AIEC11</td>\n",
       "      <td>4.659315e+08</td>\n",
       "      <td>4.047296e+08</td>\n",
       "      <td>40</td>\n",
       "      <td>-0.003514</td>\n",
       "      <td>2020-09-01</td>\n",
       "      <td>2024-01-01</td>\n",
       "    </tr>\n",
       "    <tr>\n",
       "      <th>3</th>\n",
       "      <td>ALMI11</td>\n",
       "      <td>2.032787e+08</td>\n",
       "      <td>2.398364e+08</td>\n",
       "      <td>84</td>\n",
       "      <td>0.001971</td>\n",
       "      <td>2017-01-01</td>\n",
       "      <td>2024-01-01</td>\n",
       "    </tr>\n",
       "    <tr>\n",
       "      <th>4</th>\n",
       "      <td>ALZM11</td>\n",
       "      <td>3.479650e+07</td>\n",
       "      <td>1.297649e+08</td>\n",
       "      <td>46</td>\n",
       "      <td>0.029027</td>\n",
       "      <td>2020-03-01</td>\n",
       "      <td>2024-01-01</td>\n",
       "    </tr>\n",
       "    <tr>\n",
       "      <th>...</th>\n",
       "      <td>...</td>\n",
       "      <td>...</td>\n",
       "      <td>...</td>\n",
       "      <td>...</td>\n",
       "      <td>...</td>\n",
       "      <td>...</td>\n",
       "      <td>...</td>\n",
       "    </tr>\n",
       "    <tr>\n",
       "      <th>214</th>\n",
       "      <td>XPLG11</td>\n",
       "      <td>3.473857e+08</td>\n",
       "      <td>3.319205e+09</td>\n",
       "      <td>67</td>\n",
       "      <td>0.034261</td>\n",
       "      <td>2018-06-01</td>\n",
       "      <td>2024-01-01</td>\n",
       "    </tr>\n",
       "    <tr>\n",
       "      <th>215</th>\n",
       "      <td>XPML11</td>\n",
       "      <td>2.444409e+08</td>\n",
       "      <td>3.445982e+09</td>\n",
       "      <td>73</td>\n",
       "      <td>0.036911</td>\n",
       "      <td>2017-12-01</td>\n",
       "      <td>2024-01-01</td>\n",
       "    </tr>\n",
       "    <tr>\n",
       "      <th>216</th>\n",
       "      <td>XPPR11</td>\n",
       "      <td>4.160434e+08</td>\n",
       "      <td>4.835793e+08</td>\n",
       "      <td>49</td>\n",
       "      <td>0.003075</td>\n",
       "      <td>2019-12-01</td>\n",
       "      <td>2024-01-01</td>\n",
       "    </tr>\n",
       "    <tr>\n",
       "      <th>217</th>\n",
       "      <td>XPSF11</td>\n",
       "      <td>3.421962e+07</td>\n",
       "      <td>3.739414e+08</td>\n",
       "      <td>53</td>\n",
       "      <td>0.046152</td>\n",
       "      <td>2019-08-01</td>\n",
       "      <td>2024-01-01</td>\n",
       "    </tr>\n",
       "    <tr>\n",
       "      <th>218</th>\n",
       "      <td>ZAVI11</td>\n",
       "      <td>3.685434e+06</td>\n",
       "      <td>1.567973e+08</td>\n",
       "      <td>30</td>\n",
       "      <td>0.133170</td>\n",
       "      <td>2021-07-01</td>\n",
       "      <td>2024-01-01</td>\n",
       "    </tr>\n",
       "  </tbody>\n",
       "</table>\n",
       "<p>219 rows × 7 columns</p>\n",
       "</div>"
      ],
      "text/plain": [
       "     Ticker  PatrLiquido_Ini  PatrLiquido_Fin  Months    Growth  \\\n",
       "0    ABCP11     6.794528e+08     4.770901e+08      86 -0.004103   \n",
       "1    AFHI11     1.717025e+08     3.527629e+08      34  0.021403   \n",
       "2    AIEC11     4.659315e+08     4.047296e+08      40 -0.003514   \n",
       "3    ALMI11     2.032787e+08     2.398364e+08      84  0.001971   \n",
       "4    ALZM11     3.479650e+07     1.297649e+08      46  0.029027   \n",
       "..      ...              ...              ...     ...       ...   \n",
       "214  XPLG11     3.473857e+08     3.319205e+09      67  0.034261   \n",
       "215  XPML11     2.444409e+08     3.445982e+09      73  0.036911   \n",
       "216  XPPR11     4.160434e+08     4.835793e+08      49  0.003075   \n",
       "217  XPSF11     3.421962e+07     3.739414e+08      53  0.046152   \n",
       "218  ZAVI11     3.685434e+06     1.567973e+08      30  0.133170   \n",
       "\n",
       "    Data_Referencia_Ini Data_Referencia_Fin  \n",
       "0            2016-11-01          2024-01-01  \n",
       "1            2021-03-01          2024-01-01  \n",
       "2            2020-09-01          2024-01-01  \n",
       "3            2017-01-01          2024-01-01  \n",
       "4            2020-03-01          2024-01-01  \n",
       "..                  ...                 ...  \n",
       "214          2018-06-01          2024-01-01  \n",
       "215          2017-12-01          2024-01-01  \n",
       "216          2019-12-01          2024-01-01  \n",
       "217          2019-08-01          2024-01-01  \n",
       "218          2021-07-01          2024-01-01  \n",
       "\n",
       "[219 rows x 7 columns]"
      ]
     },
     "execution_count": 33,
     "metadata": {},
     "output_type": "execute_result"
    }
   ],
   "source": [
    "columns_net_worth = ['Ticker', 'PatrLiquido_Ini', 'PatrLiquido_Fin', 'Months', 'Growth']\n",
    "\n",
    "df_net_worth = pd.DataFrame(columns=columns_net_worth)\n",
    "df_net_worth['Ticker'] = df_monthly['Ticker'].unique()\n",
    "\n",
    "df_net_worth = df_net_worth.merge(df_monthly.groupby('Ticker')['Data_Referencia'].agg(['min', 'max']).rename(columns={'min': 'Data_Referencia_Ini', 'max': 'Data_Referencia_Fin'}), on='Ticker')\n",
    "\n",
    "#PatrLiquido_Ini\n",
    "df_temp = df_monthly.groupby('Ticker').apply(lambda x: x.loc[x['Data_Referencia'].idxmin()])[['Ticker', 'PatrLiquido']].reset_index(drop=True)\n",
    "df_net_worth['PatrLiquido_Ini'] = df_temp[df_temp['Ticker'] == df_net_worth['Ticker']]['PatrLiquido']\n",
    "\n",
    "#PatrLiquido_Fin\n",
    "df_temp = df_monthly.groupby('Ticker').apply(lambda x: x.loc[x['Data_Referencia'].idxmax()])[['Ticker', 'PatrLiquido']].reset_index(drop=True)\n",
    "df_net_worth['PatrLiquido_Fin'] = df_temp[df_temp['Ticker'] == df_net_worth['Ticker']]['PatrLiquido']\n",
    "\n",
    "df_net_worth['Months'] = df_net_worth.apply(lambda row: diff_month(row['Data_Referencia_Fin'], row['Data_Referencia_Ini']), axis=1)\n",
    "\n",
    "df_net_worth['Growth'] = df_net_worth.apply(lambda row: compute_growth(row['PatrLiquido_Fin'], row['PatrLiquido_Ini'], row['Months']), axis=1)\n",
    "\n",
    "df_net_worth"
   ]
  },
  {
   "cell_type": "code",
   "execution_count": 34,
   "id": "b19d697b",
   "metadata": {},
   "outputs": [
    {
     "data": {
      "text/html": [
       "<div>\n",
       "<style scoped>\n",
       "    .dataframe tbody tr th:only-of-type {\n",
       "        vertical-align: middle;\n",
       "    }\n",
       "\n",
       "    .dataframe tbody tr th {\n",
       "        vertical-align: top;\n",
       "    }\n",
       "\n",
       "    .dataframe thead th {\n",
       "        text-align: right;\n",
       "    }\n",
       "</style>\n",
       "<table border=\"1\" class=\"dataframe\">\n",
       "  <thead>\n",
       "    <tr style=\"text-align: right;\">\n",
       "      <th></th>\n",
       "      <th>Metric</th>\n",
       "      <th>Grade_Asc</th>\n",
       "      <th>Interval_0</th>\n",
       "      <th>Interval_25</th>\n",
       "      <th>Interval_50</th>\n",
       "      <th>Interval_75</th>\n",
       "      <th>Interval_100</th>\n",
       "      <th>Grade_0</th>\n",
       "      <th>Grade_25</th>\n",
       "      <th>Grade_50</th>\n",
       "      <th>Grade_75</th>\n",
       "      <th>Grade_100</th>\n",
       "      <th>Coef_0</th>\n",
       "      <th>Coef_25</th>\n",
       "      <th>Coef_50</th>\n",
       "      <th>Coef_75</th>\n",
       "    </tr>\n",
       "  </thead>\n",
       "  <tbody>\n",
       "    <tr>\n",
       "      <th>0</th>\n",
       "      <td>Evolucao Patrimonial</td>\n",
       "      <td>True</td>\n",
       "      <td>0.000052</td>\n",
       "      <td>0.006599</td>\n",
       "      <td>0.021403</td>\n",
       "      <td>0.034059</td>\n",
       "      <td>0.04984</td>\n",
       "      <td>1.0</td>\n",
       "      <td>3.0</td>\n",
       "      <td>5.5</td>\n",
       "      <td>8.0</td>\n",
       "      <td>10.0</td>\n",
       "      <td>0.003273</td>\n",
       "      <td>0.005922</td>\n",
       "      <td>0.005062</td>\n",
       "      <td>0.007891</td>\n",
       "    </tr>\n",
       "  </tbody>\n",
       "</table>\n",
       "</div>"
      ],
      "text/plain": [
       "                 Metric  Grade_Asc  Interval_0  Interval_25  Interval_50  \\\n",
       "0  Evolucao Patrimonial       True    0.000052     0.006599     0.021403   \n",
       "\n",
       "   Interval_75  Interval_100  Grade_0  Grade_25  Grade_50  Grade_75  \\\n",
       "0     0.034059       0.04984      1.0       3.0       5.5       8.0   \n",
       "\n",
       "   Grade_100    Coef_0   Coef_25   Coef_50   Coef_75  \n",
       "0       10.0  0.003273  0.005922  0.005062  0.007891  "
      ]
     },
     "execution_count": 34,
     "metadata": {},
     "output_type": "execute_result"
    }
   ],
   "source": [
    "df_filter = df_net_worth[(df_net_worth['Growth'] > 0) & (df_net_worth['Growth'] < 0.05)]\n",
    "\n",
    "intervals = np.array(range(5), dtype=float)\n",
    "intervals[0] = np.percentile(df_filter['Growth'].values, 0)\n",
    "intervals[1] = np.percentile(df_filter['Growth'].values, 25)\n",
    "intervals[2] = np.percentile(df_filter['Growth'].values, 50)\n",
    "intervals[3] = np.percentile(df_filter['Growth'].values, 75)\n",
    "intervals[4] = np.percentile(df_filter['Growth'].values, 100)\n",
    "\n",
    "include_metric(equity_growth, intervals)\n",
    "\n",
    "df_metrics"
   ]
  },
  {
   "cell_type": "markdown",
   "id": "de45c49b",
   "metadata": {},
   "source": [
    "# P/VP (Preço sobre Valor Patrimonial)"
   ]
  },
  {
   "cell_type": "code",
   "execution_count": 35,
   "id": "185f93b7",
   "metadata": {},
   "outputs": [
    {
     "data": {
      "text/html": [
       "<div>\n",
       "<style scoped>\n",
       "    .dataframe tbody tr th:only-of-type {\n",
       "        vertical-align: middle;\n",
       "    }\n",
       "\n",
       "    .dataframe tbody tr th {\n",
       "        vertical-align: top;\n",
       "    }\n",
       "\n",
       "    .dataframe thead th {\n",
       "        text-align: right;\n",
       "    }\n",
       "</style>\n",
       "<table border=\"1\" class=\"dataframe\">\n",
       "  <thead>\n",
       "    <tr style=\"text-align: right;\">\n",
       "      <th></th>\n",
       "      <th>Metric</th>\n",
       "      <th>Grade_Asc</th>\n",
       "      <th>Interval_0</th>\n",
       "      <th>Interval_25</th>\n",
       "      <th>Interval_50</th>\n",
       "      <th>Interval_75</th>\n",
       "      <th>Interval_100</th>\n",
       "      <th>Grade_0</th>\n",
       "      <th>Grade_25</th>\n",
       "      <th>Grade_50</th>\n",
       "      <th>Grade_75</th>\n",
       "      <th>Grade_100</th>\n",
       "      <th>Coef_0</th>\n",
       "      <th>Coef_25</th>\n",
       "      <th>Coef_50</th>\n",
       "      <th>Coef_75</th>\n",
       "    </tr>\n",
       "  </thead>\n",
       "  <tbody>\n",
       "    <tr>\n",
       "      <th>0</th>\n",
       "      <td>Evolucao Patrimonial</td>\n",
       "      <td>True</td>\n",
       "      <td>0.000052</td>\n",
       "      <td>0.006599</td>\n",
       "      <td>0.021403</td>\n",
       "      <td>0.034059</td>\n",
       "      <td>0.04984</td>\n",
       "      <td>1.0</td>\n",
       "      <td>3.0</td>\n",
       "      <td>5.5</td>\n",
       "      <td>8.0</td>\n",
       "      <td>10.0</td>\n",
       "      <td>0.003273</td>\n",
       "      <td>0.005922</td>\n",
       "      <td>0.005062</td>\n",
       "      <td>0.007891</td>\n",
       "    </tr>\n",
       "    <tr>\n",
       "      <th>1</th>\n",
       "      <td>PVP</td>\n",
       "      <td>False</td>\n",
       "      <td>0.500000</td>\n",
       "      <td>0.900000</td>\n",
       "      <td>1.100000</td>\n",
       "      <td>1.300000</td>\n",
       "      <td>1.60000</td>\n",
       "      <td>10.0</td>\n",
       "      <td>8.0</td>\n",
       "      <td>5.5</td>\n",
       "      <td>3.0</td>\n",
       "      <td>1.0</td>\n",
       "      <td>-0.200000</td>\n",
       "      <td>-0.080000</td>\n",
       "      <td>-0.080000</td>\n",
       "      <td>-0.150000</td>\n",
       "    </tr>\n",
       "  </tbody>\n",
       "</table>\n",
       "</div>"
      ],
      "text/plain": [
       "                 Metric  Grade_Asc  Interval_0  Interval_25  Interval_50  \\\n",
       "0  Evolucao Patrimonial       True    0.000052     0.006599     0.021403   \n",
       "1                   PVP      False    0.500000     0.900000     1.100000   \n",
       "\n",
       "   Interval_75  Interval_100  Grade_0  Grade_25  Grade_50  Grade_75  \\\n",
       "0     0.034059       0.04984      1.0       3.0       5.5       8.0   \n",
       "1     1.300000       1.60000     10.0       8.0       5.5       3.0   \n",
       "\n",
       "   Grade_100    Coef_0   Coef_25   Coef_50   Coef_75  \n",
       "0       10.0  0.003273  0.005922  0.005062  0.007891  \n",
       "1        1.0 -0.200000 -0.080000 -0.080000 -0.150000  "
      ]
     },
     "execution_count": 35,
     "metadata": {},
     "output_type": "execute_result"
    }
   ],
   "source": [
    "columns_pvp = ['Ticker', 'Preco']\n",
    "\n",
    "df_pvp = pd.DataFrame(columns=columns_pvp)\n",
    "df_pvp[['Ticker', 'Preco']] = df_yf_info[df_yf_info['regularMarketPreviousClose'].isnull() == False][['Ticker', 'regularMarketPreviousClose']].rename(columns={'regularMarketPreviousClose': 'Preco'})\n",
    "df_pvp = df_pvp.join(df_current[['Ticker', 'Valor_Patrimonial_Cotas']].set_index(['Ticker']), on=['Ticker']).rename(columns={'Valor_Patrimonial_Cotas': 'VP'})\n",
    "df_pvp['PVP'] = df_pvp['Preco'] / df_pvp['VP']\n",
    "df_pvp = df_pvp.reset_index(drop=True)\n",
    "\n",
    "intervals = np.array(range(5), dtype=float)\n",
    "intervals[0] = 0.5\n",
    "intervals[1] = 0.9\n",
    "intervals[2] = 1.1\n",
    "intervals[3] = 1.3\n",
    "intervals[4] = 1.6\n",
    "\n",
    "include_metric(pvp, intervals, grade_asc=False)\n",
    "\n",
    "df_metrics"
   ]
  },
  {
   "cell_type": "markdown",
   "id": "0ba33f61",
   "metadata": {},
   "source": [
    "# Número de cotistas"
   ]
  },
  {
   "cell_type": "code",
   "execution_count": 36,
   "id": "f1e810cb",
   "metadata": {},
   "outputs": [
    {
     "data": {
      "text/plain": [
       "(214, 13)"
      ]
     },
     "execution_count": 36,
     "metadata": {},
     "output_type": "execute_result"
    },
    {
     "data": {
      "image/png": "[encoded data removed]",
      "text/plain": [
       "<Figure size 640x480 with 1 Axes>"
      ]
     },
     "metadata": {},
     "output_type": "display_data"
    }
   ],
   "source": [
    "#Eliminação de outliers através dos dados do boxplot\n",
    "\n",
    "# bp = plt.boxplot(data=df_net_worth, x='Growth', whis=2)\n",
    "# bp = plt.boxplot(data=df_dividend_yield, x='DY_Mean', whis=1.5)\n",
    "bp = plt.boxplot(data=df_current, x='Total_Numero_Cotistas', whis=6)\n",
    "labels = ['Total_Numero_Cotistas']\n",
    "df_boxplot = get_box_plot_data(labels, bp)\n",
    "lower_whisker = df_boxplot.loc[0,'lower_whisker']\n",
    "upper_whisker = df_boxplot.loc[0,'upper_whisker']\n",
    "\n",
    "df_filter = df_current.loc[(df_current['Total_Numero_Cotistas'] >= lower_whisker) & (df_current['Total_Numero_Cotistas'] <= upper_whisker)]\n",
    "df_filter.shape"
   ]
  },
  {
   "cell_type": "code",
   "execution_count": 37,
   "id": "e8280c11",
   "metadata": {},
   "outputs": [
    {
     "data": {
      "text/html": [
       "<div>\n",
       "<style scoped>\n",
       "    .dataframe tbody tr th:only-of-type {\n",
       "        vertical-align: middle;\n",
       "    }\n",
       "\n",
       "    .dataframe tbody tr th {\n",
       "        vertical-align: top;\n",
       "    }\n",
       "\n",
       "    .dataframe thead th {\n",
       "        text-align: right;\n",
       "    }\n",
       "</style>\n",
       "<table border=\"1\" class=\"dataframe\">\n",
       "  <thead>\n",
       "    <tr style=\"text-align: right;\">\n",
       "      <th></th>\n",
       "      <th>Metric</th>\n",
       "      <th>Grade_Asc</th>\n",
       "      <th>Interval_0</th>\n",
       "      <th>Interval_25</th>\n",
       "      <th>Interval_50</th>\n",
       "      <th>Interval_75</th>\n",
       "      <th>Interval_100</th>\n",
       "      <th>Grade_0</th>\n",
       "      <th>Grade_25</th>\n",
       "      <th>Grade_50</th>\n",
       "      <th>Grade_75</th>\n",
       "      <th>Grade_100</th>\n",
       "      <th>Coef_0</th>\n",
       "      <th>Coef_25</th>\n",
       "      <th>Coef_50</th>\n",
       "      <th>Coef_75</th>\n",
       "    </tr>\n",
       "  </thead>\n",
       "  <tbody>\n",
       "    <tr>\n",
       "      <th>0</th>\n",
       "      <td>Evolucao Patrimonial</td>\n",
       "      <td>True</td>\n",
       "      <td>0.000052</td>\n",
       "      <td>0.006599</td>\n",
       "      <td>0.021403</td>\n",
       "      <td>0.034059</td>\n",
       "      <td>0.04984</td>\n",
       "      <td>1.0</td>\n",
       "      <td>3.0</td>\n",
       "      <td>5.5</td>\n",
       "      <td>8.0</td>\n",
       "      <td>10.0</td>\n",
       "      <td>0.003273</td>\n",
       "      <td>0.005922</td>\n",
       "      <td>0.005062</td>\n",
       "      <td>0.007891</td>\n",
       "    </tr>\n",
       "    <tr>\n",
       "      <th>1</th>\n",
       "      <td>PVP</td>\n",
       "      <td>False</td>\n",
       "      <td>0.500000</td>\n",
       "      <td>0.900000</td>\n",
       "      <td>1.100000</td>\n",
       "      <td>1.300000</td>\n",
       "      <td>1.60000</td>\n",
       "      <td>10.0</td>\n",
       "      <td>8.0</td>\n",
       "      <td>5.5</td>\n",
       "      <td>3.0</td>\n",
       "      <td>1.0</td>\n",
       "      <td>-0.200000</td>\n",
       "      <td>-0.080000</td>\n",
       "      <td>-0.080000</td>\n",
       "      <td>-0.150000</td>\n",
       "    </tr>\n",
       "    <tr>\n",
       "      <th>2</th>\n",
       "      <td>Cotistas</td>\n",
       "      <td>True</td>\n",
       "      <td>528.000000</td>\n",
       "      <td>3705.000000</td>\n",
       "      <td>10341.000000</td>\n",
       "      <td>45732.000000</td>\n",
       "      <td>335298.00000</td>\n",
       "      <td>1.0</td>\n",
       "      <td>3.0</td>\n",
       "      <td>5.5</td>\n",
       "      <td>8.0</td>\n",
       "      <td>10.0</td>\n",
       "      <td>1588.500000</td>\n",
       "      <td>2654.400000</td>\n",
       "      <td>14156.400000</td>\n",
       "      <td>144783.000000</td>\n",
       "    </tr>\n",
       "  </tbody>\n",
       "</table>\n",
       "</div>"
      ],
      "text/plain": [
       "                 Metric  Grade_Asc  Interval_0  Interval_25   Interval_50  \\\n",
       "0  Evolucao Patrimonial       True    0.000052     0.006599      0.021403   \n",
       "1                   PVP      False    0.500000     0.900000      1.100000   \n",
       "2              Cotistas       True  528.000000  3705.000000  10341.000000   \n",
       "\n",
       "    Interval_75  Interval_100  Grade_0  Grade_25  Grade_50  Grade_75  \\\n",
       "0      0.034059       0.04984      1.0       3.0       5.5       8.0   \n",
       "1      1.300000       1.60000     10.0       8.0       5.5       3.0   \n",
       "2  45732.000000  335298.00000      1.0       3.0       5.5       8.0   \n",
       "\n",
       "   Grade_100       Coef_0      Coef_25       Coef_50        Coef_75  \n",
       "0       10.0     0.003273     0.005922      0.005062       0.007891  \n",
       "1        1.0    -0.200000    -0.080000     -0.080000      -0.150000  \n",
       "2       10.0  1588.500000  2654.400000  14156.400000  144783.000000  "
      ]
     },
     "execution_count": 37,
     "metadata": {},
     "output_type": "execute_result"
    }
   ],
   "source": [
    "intervals = np.array(range(5))\n",
    "intervals[0] = np.percentile(df_filter['Total_Numero_Cotistas'].values, 0)\n",
    "intervals[1] = np.percentile(df_filter['Total_Numero_Cotistas'].values, 25)\n",
    "intervals[2] = np.percentile(df_filter['Total_Numero_Cotistas'].values, 50)\n",
    "intervals[3] = np.percentile(df_filter['Total_Numero_Cotistas'].values, 75)\n",
    "intervals[4] = np.percentile(df_filter['Total_Numero_Cotistas'].values, 100)\n",
    "\n",
    "include_metric(shareholders, intervals)\n",
    "\n",
    "df_metrics"
   ]
  },
  {
   "cell_type": "markdown",
   "id": "8b1b726f",
   "metadata": {},
   "source": [
    "# Liquidez"
   ]
  },
  {
   "cell_type": "code",
   "execution_count": 38,
   "id": "660561b5",
   "metadata": {},
   "outputs": [
    {
     "data": {
      "text/html": [
       "<div>\n",
       "<style scoped>\n",
       "    .dataframe tbody tr th:only-of-type {\n",
       "        vertical-align: middle;\n",
       "    }\n",
       "\n",
       "    .dataframe tbody tr th {\n",
       "        vertical-align: top;\n",
       "    }\n",
       "\n",
       "    .dataframe thead th {\n",
       "        text-align: right;\n",
       "    }\n",
       "</style>\n",
       "<table border=\"1\" class=\"dataframe\">\n",
       "  <thead>\n",
       "    <tr style=\"text-align: right;\">\n",
       "      <th></th>\n",
       "      <th>Metric</th>\n",
       "      <th>Grade_Asc</th>\n",
       "      <th>Interval_0</th>\n",
       "      <th>Interval_25</th>\n",
       "      <th>Interval_50</th>\n",
       "      <th>Interval_75</th>\n",
       "      <th>Interval_100</th>\n",
       "      <th>Grade_0</th>\n",
       "      <th>Grade_25</th>\n",
       "      <th>Grade_50</th>\n",
       "      <th>Grade_75</th>\n",
       "      <th>Grade_100</th>\n",
       "      <th>Coef_0</th>\n",
       "      <th>Coef_25</th>\n",
       "      <th>Coef_50</th>\n",
       "      <th>Coef_75</th>\n",
       "    </tr>\n",
       "  </thead>\n",
       "  <tbody>\n",
       "    <tr>\n",
       "      <th>0</th>\n",
       "      <td>Evolucao Patrimonial</td>\n",
       "      <td>True</td>\n",
       "      <td>0.000052</td>\n",
       "      <td>0.006599</td>\n",
       "      <td>0.021403</td>\n",
       "      <td>0.034059</td>\n",
       "      <td>4.984031e-02</td>\n",
       "      <td>1.0</td>\n",
       "      <td>3.0</td>\n",
       "      <td>5.5</td>\n",
       "      <td>8.0</td>\n",
       "      <td>10.0</td>\n",
       "      <td>0.003273</td>\n",
       "      <td>0.005922</td>\n",
       "      <td>0.005062</td>\n",
       "      <td>0.007891</td>\n",
       "    </tr>\n",
       "    <tr>\n",
       "      <th>1</th>\n",
       "      <td>PVP</td>\n",
       "      <td>False</td>\n",
       "      <td>0.500000</td>\n",
       "      <td>0.900000</td>\n",
       "      <td>1.100000</td>\n",
       "      <td>1.300000</td>\n",
       "      <td>1.600000e+00</td>\n",
       "      <td>10.0</td>\n",
       "      <td>8.0</td>\n",
       "      <td>5.5</td>\n",
       "      <td>3.0</td>\n",
       "      <td>1.0</td>\n",
       "      <td>-0.200000</td>\n",
       "      <td>-0.080000</td>\n",
       "      <td>-0.080000</td>\n",
       "      <td>-0.150000</td>\n",
       "    </tr>\n",
       "    <tr>\n",
       "      <th>2</th>\n",
       "      <td>Cotistas</td>\n",
       "      <td>True</td>\n",
       "      <td>528.000000</td>\n",
       "      <td>3705.000000</td>\n",
       "      <td>10341.000000</td>\n",
       "      <td>45732.000000</td>\n",
       "      <td>3.352980e+05</td>\n",
       "      <td>1.0</td>\n",
       "      <td>3.0</td>\n",
       "      <td>5.5</td>\n",
       "      <td>8.0</td>\n",
       "      <td>10.0</td>\n",
       "      <td>1588.500000</td>\n",
       "      <td>2654.400000</td>\n",
       "      <td>14156.400000</td>\n",
       "      <td>144783.000000</td>\n",
       "    </tr>\n",
       "    <tr>\n",
       "      <th>3</th>\n",
       "      <td>Liquidez</td>\n",
       "      <td>True</td>\n",
       "      <td>22.000000</td>\n",
       "      <td>1587.000000</td>\n",
       "      <td>6921.000000</td>\n",
       "      <td>25918.500000</td>\n",
       "      <td>1.197175e+06</td>\n",
       "      <td>1.0</td>\n",
       "      <td>3.0</td>\n",
       "      <td>5.5</td>\n",
       "      <td>8.0</td>\n",
       "      <td>10.0</td>\n",
       "      <td>782.500000</td>\n",
       "      <td>2133.600000</td>\n",
       "      <td>7599.000000</td>\n",
       "      <td>585628.250000</td>\n",
       "    </tr>\n",
       "  </tbody>\n",
       "</table>\n",
       "</div>"
      ],
      "text/plain": [
       "                 Metric  Grade_Asc  Interval_0  Interval_25   Interval_50  \\\n",
       "0  Evolucao Patrimonial       True    0.000052     0.006599      0.021403   \n",
       "1                   PVP      False    0.500000     0.900000      1.100000   \n",
       "2              Cotistas       True  528.000000  3705.000000  10341.000000   \n",
       "3              Liquidez       True   22.000000  1587.000000   6921.000000   \n",
       "\n",
       "    Interval_75  Interval_100  Grade_0  Grade_25  Grade_50  Grade_75  \\\n",
       "0      0.034059  4.984031e-02      1.0       3.0       5.5       8.0   \n",
       "1      1.300000  1.600000e+00     10.0       8.0       5.5       3.0   \n",
       "2  45732.000000  3.352980e+05      1.0       3.0       5.5       8.0   \n",
       "3  25918.500000  1.197175e+06      1.0       3.0       5.5       8.0   \n",
       "\n",
       "   Grade_100       Coef_0      Coef_25       Coef_50        Coef_75  \n",
       "0       10.0     0.003273     0.005922      0.005062       0.007891  \n",
       "1        1.0    -0.200000    -0.080000     -0.080000      -0.150000  \n",
       "2       10.0  1588.500000  2654.400000  14156.400000  144783.000000  \n",
       "3       10.0   782.500000  2133.600000   7599.000000  585628.250000  "
      ]
     },
     "execution_count": 38,
     "metadata": {},
     "output_type": "execute_result"
    }
   ],
   "source": [
    "df_liquidity = df_yf_info[df_yf_info['averageVolume'].isnull() == False][['Ticker', 'averageVolume']]\n",
    "df_liquidity = df_liquidity[df_liquidity['averageVolume'] > 0]\n",
    "df_liquidity = df_liquidity.reset_index(drop=True)\n",
    "\n",
    "intervals = np.array(range(5), dtype=float)\n",
    "intervals[0] = np.percentile(df_liquidity['averageVolume'].values, 0)\n",
    "intervals[1] = np.percentile(df_liquidity['averageVolume'].values, 25)\n",
    "intervals[2] = np.percentile(df_liquidity['averageVolume'].values, 50)\n",
    "intervals[3] = np.percentile(df_liquidity['averageVolume'].values, 75)\n",
    "intervals[4] = np.percentile(df_liquidity['averageVolume'].values, 100)\n",
    "\n",
    "include_metric(liquidity, intervals)\n",
    "\n",
    "df_metrics"
   ]
  },
  {
   "cell_type": "markdown",
   "id": "8ed2328e",
   "metadata": {},
   "source": [
    "# Dividend Yield"
   ]
  },
  {
   "cell_type": "code",
   "execution_count": 39,
   "id": "9e31af36",
   "metadata": {},
   "outputs": [
    {
     "data": {
      "text/html": [
       "<div>\n",
       "<style scoped>\n",
       "    .dataframe tbody tr th:only-of-type {\n",
       "        vertical-align: middle;\n",
       "    }\n",
       "\n",
       "    .dataframe tbody tr th {\n",
       "        vertical-align: top;\n",
       "    }\n",
       "\n",
       "    .dataframe thead th {\n",
       "        text-align: right;\n",
       "    }\n",
       "</style>\n",
       "<table border=\"1\" class=\"dataframe\">\n",
       "  <thead>\n",
       "    <tr style=\"text-align: right;\">\n",
       "      <th></th>\n",
       "      <th>Metric</th>\n",
       "      <th>Grade_Asc</th>\n",
       "      <th>Interval_0</th>\n",
       "      <th>Interval_25</th>\n",
       "      <th>Interval_50</th>\n",
       "      <th>Interval_75</th>\n",
       "      <th>Interval_100</th>\n",
       "      <th>Grade_0</th>\n",
       "      <th>Grade_25</th>\n",
       "      <th>Grade_50</th>\n",
       "      <th>Grade_75</th>\n",
       "      <th>Grade_100</th>\n",
       "      <th>Coef_0</th>\n",
       "      <th>Coef_25</th>\n",
       "      <th>Coef_50</th>\n",
       "      <th>Coef_75</th>\n",
       "    </tr>\n",
       "  </thead>\n",
       "  <tbody>\n",
       "    <tr>\n",
       "      <th>0</th>\n",
       "      <td>Evolucao Patrimonial</td>\n",
       "      <td>True</td>\n",
       "      <td>0.000052</td>\n",
       "      <td>0.006599</td>\n",
       "      <td>0.021403</td>\n",
       "      <td>0.034059</td>\n",
       "      <td>4.984031e-02</td>\n",
       "      <td>1.0</td>\n",
       "      <td>3.0</td>\n",
       "      <td>5.5</td>\n",
       "      <td>8.0</td>\n",
       "      <td>10.0</td>\n",
       "      <td>0.003273</td>\n",
       "      <td>0.005922</td>\n",
       "      <td>0.005062</td>\n",
       "      <td>0.007891</td>\n",
       "    </tr>\n",
       "    <tr>\n",
       "      <th>1</th>\n",
       "      <td>PVP</td>\n",
       "      <td>False</td>\n",
       "      <td>0.500000</td>\n",
       "      <td>0.900000</td>\n",
       "      <td>1.100000</td>\n",
       "      <td>1.300000</td>\n",
       "      <td>1.600000e+00</td>\n",
       "      <td>10.0</td>\n",
       "      <td>8.0</td>\n",
       "      <td>5.5</td>\n",
       "      <td>3.0</td>\n",
       "      <td>1.0</td>\n",
       "      <td>-0.200000</td>\n",
       "      <td>-0.080000</td>\n",
       "      <td>-0.080000</td>\n",
       "      <td>-0.150000</td>\n",
       "    </tr>\n",
       "    <tr>\n",
       "      <th>2</th>\n",
       "      <td>Cotistas</td>\n",
       "      <td>True</td>\n",
       "      <td>528.000000</td>\n",
       "      <td>3705.000000</td>\n",
       "      <td>10341.000000</td>\n",
       "      <td>45732.000000</td>\n",
       "      <td>3.352980e+05</td>\n",
       "      <td>1.0</td>\n",
       "      <td>3.0</td>\n",
       "      <td>5.5</td>\n",
       "      <td>8.0</td>\n",
       "      <td>10.0</td>\n",
       "      <td>1588.500000</td>\n",
       "      <td>2654.400000</td>\n",
       "      <td>14156.400000</td>\n",
       "      <td>144783.000000</td>\n",
       "    </tr>\n",
       "    <tr>\n",
       "      <th>3</th>\n",
       "      <td>Liquidez</td>\n",
       "      <td>True</td>\n",
       "      <td>22.000000</td>\n",
       "      <td>1587.000000</td>\n",
       "      <td>6921.000000</td>\n",
       "      <td>25918.500000</td>\n",
       "      <td>1.197175e+06</td>\n",
       "      <td>1.0</td>\n",
       "      <td>3.0</td>\n",
       "      <td>5.5</td>\n",
       "      <td>8.0</td>\n",
       "      <td>10.0</td>\n",
       "      <td>782.500000</td>\n",
       "      <td>2133.600000</td>\n",
       "      <td>7599.000000</td>\n",
       "      <td>585628.250000</td>\n",
       "    </tr>\n",
       "    <tr>\n",
       "      <th>4</th>\n",
       "      <td>Dividend Yield</td>\n",
       "      <td>True</td>\n",
       "      <td>0.000072</td>\n",
       "      <td>0.003024</td>\n",
       "      <td>0.005977</td>\n",
       "      <td>0.008929</td>\n",
       "      <td>1.188097e-02</td>\n",
       "      <td>1.0</td>\n",
       "      <td>3.0</td>\n",
       "      <td>5.5</td>\n",
       "      <td>8.0</td>\n",
       "      <td>10.0</td>\n",
       "      <td>0.001476</td>\n",
       "      <td>0.001181</td>\n",
       "      <td>0.001181</td>\n",
       "      <td>0.001476</td>\n",
       "    </tr>\n",
       "  </tbody>\n",
       "</table>\n",
       "</div>"
      ],
      "text/plain": [
       "                 Metric  Grade_Asc  Interval_0  Interval_25   Interval_50  \\\n",
       "0  Evolucao Patrimonial       True    0.000052     0.006599      0.021403   \n",
       "1                   PVP      False    0.500000     0.900000      1.100000   \n",
       "2              Cotistas       True  528.000000  3705.000000  10341.000000   \n",
       "3              Liquidez       True   22.000000  1587.000000   6921.000000   \n",
       "4        Dividend Yield       True    0.000072     0.003024      0.005977   \n",
       "\n",
       "    Interval_75  Interval_100  Grade_0  Grade_25  Grade_50  Grade_75  \\\n",
       "0      0.034059  4.984031e-02      1.0       3.0       5.5       8.0   \n",
       "1      1.300000  1.600000e+00     10.0       8.0       5.5       3.0   \n",
       "2  45732.000000  3.352980e+05      1.0       3.0       5.5       8.0   \n",
       "3  25918.500000  1.197175e+06      1.0       3.0       5.5       8.0   \n",
       "4      0.008929  1.188097e-02      1.0       3.0       5.5       8.0   \n",
       "\n",
       "   Grade_100       Coef_0      Coef_25       Coef_50        Coef_75  \n",
       "0       10.0     0.003273     0.005922      0.005062       0.007891  \n",
       "1        1.0    -0.200000    -0.080000     -0.080000      -0.150000  \n",
       "2       10.0  1588.500000  2654.400000  14156.400000  144783.000000  \n",
       "3       10.0   782.500000  2133.600000   7599.000000  585628.250000  \n",
       "4       10.0     0.001476     0.001181      0.001181       0.001476  "
      ]
     },
     "execution_count": 39,
     "metadata": {},
     "output_type": "execute_result"
    }
   ],
   "source": [
    "columns_dividend_yield = ['Ticker']\n",
    "\n",
    "df_dividend_yield = pd.DataFrame(columns=columns_dividend_yield)\n",
    "df_dividend_yield['Ticker'] = df_monthly['Ticker'].unique()\n",
    "df_dividend_yield = df_dividend_yield.merge(df_monthly.groupby('Ticker')['DY'].agg(['mean']).rename(columns={'mean': 'DY_Mean'}), on='Ticker')\n",
    "\n",
    "df_filter = df_dividend_yield[(df_dividend_yield['DY_Mean'] > 0) & (df_dividend_yield['DY_Mean'] < 0.012)]\n",
    "\n",
    "val_max = df_filter['DY_Mean'].max()\n",
    "val_min = df_filter['DY_Mean'].min()\n",
    "val_interval = (val_max - val_min) / 4\n",
    "\n",
    "intervals = np.array(range(5), dtype=float)\n",
    "intervals[0] = val_min\n",
    "intervals[1] = val_min + (val_interval * 1)\n",
    "intervals[2] = val_min + (val_interval * 2)\n",
    "intervals[3] = val_min + (val_interval * 3)\n",
    "intervals[4] = val_max\n",
    "\n",
    "include_metric(dividend_yield, intervals)\n",
    "\n",
    "df_metrics"
   ]
  },
  {
   "cell_type": "markdown",
   "id": "439eb661",
   "metadata": {},
   "source": [
    "# Dividend por cota"
   ]
  },
  {
   "cell_type": "code",
   "execution_count": 40,
   "id": "56f46583",
   "metadata": {},
   "outputs": [
    {
     "data": {
      "text/html": [
       "<div>\n",
       "<style scoped>\n",
       "    .dataframe tbody tr th:only-of-type {\n",
       "        vertical-align: middle;\n",
       "    }\n",
       "\n",
       "    .dataframe tbody tr th {\n",
       "        vertical-align: top;\n",
       "    }\n",
       "\n",
       "    .dataframe thead th {\n",
       "        text-align: right;\n",
       "    }\n",
       "</style>\n",
       "<table border=\"1\" class=\"dataframe\">\n",
       "  <thead>\n",
       "    <tr style=\"text-align: right;\">\n",
       "      <th></th>\n",
       "      <th>Ticker</th>\n",
       "      <th>Dividend_Ini</th>\n",
       "      <th>Dividend_Fin</th>\n",
       "      <th>Months</th>\n",
       "      <th>Growth</th>\n",
       "      <th>Data_Referencia_Ini</th>\n",
       "      <th>Data_Referencia_Fin</th>\n",
       "    </tr>\n",
       "  </thead>\n",
       "  <tbody>\n",
       "    <tr>\n",
       "      <th>0</th>\n",
       "      <td>ABCP11</td>\n",
       "      <td>0.083333</td>\n",
       "      <td>0.628333</td>\n",
       "      <td>80</td>\n",
       "      <td>0.025574</td>\n",
       "      <td>2017-05-01</td>\n",
       "      <td>2024-01-01</td>\n",
       "    </tr>\n",
       "    <tr>\n",
       "      <th>1</th>\n",
       "      <td>AFHI11</td>\n",
       "      <td>0.825000</td>\n",
       "      <td>1.011667</td>\n",
       "      <td>28</td>\n",
       "      <td>0.007311</td>\n",
       "      <td>2021-10-01</td>\n",
       "      <td>2024-02-01</td>\n",
       "    </tr>\n",
       "    <tr>\n",
       "      <th>2</th>\n",
       "      <td>AIEC11</td>\n",
       "      <td>0.563333</td>\n",
       "      <td>0.731667</td>\n",
       "      <td>34</td>\n",
       "      <td>0.007719</td>\n",
       "      <td>2021-03-01</td>\n",
       "      <td>2024-01-01</td>\n",
       "    </tr>\n",
       "    <tr>\n",
       "      <th>3</th>\n",
       "      <td>ALZM11</td>\n",
       "      <td>1.038083</td>\n",
       "      <td>0.599810</td>\n",
       "      <td>12</td>\n",
       "      <td>-0.044681</td>\n",
       "      <td>2023-02-01</td>\n",
       "      <td>2024-02-01</td>\n",
       "    </tr>\n",
       "    <tr>\n",
       "      <th>4</th>\n",
       "      <td>ALZR11</td>\n",
       "      <td>0.595438</td>\n",
       "      <td>0.815852</td>\n",
       "      <td>67</td>\n",
       "      <td>0.004712</td>\n",
       "      <td>2018-07-01</td>\n",
       "      <td>2024-02-01</td>\n",
       "    </tr>\n",
       "    <tr>\n",
       "      <th>...</th>\n",
       "      <td>...</td>\n",
       "      <td>...</td>\n",
       "      <td>...</td>\n",
       "      <td>...</td>\n",
       "      <td>...</td>\n",
       "      <td>...</td>\n",
       "      <td>...</td>\n",
       "    </tr>\n",
       "    <tr>\n",
       "      <th>206</th>\n",
       "      <td>XPLG11</td>\n",
       "      <td>0.483186</td>\n",
       "      <td>0.780000</td>\n",
       "      <td>62</td>\n",
       "      <td>0.007754</td>\n",
       "      <td>2018-11-01</td>\n",
       "      <td>2024-01-01</td>\n",
       "    </tr>\n",
       "    <tr>\n",
       "      <th>207</th>\n",
       "      <td>XPML11</td>\n",
       "      <td>0.470517</td>\n",
       "      <td>0.878333</td>\n",
       "      <td>67</td>\n",
       "      <td>0.009360</td>\n",
       "      <td>2018-07-01</td>\n",
       "      <td>2024-02-01</td>\n",
       "    </tr>\n",
       "    <tr>\n",
       "      <th>208</th>\n",
       "      <td>XPPR11</td>\n",
       "      <td>0.565000</td>\n",
       "      <td>0.095000</td>\n",
       "      <td>44</td>\n",
       "      <td>-0.039712</td>\n",
       "      <td>2020-05-01</td>\n",
       "      <td>2024-01-01</td>\n",
       "    </tr>\n",
       "    <tr>\n",
       "      <th>209</th>\n",
       "      <td>XPSF11</td>\n",
       "      <td>1.149167</td>\n",
       "      <td>0.075000</td>\n",
       "      <td>44</td>\n",
       "      <td>-0.060145</td>\n",
       "      <td>2020-05-01</td>\n",
       "      <td>2024-01-01</td>\n",
       "    </tr>\n",
       "    <tr>\n",
       "      <th>210</th>\n",
       "      <td>ZAVI11</td>\n",
       "      <td>1.114667</td>\n",
       "      <td>1.203333</td>\n",
       "      <td>10</td>\n",
       "      <td>0.007683</td>\n",
       "      <td>2023-03-01</td>\n",
       "      <td>2024-01-01</td>\n",
       "    </tr>\n",
       "  </tbody>\n",
       "</table>\n",
       "<p>211 rows × 7 columns</p>\n",
       "</div>"
      ],
      "text/plain": [
       "     Ticker  Dividend_Ini  Dividend_Fin  Months    Growth Data_Referencia_Ini  \\\n",
       "0    ABCP11      0.083333      0.628333      80  0.025574          2017-05-01   \n",
       "1    AFHI11      0.825000      1.011667      28  0.007311          2021-10-01   \n",
       "2    AIEC11      0.563333      0.731667      34  0.007719          2021-03-01   \n",
       "3    ALZM11      1.038083      0.599810      12 -0.044681          2023-02-01   \n",
       "4    ALZR11      0.595438      0.815852      67  0.004712          2018-07-01   \n",
       "..      ...           ...           ...     ...       ...                 ...   \n",
       "206  XPLG11      0.483186      0.780000      62  0.007754          2018-11-01   \n",
       "207  XPML11      0.470517      0.878333      67  0.009360          2018-07-01   \n",
       "208  XPPR11      0.565000      0.095000      44 -0.039712          2020-05-01   \n",
       "209  XPSF11      1.149167      0.075000      44 -0.060145          2020-05-01   \n",
       "210  ZAVI11      1.114667      1.203333      10  0.007683          2023-03-01   \n",
       "\n",
       "    Data_Referencia_Fin  \n",
       "0            2024-01-01  \n",
       "1            2024-02-01  \n",
       "2            2024-01-01  \n",
       "3            2024-02-01  \n",
       "4            2024-02-01  \n",
       "..                  ...  \n",
       "206          2024-01-01  \n",
       "207          2024-02-01  \n",
       "208          2024-01-01  \n",
       "209          2024-01-01  \n",
       "210          2024-01-01  \n",
       "\n",
       "[211 rows x 7 columns]"
      ]
     },
     "execution_count": 40,
     "metadata": {},
     "output_type": "execute_result"
    }
   ],
   "source": [
    "df_dividend_temp = df_dividend.copy()\n",
    "\n",
    "for ticker in df_dividend_temp['Ticker'].unique():\n",
    "    start_date = df_dividend_temp[df_dividend_temp['Ticker'] == ticker]['Data_Referencia'].min()\n",
    "    end_date = df_dividend_temp[df_dividend_temp['Ticker'] == ticker]['Data_Referencia'].max()\n",
    "\n",
    "    date_range = pd.date_range(start=start_date, end=end_date, freq='MS')\n",
    "    df_date_range = pd.DataFrame({'Ticker': [ticker] * len(date_range), 'Data_Referencia': date_range})\n",
    "\n",
    "    df_dividend_temp = pd.merge(df_dividend_temp, df_date_range, on=['Ticker', 'Data_Referencia'], how='outer')\n",
    "    df_dividend_temp = df_dividend_temp.sort_values(by=['Ticker', 'Data_Referencia'])\n",
    "    \n",
    "df_dividend_temp['Rendimento'] = np.where(df_dividend_temp['Rendimento'].isnull(), 0, df_dividend_temp['Rendimento'])\n",
    "df_dividend_temp['Dividend_Mean6M'] = df_dividend_temp.groupby('Ticker')['Rendimento'].transform(lambda x: x.rolling(window=6).mean())\n",
    "#df_dividend_temp['Dividend_Mean6M'] = df_dividend_temp.groupby('Ticker')['Rendimento'].transform(lambda x: x.rolling(window=6, min_periods=1).mean())\n",
    "df_dividend_temp =  df_dividend_temp[df_dividend_temp['Dividend_Mean6M'].notnull()]\n",
    "\n",
    "columns_dividend_quota = ['Ticker', 'Dividend_Ini', 'Dividend_Fin', 'Months', 'Growth']\n",
    "\n",
    "df_dividend_quota = pd.DataFrame(columns=columns_dividend_quota)\n",
    "df_dividend_quota['Ticker'] = df_dividend_temp['Ticker'].unique()\n",
    "\n",
    "df_dividend_quota = df_dividend_quota.merge(df_dividend_temp.groupby('Ticker')['Data_Referencia'].agg(['min', 'max']).rename(columns={'min': 'Data_Referencia_Ini', 'max': 'Data_Referencia_Fin'}), on='Ticker')\n",
    "\n",
    "#Dividend_Ini\n",
    "df_temp = df_dividend_temp.groupby('Ticker').apply(lambda x: x.loc[x['Data_Referencia'].idxmin()])[['Ticker', 'Dividend_Mean6M']].reset_index(drop=True)\n",
    "df_dividend_quota['Dividend_Ini'] = df_temp[df_temp['Ticker'] == df_dividend_quota['Ticker']]['Dividend_Mean6M']\n",
    "\n",
    "#Dividend_Fin\n",
    "df_temp = df_dividend_temp.groupby('Ticker').apply(lambda x: x.loc[x['Data_Referencia'].idxmax()])[['Ticker', 'Dividend_Mean6M']].reset_index(drop=True)\n",
    "df_dividend_quota['Dividend_Fin'] = df_temp[df_temp['Ticker'] == df_dividend_quota['Ticker']]['Dividend_Mean6M']\n",
    "\n",
    "df_dividend_quota['Months'] = df_dividend_quota.apply(lambda row: diff_month(row['Data_Referencia_Fin'], row['Data_Referencia_Ini']), axis=1)\n",
    "\n",
    "df_dividend_quota['Growth'] = df_dividend_quota.apply(lambda row: compute_growth(row['Dividend_Fin'], row['Dividend_Ini'], row['Months']), axis=1)\n",
    "\n",
    "df_dividend_quota"
   ]
  },
  {
   "cell_type": "code",
   "execution_count": 41,
   "id": "2ea3da5f",
   "metadata": {},
   "outputs": [
    {
     "data": {
      "text/html": [
       "<div>\n",
       "<style scoped>\n",
       "    .dataframe tbody tr th:only-of-type {\n",
       "        vertical-align: middle;\n",
       "    }\n",
       "\n",
       "    .dataframe tbody tr th {\n",
       "        vertical-align: top;\n",
       "    }\n",
       "\n",
       "    .dataframe thead th {\n",
       "        text-align: right;\n",
       "    }\n",
       "</style>\n",
       "<table border=\"1\" class=\"dataframe\">\n",
       "  <thead>\n",
       "    <tr style=\"text-align: right;\">\n",
       "      <th></th>\n",
       "      <th>Metric</th>\n",
       "      <th>Grade_Asc</th>\n",
       "      <th>Interval_0</th>\n",
       "      <th>Interval_25</th>\n",
       "      <th>Interval_50</th>\n",
       "      <th>Interval_75</th>\n",
       "      <th>Interval_100</th>\n",
       "      <th>Grade_0</th>\n",
       "      <th>Grade_25</th>\n",
       "      <th>Grade_50</th>\n",
       "      <th>Grade_75</th>\n",
       "      <th>Grade_100</th>\n",
       "      <th>Coef_0</th>\n",
       "      <th>Coef_25</th>\n",
       "      <th>Coef_50</th>\n",
       "      <th>Coef_75</th>\n",
       "    </tr>\n",
       "  </thead>\n",
       "  <tbody>\n",
       "    <tr>\n",
       "      <th>0</th>\n",
       "      <td>Evolucao Patrimonial</td>\n",
       "      <td>True</td>\n",
       "      <td>0.000052</td>\n",
       "      <td>0.006599</td>\n",
       "      <td>0.021403</td>\n",
       "      <td>0.034059</td>\n",
       "      <td>4.984031e-02</td>\n",
       "      <td>1.0</td>\n",
       "      <td>3.0</td>\n",
       "      <td>5.5</td>\n",
       "      <td>8.0</td>\n",
       "      <td>10.0</td>\n",
       "      <td>0.003273</td>\n",
       "      <td>0.005922</td>\n",
       "      <td>0.005062</td>\n",
       "      <td>0.007891</td>\n",
       "    </tr>\n",
       "    <tr>\n",
       "      <th>1</th>\n",
       "      <td>PVP</td>\n",
       "      <td>False</td>\n",
       "      <td>0.500000</td>\n",
       "      <td>0.900000</td>\n",
       "      <td>1.100000</td>\n",
       "      <td>1.300000</td>\n",
       "      <td>1.600000e+00</td>\n",
       "      <td>10.0</td>\n",
       "      <td>8.0</td>\n",
       "      <td>5.5</td>\n",
       "      <td>3.0</td>\n",
       "      <td>1.0</td>\n",
       "      <td>-0.200000</td>\n",
       "      <td>-0.080000</td>\n",
       "      <td>-0.080000</td>\n",
       "      <td>-0.150000</td>\n",
       "    </tr>\n",
       "    <tr>\n",
       "      <th>2</th>\n",
       "      <td>Cotistas</td>\n",
       "      <td>True</td>\n",
       "      <td>528.000000</td>\n",
       "      <td>3705.000000</td>\n",
       "      <td>10341.000000</td>\n",
       "      <td>45732.000000</td>\n",
       "      <td>3.352980e+05</td>\n",
       "      <td>1.0</td>\n",
       "      <td>3.0</td>\n",
       "      <td>5.5</td>\n",
       "      <td>8.0</td>\n",
       "      <td>10.0</td>\n",
       "      <td>1588.500000</td>\n",
       "      <td>2654.400000</td>\n",
       "      <td>14156.400000</td>\n",
       "      <td>144783.000000</td>\n",
       "    </tr>\n",
       "    <tr>\n",
       "      <th>3</th>\n",
       "      <td>Liquidez</td>\n",
       "      <td>True</td>\n",
       "      <td>22.000000</td>\n",
       "      <td>1587.000000</td>\n",
       "      <td>6921.000000</td>\n",
       "      <td>25918.500000</td>\n",
       "      <td>1.197175e+06</td>\n",
       "      <td>1.0</td>\n",
       "      <td>3.0</td>\n",
       "      <td>5.5</td>\n",
       "      <td>8.0</td>\n",
       "      <td>10.0</td>\n",
       "      <td>782.500000</td>\n",
       "      <td>2133.600000</td>\n",
       "      <td>7599.000000</td>\n",
       "      <td>585628.250000</td>\n",
       "    </tr>\n",
       "    <tr>\n",
       "      <th>4</th>\n",
       "      <td>Dividend Yield</td>\n",
       "      <td>True</td>\n",
       "      <td>0.000072</td>\n",
       "      <td>0.003024</td>\n",
       "      <td>0.005977</td>\n",
       "      <td>0.008929</td>\n",
       "      <td>1.188097e-02</td>\n",
       "      <td>1.0</td>\n",
       "      <td>3.0</td>\n",
       "      <td>5.5</td>\n",
       "      <td>8.0</td>\n",
       "      <td>10.0</td>\n",
       "      <td>0.001476</td>\n",
       "      <td>0.001181</td>\n",
       "      <td>0.001181</td>\n",
       "      <td>0.001476</td>\n",
       "    </tr>\n",
       "    <tr>\n",
       "      <th>5</th>\n",
       "      <td>Dividend Cota</td>\n",
       "      <td>True</td>\n",
       "      <td>0.000170</td>\n",
       "      <td>0.003530</td>\n",
       "      <td>0.007525</td>\n",
       "      <td>0.012458</td>\n",
       "      <td>3.449227e-02</td>\n",
       "      <td>1.0</td>\n",
       "      <td>3.0</td>\n",
       "      <td>5.5</td>\n",
       "      <td>8.0</td>\n",
       "      <td>10.0</td>\n",
       "      <td>0.001680</td>\n",
       "      <td>0.001598</td>\n",
       "      <td>0.001973</td>\n",
       "      <td>0.011017</td>\n",
       "    </tr>\n",
       "  </tbody>\n",
       "</table>\n",
       "</div>"
      ],
      "text/plain": [
       "                 Metric  Grade_Asc  Interval_0  Interval_25   Interval_50  \\\n",
       "0  Evolucao Patrimonial       True    0.000052     0.006599      0.021403   \n",
       "1                   PVP      False    0.500000     0.900000      1.100000   \n",
       "2              Cotistas       True  528.000000  3705.000000  10341.000000   \n",
       "3              Liquidez       True   22.000000  1587.000000   6921.000000   \n",
       "4        Dividend Yield       True    0.000072     0.003024      0.005977   \n",
       "5         Dividend Cota       True    0.000170     0.003530      0.007525   \n",
       "\n",
       "    Interval_75  Interval_100  Grade_0  Grade_25  Grade_50  Grade_75  \\\n",
       "0      0.034059  4.984031e-02      1.0       3.0       5.5       8.0   \n",
       "1      1.300000  1.600000e+00     10.0       8.0       5.5       3.0   \n",
       "2  45732.000000  3.352980e+05      1.0       3.0       5.5       8.0   \n",
       "3  25918.500000  1.197175e+06      1.0       3.0       5.5       8.0   \n",
       "4      0.008929  1.188097e-02      1.0       3.0       5.5       8.0   \n",
       "5      0.012458  3.449227e-02      1.0       3.0       5.5       8.0   \n",
       "\n",
       "   Grade_100       Coef_0      Coef_25       Coef_50        Coef_75  \n",
       "0       10.0     0.003273     0.005922      0.005062       0.007891  \n",
       "1        1.0    -0.200000    -0.080000     -0.080000      -0.150000  \n",
       "2       10.0  1588.500000  2654.400000  14156.400000  144783.000000  \n",
       "3       10.0   782.500000  2133.600000   7599.000000  585628.250000  \n",
       "4       10.0     0.001476     0.001181      0.001181       0.001476  \n",
       "5       10.0     0.001680     0.001598      0.001973       0.011017  "
      ]
     },
     "execution_count": 41,
     "metadata": {},
     "output_type": "execute_result"
    }
   ],
   "source": [
    "df_filter = df_dividend_quota[(df_dividend_quota['Growth'] > 0) & (df_dividend_quota['Growth'] < 0.05)]\n",
    "\n",
    "intervals = np.array(range(5), dtype=float)\n",
    "intervals[0] = np.percentile(df_filter['Growth'].values, 0)\n",
    "intervals[1] = np.percentile(df_filter['Growth'].values, 25)\n",
    "intervals[2] = np.percentile(df_filter['Growth'].values, 50)\n",
    "intervals[3] = np.percentile(df_filter['Growth'].values, 75)\n",
    "intervals[4] = np.percentile(df_filter['Growth'].values, 100)\n",
    "\n",
    "include_metric(dividend_share, intervals)\n",
    "\n",
    "df_metrics"
   ]
  },
  {
   "cell_type": "markdown",
   "id": "e2af56b5",
   "metadata": {},
   "source": [
    "# Vacância"
   ]
  },
  {
   "cell_type": "code",
   "execution_count": 42,
   "id": "d3b552f5",
   "metadata": {},
   "outputs": [
    {
     "data": {
      "text/html": [
       "<div>\n",
       "<style scoped>\n",
       "    .dataframe tbody tr th:only-of-type {\n",
       "        vertical-align: middle;\n",
       "    }\n",
       "\n",
       "    .dataframe tbody tr th {\n",
       "        vertical-align: top;\n",
       "    }\n",
       "\n",
       "    .dataframe thead th {\n",
       "        text-align: right;\n",
       "    }\n",
       "</style>\n",
       "<table border=\"1\" class=\"dataframe\">\n",
       "  <thead>\n",
       "    <tr style=\"text-align: right;\">\n",
       "      <th></th>\n",
       "      <th>Metric</th>\n",
       "      <th>Grade_Asc</th>\n",
       "      <th>Interval_0</th>\n",
       "      <th>Interval_25</th>\n",
       "      <th>Interval_50</th>\n",
       "      <th>Interval_75</th>\n",
       "      <th>Interval_100</th>\n",
       "      <th>Grade_0</th>\n",
       "      <th>Grade_25</th>\n",
       "      <th>Grade_50</th>\n",
       "      <th>Grade_75</th>\n",
       "      <th>Grade_100</th>\n",
       "      <th>Coef_0</th>\n",
       "      <th>Coef_25</th>\n",
       "      <th>Coef_50</th>\n",
       "      <th>Coef_75</th>\n",
       "    </tr>\n",
       "  </thead>\n",
       "  <tbody>\n",
       "    <tr>\n",
       "      <th>0</th>\n",
       "      <td>Evolucao Patrimonial</td>\n",
       "      <td>True</td>\n",
       "      <td>0.000052</td>\n",
       "      <td>0.006599</td>\n",
       "      <td>0.021403</td>\n",
       "      <td>0.034059</td>\n",
       "      <td>4.984031e-02</td>\n",
       "      <td>1.0</td>\n",
       "      <td>3.0</td>\n",
       "      <td>5.5</td>\n",
       "      <td>8.0</td>\n",
       "      <td>10.0</td>\n",
       "      <td>0.003273</td>\n",
       "      <td>0.005922</td>\n",
       "      <td>0.005062</td>\n",
       "      <td>0.007891</td>\n",
       "    </tr>\n",
       "    <tr>\n",
       "      <th>1</th>\n",
       "      <td>PVP</td>\n",
       "      <td>False</td>\n",
       "      <td>0.500000</td>\n",
       "      <td>0.900000</td>\n",
       "      <td>1.100000</td>\n",
       "      <td>1.300000</td>\n",
       "      <td>1.600000e+00</td>\n",
       "      <td>10.0</td>\n",
       "      <td>8.0</td>\n",
       "      <td>5.5</td>\n",
       "      <td>3.0</td>\n",
       "      <td>1.0</td>\n",
       "      <td>-0.200000</td>\n",
       "      <td>-0.080000</td>\n",
       "      <td>-0.080000</td>\n",
       "      <td>-0.150000</td>\n",
       "    </tr>\n",
       "    <tr>\n",
       "      <th>2</th>\n",
       "      <td>Cotistas</td>\n",
       "      <td>True</td>\n",
       "      <td>528.000000</td>\n",
       "      <td>3705.000000</td>\n",
       "      <td>10341.000000</td>\n",
       "      <td>45732.000000</td>\n",
       "      <td>3.352980e+05</td>\n",
       "      <td>1.0</td>\n",
       "      <td>3.0</td>\n",
       "      <td>5.5</td>\n",
       "      <td>8.0</td>\n",
       "      <td>10.0</td>\n",
       "      <td>1588.500000</td>\n",
       "      <td>2654.400000</td>\n",
       "      <td>14156.400000</td>\n",
       "      <td>144783.000000</td>\n",
       "    </tr>\n",
       "    <tr>\n",
       "      <th>3</th>\n",
       "      <td>Liquidez</td>\n",
       "      <td>True</td>\n",
       "      <td>22.000000</td>\n",
       "      <td>1587.000000</td>\n",
       "      <td>6921.000000</td>\n",
       "      <td>25918.500000</td>\n",
       "      <td>1.197175e+06</td>\n",
       "      <td>1.0</td>\n",
       "      <td>3.0</td>\n",
       "      <td>5.5</td>\n",
       "      <td>8.0</td>\n",
       "      <td>10.0</td>\n",
       "      <td>782.500000</td>\n",
       "      <td>2133.600000</td>\n",
       "      <td>7599.000000</td>\n",
       "      <td>585628.250000</td>\n",
       "    </tr>\n",
       "    <tr>\n",
       "      <th>4</th>\n",
       "      <td>Dividend Yield</td>\n",
       "      <td>True</td>\n",
       "      <td>0.000072</td>\n",
       "      <td>0.003024</td>\n",
       "      <td>0.005977</td>\n",
       "      <td>0.008929</td>\n",
       "      <td>1.188097e-02</td>\n",
       "      <td>1.0</td>\n",
       "      <td>3.0</td>\n",
       "      <td>5.5</td>\n",
       "      <td>8.0</td>\n",
       "      <td>10.0</td>\n",
       "      <td>0.001476</td>\n",
       "      <td>0.001181</td>\n",
       "      <td>0.001181</td>\n",
       "      <td>0.001476</td>\n",
       "    </tr>\n",
       "    <tr>\n",
       "      <th>5</th>\n",
       "      <td>Dividend Cota</td>\n",
       "      <td>True</td>\n",
       "      <td>0.000170</td>\n",
       "      <td>0.003530</td>\n",
       "      <td>0.007525</td>\n",
       "      <td>0.012458</td>\n",
       "      <td>3.449227e-02</td>\n",
       "      <td>1.0</td>\n",
       "      <td>3.0</td>\n",
       "      <td>5.5</td>\n",
       "      <td>8.0</td>\n",
       "      <td>10.0</td>\n",
       "      <td>0.001680</td>\n",
       "      <td>0.001598</td>\n",
       "      <td>0.001973</td>\n",
       "      <td>0.011017</td>\n",
       "    </tr>\n",
       "    <tr>\n",
       "      <th>6</th>\n",
       "      <td>Vacancia</td>\n",
       "      <td>False</td>\n",
       "      <td>0.000000</td>\n",
       "      <td>0.200000</td>\n",
       "      <td>0.400000</td>\n",
       "      <td>0.600000</td>\n",
       "      <td>8.000000e-01</td>\n",
       "      <td>10.0</td>\n",
       "      <td>8.0</td>\n",
       "      <td>5.5</td>\n",
       "      <td>3.0</td>\n",
       "      <td>1.0</td>\n",
       "      <td>-0.100000</td>\n",
       "      <td>-0.080000</td>\n",
       "      <td>-0.080000</td>\n",
       "      <td>-0.100000</td>\n",
       "    </tr>\n",
       "  </tbody>\n",
       "</table>\n",
       "</div>"
      ],
      "text/plain": [
       "                 Metric  Grade_Asc  Interval_0  Interval_25   Interval_50  \\\n",
       "0  Evolucao Patrimonial       True    0.000052     0.006599      0.021403   \n",
       "1                   PVP      False    0.500000     0.900000      1.100000   \n",
       "2              Cotistas       True  528.000000  3705.000000  10341.000000   \n",
       "3              Liquidez       True   22.000000  1587.000000   6921.000000   \n",
       "4        Dividend Yield       True    0.000072     0.003024      0.005977   \n",
       "5         Dividend Cota       True    0.000170     0.003530      0.007525   \n",
       "6              Vacancia      False    0.000000     0.200000      0.400000   \n",
       "\n",
       "    Interval_75  Interval_100  Grade_0  Grade_25  Grade_50  Grade_75  \\\n",
       "0      0.034059  4.984031e-02      1.0       3.0       5.5       8.0   \n",
       "1      1.300000  1.600000e+00     10.0       8.0       5.5       3.0   \n",
       "2  45732.000000  3.352980e+05      1.0       3.0       5.5       8.0   \n",
       "3  25918.500000  1.197175e+06      1.0       3.0       5.5       8.0   \n",
       "4      0.008929  1.188097e-02      1.0       3.0       5.5       8.0   \n",
       "5      0.012458  3.449227e-02      1.0       3.0       5.5       8.0   \n",
       "6      0.600000  8.000000e-01     10.0       8.0       5.5       3.0   \n",
       "\n",
       "   Grade_100       Coef_0      Coef_25       Coef_50        Coef_75  \n",
       "0       10.0     0.003273     0.005922      0.005062       0.007891  \n",
       "1        1.0    -0.200000    -0.080000     -0.080000      -0.150000  \n",
       "2       10.0  1588.500000  2654.400000  14156.400000  144783.000000  \n",
       "3       10.0   782.500000  2133.600000   7599.000000  585628.250000  \n",
       "4       10.0     0.001476     0.001181      0.001181       0.001476  \n",
       "5       10.0     0.001680     0.001598      0.001973       0.011017  \n",
       "6        1.0    -0.100000    -0.080000     -0.080000      -0.100000  "
      ]
     },
     "execution_count": 42,
     "metadata": {},
     "output_type": "execute_result"
    }
   ],
   "source": [
    "columns_vacancy = ['Ticker']\n",
    "\n",
    "df_vacancy = pd.DataFrame(columns=columns_vacancy)\n",
    "df_vacancy['Ticker'] = df_cvm_quarterly_imovel[df_cvm_quarterly_imovel['Percentual_Vacancia'].isnull() == False]['Ticker'].unique()\n",
    "df_vacancy = df_vacancy.merge(df_cvm_quarterly_imovel.groupby('Ticker')['Percentual_Vacancia'].agg(['mean']).rename(columns={'mean': 'Vacancy'}), on='Ticker')\n",
    "# df_vacancy = df_cvm_quarterly_imovel[df_cvm_quarterly_imovel['Percentual_Vacancia'].isnull() == False].groupby('Ticker')[['Ticker','Percentual_Vacancia']].mean()\n",
    "\n",
    "intervals = np.array(range(5), dtype=float)\n",
    "intervals[0] = 0\n",
    "intervals[1] = 0.2\n",
    "intervals[2] = 0.4\n",
    "intervals[3] = 0.6\n",
    "intervals[4] = 0.8\n",
    "\n",
    "include_metric(vacancy, intervals, grade_asc=False)\n",
    "\n",
    "df_metrics"
   ]
  },
  {
   "cell_type": "markdown",
   "id": "b4c9e9f9",
   "metadata": {},
   "source": [
    "# Inadimplência"
   ]
  },
  {
   "cell_type": "code",
   "execution_count": 43,
   "id": "10b9d9e9",
   "metadata": {},
   "outputs": [
    {
     "data": {
      "text/html": [
       "<div>\n",
       "<style scoped>\n",
       "    .dataframe tbody tr th:only-of-type {\n",
       "        vertical-align: middle;\n",
       "    }\n",
       "\n",
       "    .dataframe tbody tr th {\n",
       "        vertical-align: top;\n",
       "    }\n",
       "\n",
       "    .dataframe thead th {\n",
       "        text-align: right;\n",
       "    }\n",
       "</style>\n",
       "<table border=\"1\" class=\"dataframe\">\n",
       "  <thead>\n",
       "    <tr style=\"text-align: right;\">\n",
       "      <th></th>\n",
       "      <th>Metric</th>\n",
       "      <th>Grade_Asc</th>\n",
       "      <th>Interval_0</th>\n",
       "      <th>Interval_25</th>\n",
       "      <th>Interval_50</th>\n",
       "      <th>Interval_75</th>\n",
       "      <th>Interval_100</th>\n",
       "      <th>Grade_0</th>\n",
       "      <th>Grade_25</th>\n",
       "      <th>Grade_50</th>\n",
       "      <th>Grade_75</th>\n",
       "      <th>Grade_100</th>\n",
       "      <th>Coef_0</th>\n",
       "      <th>Coef_25</th>\n",
       "      <th>Coef_50</th>\n",
       "      <th>Coef_75</th>\n",
       "    </tr>\n",
       "  </thead>\n",
       "  <tbody>\n",
       "    <tr>\n",
       "      <th>0</th>\n",
       "      <td>Evolucao Patrimonial</td>\n",
       "      <td>True</td>\n",
       "      <td>0.000052</td>\n",
       "      <td>0.006599</td>\n",
       "      <td>0.021403</td>\n",
       "      <td>0.034059</td>\n",
       "      <td>4.984031e-02</td>\n",
       "      <td>1.0</td>\n",
       "      <td>3.0</td>\n",
       "      <td>5.5</td>\n",
       "      <td>8.0</td>\n",
       "      <td>10.0</td>\n",
       "      <td>0.003273</td>\n",
       "      <td>0.005922</td>\n",
       "      <td>0.005062</td>\n",
       "      <td>0.007891</td>\n",
       "    </tr>\n",
       "    <tr>\n",
       "      <th>1</th>\n",
       "      <td>PVP</td>\n",
       "      <td>False</td>\n",
       "      <td>0.500000</td>\n",
       "      <td>0.900000</td>\n",
       "      <td>1.100000</td>\n",
       "      <td>1.300000</td>\n",
       "      <td>1.600000e+00</td>\n",
       "      <td>10.0</td>\n",
       "      <td>8.0</td>\n",
       "      <td>5.5</td>\n",
       "      <td>3.0</td>\n",
       "      <td>1.0</td>\n",
       "      <td>-0.200000</td>\n",
       "      <td>-0.080000</td>\n",
       "      <td>-0.080000</td>\n",
       "      <td>-0.150000</td>\n",
       "    </tr>\n",
       "    <tr>\n",
       "      <th>2</th>\n",
       "      <td>Cotistas</td>\n",
       "      <td>True</td>\n",
       "      <td>528.000000</td>\n",
       "      <td>3705.000000</td>\n",
       "      <td>10341.000000</td>\n",
       "      <td>45732.000000</td>\n",
       "      <td>3.352980e+05</td>\n",
       "      <td>1.0</td>\n",
       "      <td>3.0</td>\n",
       "      <td>5.5</td>\n",
       "      <td>8.0</td>\n",
       "      <td>10.0</td>\n",
       "      <td>1588.500000</td>\n",
       "      <td>2654.400000</td>\n",
       "      <td>14156.400000</td>\n",
       "      <td>144783.000000</td>\n",
       "    </tr>\n",
       "    <tr>\n",
       "      <th>3</th>\n",
       "      <td>Liquidez</td>\n",
       "      <td>True</td>\n",
       "      <td>22.000000</td>\n",
       "      <td>1587.000000</td>\n",
       "      <td>6921.000000</td>\n",
       "      <td>25918.500000</td>\n",
       "      <td>1.197175e+06</td>\n",
       "      <td>1.0</td>\n",
       "      <td>3.0</td>\n",
       "      <td>5.5</td>\n",
       "      <td>8.0</td>\n",
       "      <td>10.0</td>\n",
       "      <td>782.500000</td>\n",
       "      <td>2133.600000</td>\n",
       "      <td>7599.000000</td>\n",
       "      <td>585628.250000</td>\n",
       "    </tr>\n",
       "    <tr>\n",
       "      <th>4</th>\n",
       "      <td>Dividend Yield</td>\n",
       "      <td>True</td>\n",
       "      <td>0.000072</td>\n",
       "      <td>0.003024</td>\n",
       "      <td>0.005977</td>\n",
       "      <td>0.008929</td>\n",
       "      <td>1.188097e-02</td>\n",
       "      <td>1.0</td>\n",
       "      <td>3.0</td>\n",
       "      <td>5.5</td>\n",
       "      <td>8.0</td>\n",
       "      <td>10.0</td>\n",
       "      <td>0.001476</td>\n",
       "      <td>0.001181</td>\n",
       "      <td>0.001181</td>\n",
       "      <td>0.001476</td>\n",
       "    </tr>\n",
       "    <tr>\n",
       "      <th>5</th>\n",
       "      <td>Dividend Cota</td>\n",
       "      <td>True</td>\n",
       "      <td>0.000170</td>\n",
       "      <td>0.003530</td>\n",
       "      <td>0.007525</td>\n",
       "      <td>0.012458</td>\n",
       "      <td>3.449227e-02</td>\n",
       "      <td>1.0</td>\n",
       "      <td>3.0</td>\n",
       "      <td>5.5</td>\n",
       "      <td>8.0</td>\n",
       "      <td>10.0</td>\n",
       "      <td>0.001680</td>\n",
       "      <td>0.001598</td>\n",
       "      <td>0.001973</td>\n",
       "      <td>0.011017</td>\n",
       "    </tr>\n",
       "    <tr>\n",
       "      <th>6</th>\n",
       "      <td>Vacancia</td>\n",
       "      <td>False</td>\n",
       "      <td>0.000000</td>\n",
       "      <td>0.200000</td>\n",
       "      <td>0.400000</td>\n",
       "      <td>0.600000</td>\n",
       "      <td>8.000000e-01</td>\n",
       "      <td>10.0</td>\n",
       "      <td>8.0</td>\n",
       "      <td>5.5</td>\n",
       "      <td>3.0</td>\n",
       "      <td>1.0</td>\n",
       "      <td>-0.100000</td>\n",
       "      <td>-0.080000</td>\n",
       "      <td>-0.080000</td>\n",
       "      <td>-0.100000</td>\n",
       "    </tr>\n",
       "    <tr>\n",
       "      <th>7</th>\n",
       "      <td>Inadimplencia</td>\n",
       "      <td>False</td>\n",
       "      <td>0.000000</td>\n",
       "      <td>0.100000</td>\n",
       "      <td>0.250000</td>\n",
       "      <td>0.500000</td>\n",
       "      <td>8.000000e-01</td>\n",
       "      <td>10.0</td>\n",
       "      <td>8.0</td>\n",
       "      <td>5.5</td>\n",
       "      <td>3.0</td>\n",
       "      <td>1.0</td>\n",
       "      <td>-0.050000</td>\n",
       "      <td>-0.060000</td>\n",
       "      <td>-0.100000</td>\n",
       "      <td>-0.150000</td>\n",
       "    </tr>\n",
       "  </tbody>\n",
       "</table>\n",
       "</div>"
      ],
      "text/plain": [
       "                 Metric  Grade_Asc  Interval_0  Interval_25   Interval_50  \\\n",
       "0  Evolucao Patrimonial       True    0.000052     0.006599      0.021403   \n",
       "1                   PVP      False    0.500000     0.900000      1.100000   \n",
       "2              Cotistas       True  528.000000  3705.000000  10341.000000   \n",
       "3              Liquidez       True   22.000000  1587.000000   6921.000000   \n",
       "4        Dividend Yield       True    0.000072     0.003024      0.005977   \n",
       "5         Dividend Cota       True    0.000170     0.003530      0.007525   \n",
       "6              Vacancia      False    0.000000     0.200000      0.400000   \n",
       "7         Inadimplencia      False    0.000000     0.100000      0.250000   \n",
       "\n",
       "    Interval_75  Interval_100  Grade_0  Grade_25  Grade_50  Grade_75  \\\n",
       "0      0.034059  4.984031e-02      1.0       3.0       5.5       8.0   \n",
       "1      1.300000  1.600000e+00     10.0       8.0       5.5       3.0   \n",
       "2  45732.000000  3.352980e+05      1.0       3.0       5.5       8.0   \n",
       "3  25918.500000  1.197175e+06      1.0       3.0       5.5       8.0   \n",
       "4      0.008929  1.188097e-02      1.0       3.0       5.5       8.0   \n",
       "5      0.012458  3.449227e-02      1.0       3.0       5.5       8.0   \n",
       "6      0.600000  8.000000e-01     10.0       8.0       5.5       3.0   \n",
       "7      0.500000  8.000000e-01     10.0       8.0       5.5       3.0   \n",
       "\n",
       "   Grade_100       Coef_0      Coef_25       Coef_50        Coef_75  \n",
       "0       10.0     0.003273     0.005922      0.005062       0.007891  \n",
       "1        1.0    -0.200000    -0.080000     -0.080000      -0.150000  \n",
       "2       10.0  1588.500000  2654.400000  14156.400000  144783.000000  \n",
       "3       10.0   782.500000  2133.600000   7599.000000  585628.250000  \n",
       "4       10.0     0.001476     0.001181      0.001181       0.001476  \n",
       "5       10.0     0.001680     0.001598      0.001973       0.011017  \n",
       "6        1.0    -0.100000    -0.080000     -0.080000      -0.100000  \n",
       "7        1.0    -0.050000    -0.060000     -0.100000      -0.150000  "
      ]
     },
     "execution_count": 43,
     "metadata": {},
     "output_type": "execute_result"
    }
   ],
   "source": [
    "columns_default = ['Ticker']\n",
    "\n",
    "df_default = pd.DataFrame(columns=columns_default)\n",
    "df_default['Ticker'] = df_cvm_quarterly_imovel[df_cvm_quarterly_imovel['Percentual_Inadimplencia'].isnull() == False]['Ticker'].unique()\n",
    "df_default = df_default.merge(df_cvm_quarterly_imovel.groupby('Ticker')['Percentual_Inadimplencia'].agg(['mean']).rename(columns={'mean': 'Default'}), on='Ticker')\n",
    "\n",
    "intervals = np.array(range(5), dtype=float)\n",
    "intervals[0] = 0\n",
    "intervals[1] = 0.1\n",
    "intervals[2] = 0.25\n",
    "intervals[3] = 0.5\n",
    "intervals[4] = 0.8\n",
    "\n",
    "include_metric(default, intervals, grade_asc=False)\n",
    "\n",
    "df_metrics"
   ]
  },
  {
   "cell_type": "markdown",
   "id": "1644d539",
   "metadata": {},
   "source": [
    "# Dataframe Avaliação"
   ]
  },
  {
   "cell_type": "code",
   "execution_count": 44,
   "id": "d512c6f0",
   "metadata": {},
   "outputs": [
    {
     "data": {
      "text/html": [
       "<div>\n",
       "<style scoped>\n",
       "    .dataframe tbody tr th:only-of-type {\n",
       "        vertical-align: middle;\n",
       "    }\n",
       "\n",
       "    .dataframe tbody tr th {\n",
       "        vertical-align: top;\n",
       "    }\n",
       "\n",
       "    .dataframe thead th {\n",
       "        text-align: right;\n",
       "    }\n",
       "</style>\n",
       "<table border=\"1\" class=\"dataframe\">\n",
       "  <thead>\n",
       "    <tr style=\"text-align: right;\">\n",
       "      <th></th>\n",
       "      <th>Ticker</th>\n",
       "      <th>Metric</th>\n",
       "      <th>Value</th>\n",
       "      <th>Grade</th>\n",
       "    </tr>\n",
       "  </thead>\n",
       "  <tbody>\n",
       "    <tr>\n",
       "      <th>0</th>\n",
       "      <td>ABCP11</td>\n",
       "      <td>Evolucao Patrimonial</td>\n",
       "      <td>-0.004103</td>\n",
       "      <td>0.000000</td>\n",
       "    </tr>\n",
       "    <tr>\n",
       "      <th>1</th>\n",
       "      <td>AFHI11</td>\n",
       "      <td>Evolucao Patrimonial</td>\n",
       "      <td>0.021403</td>\n",
       "      <td>5.500000</td>\n",
       "    </tr>\n",
       "    <tr>\n",
       "      <th>2</th>\n",
       "      <td>AIEC11</td>\n",
       "      <td>Evolucao Patrimonial</td>\n",
       "      <td>-0.003514</td>\n",
       "      <td>0.000000</td>\n",
       "    </tr>\n",
       "    <tr>\n",
       "      <th>3</th>\n",
       "      <td>ALMI11</td>\n",
       "      <td>Evolucao Patrimonial</td>\n",
       "      <td>0.001971</td>\n",
       "      <td>1.586171</td>\n",
       "    </tr>\n",
       "    <tr>\n",
       "      <th>4</th>\n",
       "      <td>ALZM11</td>\n",
       "      <td>Evolucao Patrimonial</td>\n",
       "      <td>0.029027</td>\n",
       "      <td>7.005911</td>\n",
       "    </tr>\n",
       "    <tr>\n",
       "      <th>...</th>\n",
       "      <td>...</td>\n",
       "      <td>...</td>\n",
       "      <td>...</td>\n",
       "      <td>...</td>\n",
       "    </tr>\n",
       "    <tr>\n",
       "      <th>1529</th>\n",
       "      <td>APTO11</td>\n",
       "      <td>Inadimplencia</td>\n",
       "      <td>0.000000</td>\n",
       "      <td>10.000000</td>\n",
       "    </tr>\n",
       "    <tr>\n",
       "      <th>1530</th>\n",
       "      <td>CARE11</td>\n",
       "      <td>Inadimplencia</td>\n",
       "      <td>0.000000</td>\n",
       "      <td>10.000000</td>\n",
       "    </tr>\n",
       "    <tr>\n",
       "      <th>1531</th>\n",
       "      <td>DPRO11</td>\n",
       "      <td>Inadimplencia</td>\n",
       "      <td>0.000000</td>\n",
       "      <td>10.000000</td>\n",
       "    </tr>\n",
       "    <tr>\n",
       "      <th>1532</th>\n",
       "      <td>CXRI11</td>\n",
       "      <td>Inadimplencia</td>\n",
       "      <td>0.000000</td>\n",
       "      <td>10.000000</td>\n",
       "    </tr>\n",
       "    <tr>\n",
       "      <th>1533</th>\n",
       "      <td>MCHF11</td>\n",
       "      <td>Inadimplencia</td>\n",
       "      <td>0.000000</td>\n",
       "      <td>10.000000</td>\n",
       "    </tr>\n",
       "  </tbody>\n",
       "</table>\n",
       "<p>1534 rows × 4 columns</p>\n",
       "</div>"
      ],
      "text/plain": [
       "      Ticker                Metric     Value      Grade\n",
       "0     ABCP11  Evolucao Patrimonial -0.004103   0.000000\n",
       "1     AFHI11  Evolucao Patrimonial  0.021403   5.500000\n",
       "2     AIEC11  Evolucao Patrimonial -0.003514   0.000000\n",
       "3     ALMI11  Evolucao Patrimonial  0.001971   1.586171\n",
       "4     ALZM11  Evolucao Patrimonial  0.029027   7.005911\n",
       "...      ...                   ...       ...        ...\n",
       "1529  APTO11         Inadimplencia  0.000000  10.000000\n",
       "1530  CARE11         Inadimplencia  0.000000  10.000000\n",
       "1531  DPRO11         Inadimplencia  0.000000  10.000000\n",
       "1532  CXRI11         Inadimplencia  0.000000  10.000000\n",
       "1533  MCHF11         Inadimplencia  0.000000  10.000000\n",
       "\n",
       "[1534 rows x 4 columns]"
      ]
     },
     "execution_count": 44,
     "metadata": {},
     "output_type": "execute_result"
    }
   ],
   "source": [
    "include_grade_data(df_net_worth['Ticker'], df_net_worth['Growth'], equity_growth)\n",
    "include_grade_data(df_pvp['Ticker'], df_pvp['PVP'], pvp)\n",
    "include_grade_data(df_current['Ticker'], df_current['Total_Numero_Cotistas'], shareholders)\n",
    "include_grade_data(df_liquidity['Ticker'], df_liquidity['averageVolume'], liquidity)\n",
    "include_grade_data(df_dividend_yield['Ticker'], df_dividend_yield['DY_Mean'], dividend_yield)\n",
    "include_grade_data(df_dividend_quota['Ticker'], df_dividend_quota['Growth'], dividend_share)\n",
    "include_grade_data(df_vacancy['Ticker'], df_vacancy['Vacancy'], vacancy)\n",
    "include_grade_data(df_default['Ticker'], df_default['Default'], default)\n",
    "df_grade"
   ]
  },
  {
   "cell_type": "markdown",
   "id": "c6ca390b",
   "metadata": {},
   "source": [
    "# Dashboard"
   ]
  },
  {
   "cell_type": "code",
   "execution_count": 45,
   "id": "631d1e11",
   "metadata": {},
   "outputs": [],
   "source": [
    "def include_metric_score(metric, weight):\n",
    "    global df_grade, df_dash_filtered\n",
    "    \n",
    "    if weight > 0:\n",
    "        df_temp = df_grade[df_grade['Metric'] == metric].set_index('Ticker')[['Grade']].rename(columns={'Grade': 'Grade_' + metric})\n",
    "        df_dash_filtered = df_dash_filtered.join(df_temp, on='Ticker', how='left')\n",
    "        df_dash_filtered.loc[df_dash_filtered['Grade_' + metric].isnull() == False, 'Weight_' + metric] = weight\n",
    "        df_dash_filtered['Score_' + metric] = df_dash_filtered['Grade_' + metric] * df_dash_filtered['Weight_' + metric]"
   ]
  },
  {
   "cell_type": "code",
   "execution_count": 46,
   "id": "d789c30b",
   "metadata": {},
   "outputs": [
    {
     "data": {
      "text/plain": [
       "(219, 6)"
      ]
     },
     "execution_count": 46,
     "metadata": {},
     "output_type": "execute_result"
    }
   ],
   "source": [
    "df_dash = df_current[['Ticker', 'Tipo_Gestao', 'Segmento_Atuacao']]\n",
    "df_dash = df_dash.join(df_asset_dist.set_index('Ticker')[['Tipo']], on='Ticker')\n",
    "df_dash = df_dash.join(df_ativos_inquilinos.set_index('Ticker')[['Ativos', 'Inquilinos']], on='Ticker')\n",
    "df_dash.loc[df_dash['Ativos'].isnull(), 'Ativos'] = 0\n",
    "df_dash.loc[df_dash['Inquilinos'].isnull(), 'Inquilinos'] = 0\n",
    "#df_dash.isnull().sum()\n",
    "df_dash.shape"
   ]
  },
  {
   "cell_type": "code",
   "execution_count": 47,
   "id": "a93e0693",
   "metadata": {},
   "outputs": [],
   "source": [
    "columns_grade_metrics = ['Grade_' + metric for metric in metrics]\n",
    "\n",
    "list_management_type = [{'label': value, 'value': value} for value in df_dash['Tipo_Gestao'].unique()]\n",
    "list_fii_type = [{'label': value, 'value': value} for value in df_dash['Tipo'].unique()]\n",
    "list_segment = [{'label': value, 'value': value} for value in df_dash['Segmento_Atuacao'].unique()]"
   ]
  },
  {
   "cell_type": "code",
   "execution_count": 48,
   "id": "25d06de0",
   "metadata": {},
   "outputs": [],
   "source": [
    "div_elements_metrics = []\n",
    "i = 0\n",
    "for metric in metrics:\n",
    "    div_elements_metrics.append(\n",
    "        html.Div(style={'width': '25%', 'display': 'inline-block'}, children=[\n",
    "            html.Label(metric),\n",
    "            dcc.Slider(0, 2, 0.5, value=1,\n",
    "               id='slider-metric-' + str(i)\n",
    "        )])\n",
    "    )\n",
    "    i += 1"
   ]
  },
  {
   "cell_type": "code",
   "execution_count": 71,
   "id": "c5e007ab",
   "metadata": {},
   "outputs": [
    {
     "data": {
      "application/vnd.plotly.v1+json": {
       "config": {
        "plotlyServerURL": "https://plot.ly"
       },
       "data": [
        {
         "hovertemplate": "Ticker=%{x}<br>Value=%{y}<extra></extra>",
         "legendgroup": "",
         "marker": {
          "color": "#636efa",
          "symbol": "circle"
         },
         "mode": "markers",
         "name": "",
         "orientation": "v",
         "showlegend": false,
         "type": "scatter",
         "x": [
          "ABCP11",
          "AFHI11",
          "AIEC11",
          "ALMI11",
          "ALZM11",
          "ALZR11",
          "APTO11",
          "AROA11",
          "BARI11",
          "BBFI11B",
          "BBFO11",
          "BBRC11",
          "BCFF11",
          "BCIA11",
          "BCRI11",
          "BICR11",
          "BIME11",
          "BLMG11",
          "BLMR11",
          "BMLC11",
          "BNFS11",
          "BPFF11",
          "BRCO11",
          "BRCR11",
          "BTCI11",
          "BTLG11",
          "BTRA11",
          "CACR11",
          "CARE11",
          "CBOP11",
          "CEOC11",
          "CNES11",
          "CPFF11",
          "CPTS11",
          "CRFF11",
          "CTXT11",
          "CVBI11",
          "CXAG11",
          "CXCE11B",
          "CXCI11",
          "CXCO11",
          "CXRI11",
          "CXTL11",
          "CYCR11",
          "DEVA11",
          "DPRO11",
          "DVFF11",
          "EDFO11B",
          "EDGA11",
          "EQIR11",
          "EURO11",
          "EVBI11",
          "FAED11",
          "FAMB11B",
          "FATN11",
          "FCFL11",
          "FIGS11",
          "FIIB11",
          "FIIP11B",
          "FIVN11",
          "FLCR11",
          "FLMA11",
          "FLRP11",
          "FPAB11",
          "FVPQ11",
          "GALG11",
          "GAME11",
          "GCFF11",
          "GCRI11",
          "GGRC11",
          "GSFI11",
          "GTWR11",
          "HABT11",
          "HBRH11",
          "HCRI11",
          "HCTR11",
          "HFOF11",
          "HGBS11",
          "HGCR11",
          "HGFF11",
          "HGLG11",
          "HGPO11",
          "HGRE11",
          "HGRU11",
          "HLOG11",
          "HOFC11",
          "HOSI11",
          "HREC11",
          "HSAF11",
          "HSLG11",
          "HSML11",
          "HTMX11",
          "IBCR11",
          "IRDM11",
          "IRIM11",
          "ITIP11",
          "ITIT11",
          "JFLL11",
          "JPPA11",
          "JSAF11",
          "JSRE11",
          "KCRE11",
          "KFOF11",
          "KISU11",
          "KIVO11",
          "KNCR11",
          "KNHF11",
          "KNRI11",
          "KNSC11",
          "LGCP11",
          "LIFE11",
          "LUGG11",
          "LVBI11",
          "MALL11",
          "MANA11",
          "MAXR11",
          "MCCI11",
          "MCHF11",
          "MFAI11",
          "MFII11",
          "MGCR11",
          "MGHT11",
          "MORC11",
          "MORE11",
          "MXRF11",
          "NCHB11",
          "NCRI11",
          "NEWL11",
          "NEWU11",
          "NSLU11",
          "OGHY11",
          "ONEF11",
          "OUFF11",
          "OUJP11",
          "OULG11",
          "OURE11",
          "PABY11",
          "PATC11",
          "PATL11",
          "PLCR11",
          "PORD11",
          "PQDP11",
          "PRSV11",
          "PVBI11",
          "QAGR11",
          "QAMI11",
          "RBED11",
          "RBFF11",
          "RBHY11",
          "RBOP11",
          "RBRD11",
          "RBRF11",
          "RBRL11",
          "RBRP11",
          "RBRR11",
          "RBRS11",
          "RBRY11",
          "RBVA11",
          "RCRB11",
          "RECR11",
          "RECT11",
          "RELG11",
          "RFOF11",
          "RINV11",
          "RNDP11",
          "RNGO11",
          "RPRI11",
          "RRCI11",
          "RVBI11",
          "RZAK11",
          "RZAT11",
          "SADI11",
          "SARE11",
          "SCPF11",
          "SDIL11",
          "SEQR11",
          "SHPH11",
          "SNCI11",
          "SNEL11",
          "SNFF11",
          "SNLG11",
          "SPTW11",
          "SPXS11",
          "TEPP11",
          "TGAR11",
          "TORD11",
          "TRNT11",
          "TRXF11",
          "VCJR11",
          "VCRR11",
          "VGHF11",
          "VGIP11",
          "VGIR11",
          "VIFI11",
          "VILG11",
          "VINO11",
          "VISC11",
          "VIUR11",
          "VOTS11",
          "VRTA11",
          "VSHO11",
          "VTLT11",
          "VVPR11",
          "WHGR11",
          "WPLZ11",
          "XPCI11",
          "XPCM11",
          "XPHT11",
          "XPIN11",
          "XPLG11",
          "XPML11",
          "XPPR11",
          "XPSF11",
          "ZAVI11"
         ],
         "xaxis": "x",
         "y": [
          0.7636748254762796,
          1.0113666552651484,
          0.6187262947864504,
          0.30413284645853134,
          0.9896923425538111,
          1.101434964709638,
          0.939482045259902,
          1.0284602052750473,
          0.8805985375605708,
          0.6362049532471273,
          0.9034137561657373,
          1.0985360133871709,
          0.9296759405076869,
          0.957360188639713,
          0.778872891632917,
          1.2589366414144114,
          0.8264445102063611,
          0.4885774515258252,
          0.8534522507826917,
          0.9574372751689028,
          1.4378837265763742,
          0.9248480190206274,
          1.013619358695598,
          0.5829634189597452,
          0.9768551426854886,
          1.0476313127841845,
          0.4664022144047428,
          1.0176291053208018,
          0.23574542694549536,
          0.40660089419592216,
          0.6277845220647891,
          0.031112288744074627,
          0.9208977598560512,
          0.9336677860805821,
          0.9057736296160543,
          0.3443093907410582,
          0.9820918770224351,
          0.6923473484548577,
          0.6717325655559611,
          0.8755297761634467,
          0.8119253866698778,
          0.8718560834620912,
          0.5759017377777622,
          0.9798349038265282,
          0.4122394253756744,
          0.834236090774035,
          0.8402499045048462,
          1.0292552393761925,
          0.3183399775905243,
          0.8970766676246128,
          0.740907208422101,
          0.9933304040297597,
          0.7232019200092191,
          0.2848641061776381,
          0.9200922552232239,
          0.9963764796516469,
          0.7354019127000614,
          1.1243924391794855,
          0.8836830046017972,
          0.4366067411306242,
          1.0152611745874742,
          0.6598510033517451,
          0.9730083937448935,
          0.579561094811866,
          0.5215699819881724,
          0.9821947144585108,
          0.9262508613159627,
          0.8941134935028203,
          0.90214537234856,
          0.10213468324750037,
          0.541252899383767,
          0.850365973218941,
          0.9405117106618287,
          0.8103654505266039,
          0.9590330929568277,
          0.2851339479968529,
          0.9588733819887779,
          0.9853986367242701,
          1.0386284911784869,
          0.9669902763869672,
          1.0624507386359776,
          0.9912215757766705,
          0.8403680781681842,
          1.0683804783648796,
          0.7146281855361662,
          0.39739880541355327,
          0.9654014890923844,
          0.937817901862093,
          0.9629263941398618,
          0.9385302107963039,
          1.040812910238411,
          1.2090548454884666,
          0.8219416818848719,
          0.8612273790892898,
          0.8612296344376497,
          0.9870742119384609,
          0.9232714538860406,
          0.7199764007842177,
          0.9135475629710716,
          1.0460920191628005,
          0.6712489844209328,
          0.9718502881709776,
          1.038071801799482,
          0.921807564588717,
          0.9958059759106388,
          1.0193061685144102,
          1.0085984145367541,
          1.030022376671766,
          1.0099222962140615,
          0.8552212992211617,
          0.9872264727352151,
          0.6316511608490257,
          0.9968879023558183,
          0.9813801875881005,
          0.9693724801353567,
          0.632814521696819,
          0.9931831179882603,
          0.9683250704710608,
          0.8568333180557812,
          0.9325782540997282,
          0.9507219032289557,
          0.5060304986055836,
          0.913003368254841,
          0.8708191618073113,
          1.054806473768849,
          0.9436060512912632,
          0.8431960114498063,
          0.8482235195091367,
          1.0874399231627303,
          0.9513458531704099,
          0.9184312940717999,
          0.9165362298948232,
          0.8905204100465417,
          0.9503007990488475,
          0.4588197772415844,
          0.7815624719248692,
          -0.6771237509120933,
          0.9015611963842953,
          0.6805630885367602,
          0.981497939449176,
          0.9320745471739915,
          0.5860825571710276,
          0.383512296046075,
          1.0089929132596183,
          0.8333445658709675,
          0,
          0.9864777864717942,
          0.9060589063603555,
          0.9558062789923042,
          0.48219114443089683,
          0.6059591762736838,
          0.9235095414819741,
          0.7789532056248161,
          0.7305464102148493,
          0.96162064578208,
          0.5258558613754003,
          1.0073175716055585,
          1.0280306603964353,
          0.7873185343936099,
          0.9059998106904056,
          0.4576844054837576,
          0.3884382307184839,
          0.9441479179074003,
          1.027514822612214,
          1.1897647237921944,
          0.5825399549932669,
          0.9890875620462705,
          0.911727927528147,
          0.9886151118222122,
          0.966967399898044,
          0.9672874823011066,
          0.9268615134281672,
          0.47513417450219164,
          0.3321089794227897,
          0.912817770721361,
          0.6262906093383859,
          0.9615819555714702,
          0.9668346317573581,
          1.5044268913335335,
          0.9110631865389082,
          0.49507791342044455,
          0.7627867557438732,
          0.977555816052814,
          0.9835881155664049,
          1.027846454526607,
          0.14080199214776237,
          0.6378990401295747,
          1.018140715600023,
          0.969603198119436,
          0.5450381475759645,
          0.9989009945495589,
          0.9986302166673166,
          1.0040241904260967,
          0.8838812415389576,
          0.8057515394896554,
          0.7158161762489943,
          0.9556874416401709,
          0.8278129498211438,
          0.8694420543006075,
          0.935000060269836,
          0.7966819526593927,
          0.8627888085250739,
          1.0354087661704963,
          0.9998505292368448,
          0.7023110956971735,
          0.9680926060318588,
          0.316503435212522,
          0,
          0.7689123020263305,
          0.9820208137433436,
          1.0388016475784105,
          0.38352537361585715,
          0.9576598200003649,
          1.0176950906256979
         ],
         "yaxis": "y"
        }
       ],
       "layout": {
        "height": 250,
        "legend": {
         "tracegroupgap": 0
        },
        "margin": {
         "b": 0,
         "l": 0,
         "r": 0,
         "t": 25
        },
        "template": {
         "data": {
          "bar": [
           {
            "error_x": {
             "color": "#2a3f5f"
            },
            "error_y": {
             "color": "#2a3f5f"
            },
            "marker": {
             "line": {
              "color": "#E5ECF6",
              "width": 0.5
             },
             "pattern": {
              "fillmode": "overlay",
              "size": 10,
              "solidity": 0.2
             }
            },
            "type": "bar"
           }
          ],
          "barpolar": [
           {
            "marker": {
             "line": {
              "color": "#E5ECF6",
              "width": 0.5
             },
             "pattern": {
              "fillmode": "overlay",
              "size": 10,
              "solidity": 0.2
             }
            },
            "type": "barpolar"
           }
          ],
          "carpet": [
           {
            "aaxis": {
             "endlinecolor": "#2a3f5f",
             "gridcolor": "white",
             "linecolor": "white",
             "minorgridcolor": "white",
             "startlinecolor": "#2a3f5f"
            },
            "baxis": {
             "endlinecolor": "#2a3f5f",
             "gridcolor": "white",
             "linecolor": "white",
             "minorgridcolor": "white",
             "startlinecolor": "#2a3f5f"
            },
            "type": "carpet"
           }
          ],
          "choropleth": [
           {
            "colorbar": {
             "outlinewidth": 0,
             "ticks": ""
            },
            "type": "choropleth"
           }
          ],
          "contour": [
           {
            "colorbar": {
             "outlinewidth": 0,
             "ticks": ""
            },
            "colorscale": [
             [
              0,
              "#0d0887"
             ],
             [
              0.1111111111111111,
              "#46039f"
             ],
             [
              0.2222222222222222,
              "#7201a8"
             ],
             [
              0.3333333333333333,
              "#9c179e"
             ],
             [
              0.4444444444444444,
              "#bd3786"
             ],
             [
              0.5555555555555556,
              "#d8576b"
             ],
             [
              0.6666666666666666,
              "#ed7953"
             ],
             [
              0.7777777777777778,
              "#fb9f3a"
             ],
             [
              0.8888888888888888,
              "#fdca26"
             ],
             [
              1,
              "#f0f921"
             ]
            ],
            "type": "contour"
           }
          ],
          "contourcarpet": [
           {
            "colorbar": {
             "outlinewidth": 0,
             "ticks": ""
            },
            "type": "contourcarpet"
           }
          ],
          "heatmap": [
           {
            "colorbar": {
             "outlinewidth": 0,
             "ticks": ""
            },
            "colorscale": [
             [
              0,
              "#0d0887"
             ],
             [
              0.1111111111111111,
              "#46039f"
             ],
             [
              0.2222222222222222,
              "#7201a8"
             ],
             [
              0.3333333333333333,
              "#9c179e"
             ],
             [
              0.4444444444444444,
              "#bd3786"
             ],
             [
              0.5555555555555556,
              "#d8576b"
             ],
             [
              0.6666666666666666,
              "#ed7953"
             ],
             [
              0.7777777777777778,
              "#fb9f3a"
             ],
             [
              0.8888888888888888,
              "#fdca26"
             ],
             [
              1,
              "#f0f921"
             ]
            ],
            "type": "heatmap"
           }
          ],
          "heatmapgl": [
           {
            "colorbar": {
             "outlinewidth": 0,
             "ticks": ""
            },
            "colorscale": [
             [
              0,
              "#0d0887"
             ],
             [
              0.1111111111111111,
              "#46039f"
             ],
             [
              0.2222222222222222,
              "#7201a8"
             ],
             [
              0.3333333333333333,
              "#9c179e"
             ],
             [
              0.4444444444444444,
              "#bd3786"
             ],
             [
              0.5555555555555556,
              "#d8576b"
             ],
             [
              0.6666666666666666,
              "#ed7953"
             ],
             [
              0.7777777777777778,
              "#fb9f3a"
             ],
             [
              0.8888888888888888,
              "#fdca26"
             ],
             [
              1,
              "#f0f921"
             ]
            ],
            "type": "heatmapgl"
           }
          ],
          "histogram": [
           {
            "marker": {
             "pattern": {
              "fillmode": "overlay",
              "size": 10,
              "solidity": 0.2
             }
            },
            "type": "histogram"
           }
          ],
          "histogram2d": [
           {
            "colorbar": {
             "outlinewidth": 0,
             "ticks": ""
            },
            "colorscale": [
             [
              0,
              "#0d0887"
             ],
             [
              0.1111111111111111,
              "#46039f"
             ],
             [
              0.2222222222222222,
              "#7201a8"
             ],
             [
              0.3333333333333333,
              "#9c179e"
             ],
             [
              0.4444444444444444,
              "#bd3786"
             ],
             [
              0.5555555555555556,
              "#d8576b"
             ],
             [
              0.6666666666666666,
              "#ed7953"
             ],
             [
              0.7777777777777778,
              "#fb9f3a"
             ],
             [
              0.8888888888888888,
              "#fdca26"
             ],
             [
              1,
              "#f0f921"
             ]
            ],
            "type": "histogram2d"
           }
          ],
          "histogram2dcontour": [
           {
            "colorbar": {
             "outlinewidth": 0,
             "ticks": ""
            },
            "colorscale": [
             [
              0,
              "#0d0887"
             ],
             [
              0.1111111111111111,
              "#46039f"
             ],
             [
              0.2222222222222222,
              "#7201a8"
             ],
             [
              0.3333333333333333,
              "#9c179e"
             ],
             [
              0.4444444444444444,
              "#bd3786"
             ],
             [
              0.5555555555555556,
              "#d8576b"
             ],
             [
              0.6666666666666666,
              "#ed7953"
             ],
             [
              0.7777777777777778,
              "#fb9f3a"
             ],
             [
              0.8888888888888888,
              "#fdca26"
             ],
             [
              1,
              "#f0f921"
             ]
            ],
            "type": "histogram2dcontour"
           }
          ],
          "mesh3d": [
           {
            "colorbar": {
             "outlinewidth": 0,
             "ticks": ""
            },
            "type": "mesh3d"
           }
          ],
          "parcoords": [
           {
            "line": {
             "colorbar": {
              "outlinewidth": 0,
              "ticks": ""
             }
            },
            "type": "parcoords"
           }
          ],
          "pie": [
           {
            "automargin": true,
            "type": "pie"
           }
          ],
          "scatter": [
           {
            "fillpattern": {
             "fillmode": "overlay",
             "size": 10,
             "solidity": 0.2
            },
            "type": "scatter"
           }
          ],
          "scatter3d": [
           {
            "line": {
             "colorbar": {
              "outlinewidth": 0,
              "ticks": ""
             }
            },
            "marker": {
             "colorbar": {
              "outlinewidth": 0,
              "ticks": ""
             }
            },
            "type": "scatter3d"
           }
          ],
          "scattercarpet": [
           {
            "marker": {
             "colorbar": {
              "outlinewidth": 0,
              "ticks": ""
             }
            },
            "type": "scattercarpet"
           }
          ],
          "scattergeo": [
           {
            "marker": {
             "colorbar": {
              "outlinewidth": 0,
              "ticks": ""
             }
            },
            "type": "scattergeo"
           }
          ],
          "scattergl": [
           {
            "marker": {
             "colorbar": {
              "outlinewidth": 0,
              "ticks": ""
             }
            },
            "type": "scattergl"
           }
          ],
          "scattermapbox": [
           {
            "marker": {
             "colorbar": {
              "outlinewidth": 0,
              "ticks": ""
             }
            },
            "type": "scattermapbox"
           }
          ],
          "scatterpolar": [
           {
            "marker": {
             "colorbar": {
              "outlinewidth": 0,
              "ticks": ""
             }
            },
            "type": "scatterpolar"
           }
          ],
          "scatterpolargl": [
           {
            "marker": {
             "colorbar": {
              "outlinewidth": 0,
              "ticks": ""
             }
            },
            "type": "scatterpolargl"
           }
          ],
          "scatterternary": [
           {
            "marker": {
             "colorbar": {
              "outlinewidth": 0,
              "ticks": ""
             }
            },
            "type": "scatterternary"
           }
          ],
          "surface": [
           {
            "colorbar": {
             "outlinewidth": 0,
             "ticks": ""
            },
            "colorscale": [
             [
              0,
              "#0d0887"
             ],
             [
              0.1111111111111111,
              "#46039f"
             ],
             [
              0.2222222222222222,
              "#7201a8"
             ],
             [
              0.3333333333333333,
              "#9c179e"
             ],
             [
              0.4444444444444444,
              "#bd3786"
             ],
             [
              0.5555555555555556,
              "#d8576b"
             ],
             [
              0.6666666666666666,
              "#ed7953"
             ],
             [
              0.7777777777777778,
              "#fb9f3a"
             ],
             [
              0.8888888888888888,
              "#fdca26"
             ],
             [
              1,
              "#f0f921"
             ]
            ],
            "type": "surface"
           }
          ],
          "table": [
           {
            "cells": {
             "fill": {
              "color": "#EBF0F8"
             },
             "line": {
              "color": "white"
             }
            },
            "header": {
             "fill": {
              "color": "#C8D4E3"
             },
             "line": {
              "color": "white"
             }
            },
            "type": "table"
           }
          ]
         },
         "layout": {
          "annotationdefaults": {
           "arrowcolor": "#2a3f5f",
           "arrowhead": 0,
           "arrowwidth": 1
          },
          "autotypenumbers": "strict",
          "coloraxis": {
           "colorbar": {
            "outlinewidth": 0,
            "ticks": ""
           }
          },
          "colorscale": {
           "diverging": [
            [
             0,
             "#8e0152"
            ],
            [
             0.1,
             "#c51b7d"
            ],
            [
             0.2,
             "#de77ae"
            ],
            [
             0.3,
             "#f1b6da"
            ],
            [
             0.4,
             "#fde0ef"
            ],
            [
             0.5,
             "#f7f7f7"
            ],
            [
             0.6,
             "#e6f5d0"
            ],
            [
             0.7,
             "#b8e186"
            ],
            [
             0.8,
             "#7fbc41"
            ],
            [
             0.9,
             "#4d9221"
            ],
            [
             1,
             "#276419"
            ]
           ],
           "sequential": [
            [
             0,
             "#0d0887"
            ],
            [
             0.1111111111111111,
             "#46039f"
            ],
            [
             0.2222222222222222,
             "#7201a8"
            ],
            [
             0.3333333333333333,
             "#9c179e"
            ],
            [
             0.4444444444444444,
             "#bd3786"
            ],
            [
             0.5555555555555556,
             "#d8576b"
            ],
            [
             0.6666666666666666,
             "#ed7953"
            ],
            [
             0.7777777777777778,
             "#fb9f3a"
            ],
            [
             0.8888888888888888,
             "#fdca26"
            ],
            [
             1,
             "#f0f921"
            ]
           ],
           "sequentialminus": [
            [
             0,
             "#0d0887"
            ],
            [
             0.1111111111111111,
             "#46039f"
            ],
            [
             0.2222222222222222,
             "#7201a8"
            ],
            [
             0.3333333333333333,
             "#9c179e"
            ],
            [
             0.4444444444444444,
             "#bd3786"
            ],
            [
             0.5555555555555556,
             "#d8576b"
            ],
            [
             0.6666666666666666,
             "#ed7953"
            ],
            [
             0.7777777777777778,
             "#fb9f3a"
            ],
            [
             0.8888888888888888,
             "#fdca26"
            ],
            [
             1,
             "#f0f921"
            ]
           ]
          },
          "colorway": [
           "#636efa",
           "#EF553B",
           "#00cc96",
           "#ab63fa",
           "#FFA15A",
           "#19d3f3",
           "#FF6692",
           "#B6E880",
           "#FF97FF",
           "#FECB52"
          ],
          "font": {
           "color": "#2a3f5f"
          },
          "geo": {
           "bgcolor": "white",
           "lakecolor": "white",
           "landcolor": "#E5ECF6",
           "showlakes": true,
           "showland": true,
           "subunitcolor": "white"
          },
          "hoverlabel": {
           "align": "left"
          },
          "hovermode": "closest",
          "mapbox": {
           "style": "light"
          },
          "paper_bgcolor": "white",
          "plot_bgcolor": "#E5ECF6",
          "polar": {
           "angularaxis": {
            "gridcolor": "white",
            "linecolor": "white",
            "ticks": ""
           },
           "bgcolor": "#E5ECF6",
           "radialaxis": {
            "gridcolor": "white",
            "linecolor": "white",
            "ticks": ""
           }
          },
          "scene": {
           "xaxis": {
            "backgroundcolor": "#E5ECF6",
            "gridcolor": "white",
            "gridwidth": 2,
            "linecolor": "white",
            "showbackground": true,
            "ticks": "",
            "zerolinecolor": "white"
           },
           "yaxis": {
            "backgroundcolor": "#E5ECF6",
            "gridcolor": "white",
            "gridwidth": 2,
            "linecolor": "white",
            "showbackground": true,
            "ticks": "",
            "zerolinecolor": "white"
           },
           "zaxis": {
            "backgroundcolor": "#E5ECF6",
            "gridcolor": "white",
            "gridwidth": 2,
            "linecolor": "white",
            "showbackground": true,
            "ticks": "",
            "zerolinecolor": "white"
           }
          },
          "shapedefaults": {
           "line": {
            "color": "#2a3f5f"
           }
          },
          "ternary": {
           "aaxis": {
            "gridcolor": "white",
            "linecolor": "white",
            "ticks": ""
           },
           "baxis": {
            "gridcolor": "white",
            "linecolor": "white",
            "ticks": ""
           },
           "bgcolor": "#E5ECF6",
           "caxis": {
            "gridcolor": "white",
            "linecolor": "white",
            "ticks": ""
           }
          },
          "title": {
           "x": 0.05
          },
          "xaxis": {
           "automargin": true,
           "gridcolor": "white",
           "linecolor": "white",
           "ticks": "",
           "title": {
            "standoff": 15
           },
           "zerolinecolor": "white",
           "zerolinewidth": 2
          },
          "yaxis": {
           "automargin": true,
           "gridcolor": "white",
           "linecolor": "white",
           "ticks": "",
           "title": {
            "standoff": 15
           },
           "zerolinecolor": "white",
           "zerolinewidth": 2
          }
         }
        },
        "title": {
         "text": "PVP"
        },
        "width": 600,
        "xaxis": {
         "anchor": "y",
         "domain": [
          0,
          1
         ],
         "showticklabels": false,
         "title": {
          "text": ""
         }
        },
        "yaxis": {
         "anchor": "x",
         "domain": [
          0,
          1
         ],
         "title": {
          "text": "P/VP"
         }
        }
       }
      },
      "text/html": [
       "<div>                            <div id=\"911ad207-5b6d-4ea0-bdd1-d3d2d1d8e465\" class=\"plotly-graph-div\" style=\"height:250px; width:600px;\"></div>            <script type=\"text/javascript\">                require([\"plotly\"], function(Plotly) {                    window.PLOTLYENV=window.PLOTLYENV || {};                                    if (document.getElementById(\"911ad207-5b6d-4ea0-bdd1-d3d2d1d8e465\")) {                    Plotly.newPlot(                        \"911ad207-5b6d-4ea0-bdd1-d3d2d1d8e465\",                        [{\"hovertemplate\":\"Ticker=%{x}\\u003cbr\\u003eValue=%{y}\\u003cextra\\u003e\\u003c\\u002fextra\\u003e\",\"legendgroup\":\"\",\"marker\":{\"color\":\"#636efa\",\"symbol\":\"circle\"},\"mode\":\"markers\",\"name\":\"\",\"orientation\":\"v\",\"showlegend\":false,\"x\":[\"ABCP11\",\"AFHI11\",\"AIEC11\",\"ALMI11\",\"ALZM11\",\"ALZR11\",\"APTO11\",\"AROA11\",\"BARI11\",\"BBFI11B\",\"BBFO11\",\"BBRC11\",\"BCFF11\",\"BCIA11\",\"BCRI11\",\"BICR11\",\"BIME11\",\"BLMG11\",\"BLMR11\",\"BMLC11\",\"BNFS11\",\"BPFF11\",\"BRCO11\",\"BRCR11\",\"BTCI11\",\"BTLG11\",\"BTRA11\",\"CACR11\",\"CARE11\",\"CBOP11\",\"CEOC11\",\"CNES11\",\"CPFF11\",\"CPTS11\",\"CRFF11\",\"CTXT11\",\"CVBI11\",\"CXAG11\",\"CXCE11B\",\"CXCI11\",\"CXCO11\",\"CXRI11\",\"CXTL11\",\"CYCR11\",\"DEVA11\",\"DPRO11\",\"DVFF11\",\"EDFO11B\",\"EDGA11\",\"EQIR11\",\"EURO11\",\"EVBI11\",\"FAED11\",\"FAMB11B\",\"FATN11\",\"FCFL11\",\"FIGS11\",\"FIIB11\",\"FIIP11B\",\"FIVN11\",\"FLCR11\",\"FLMA11\",\"FLRP11\",\"FPAB11\",\"FVPQ11\",\"GALG11\",\"GAME11\",\"GCFF11\",\"GCRI11\",\"GGRC11\",\"GSFI11\",\"GTWR11\",\"HABT11\",\"HBRH11\",\"HCRI11\",\"HCTR11\",\"HFOF11\",\"HGBS11\",\"HGCR11\",\"HGFF11\",\"HGLG11\",\"HGPO11\",\"HGRE11\",\"HGRU11\",\"HLOG11\",\"HOFC11\",\"HOSI11\",\"HREC11\",\"HSAF11\",\"HSLG11\",\"HSML11\",\"HTMX11\",\"IBCR11\",\"IRDM11\",\"IRIM11\",\"ITIP11\",\"ITIT11\",\"JFLL11\",\"JPPA11\",\"JSAF11\",\"JSRE11\",\"KCRE11\",\"KFOF11\",\"KISU11\",\"KIVO11\",\"KNCR11\",\"KNHF11\",\"KNRI11\",\"KNSC11\",\"LGCP11\",\"LIFE11\",\"LUGG11\",\"LVBI11\",\"MALL11\",\"MANA11\",\"MAXR11\",\"MCCI11\",\"MCHF11\",\"MFAI11\",\"MFII11\",\"MGCR11\",\"MGHT11\",\"MORC11\",\"MORE11\",\"MXRF11\",\"NCHB11\",\"NCRI11\",\"NEWL11\",\"NEWU11\",\"NSLU11\",\"OGHY11\",\"ONEF11\",\"OUFF11\",\"OUJP11\",\"OULG11\",\"OURE11\",\"PABY11\",\"PATC11\",\"PATL11\",\"PLCR11\",\"PORD11\",\"PQDP11\",\"PRSV11\",\"PVBI11\",\"QAGR11\",\"QAMI11\",\"RBED11\",\"RBFF11\",\"RBHY11\",\"RBOP11\",\"RBRD11\",\"RBRF11\",\"RBRL11\",\"RBRP11\",\"RBRR11\",\"RBRS11\",\"RBRY11\",\"RBVA11\",\"RCRB11\",\"RECR11\",\"RECT11\",\"RELG11\",\"RFOF11\",\"RINV11\",\"RNDP11\",\"RNGO11\",\"RPRI11\",\"RRCI11\",\"RVBI11\",\"RZAK11\",\"RZAT11\",\"SADI11\",\"SARE11\",\"SCPF11\",\"SDIL11\",\"SEQR11\",\"SHPH11\",\"SNCI11\",\"SNEL11\",\"SNFF11\",\"SNLG11\",\"SPTW11\",\"SPXS11\",\"TEPP11\",\"TGAR11\",\"TORD11\",\"TRNT11\",\"TRXF11\",\"VCJR11\",\"VCRR11\",\"VGHF11\",\"VGIP11\",\"VGIR11\",\"VIFI11\",\"VILG11\",\"VINO11\",\"VISC11\",\"VIUR11\",\"VOTS11\",\"VRTA11\",\"VSHO11\",\"VTLT11\",\"VVPR11\",\"WHGR11\",\"WPLZ11\",\"XPCI11\",\"XPCM11\",\"XPHT11\",\"XPIN11\",\"XPLG11\",\"XPML11\",\"XPPR11\",\"XPSF11\",\"ZAVI11\"],\"xaxis\":\"x\",\"y\":[0.7636748254762796,1.0113666552651484,0.6187262947864504,0.30413284645853134,0.9896923425538111,1.101434964709638,0.939482045259902,1.0284602052750473,0.8805985375605708,0.6362049532471273,0.9034137561657373,1.0985360133871709,0.9296759405076869,0.957360188639713,0.778872891632917,1.2589366414144114,0.8264445102063611,0.4885774515258252,0.8534522507826917,0.9574372751689028,1.4378837265763742,0.9248480190206274,1.013619358695598,0.5829634189597452,0.9768551426854886,1.0476313127841845,0.4664022144047428,1.0176291053208018,0.23574542694549536,0.40660089419592216,0.6277845220647891,0.031112288744074627,0.9208977598560512,0.9336677860805821,0.9057736296160543,0.3443093907410582,0.9820918770224351,0.6923473484548577,0.6717325655559611,0.8755297761634467,0.8119253866698778,0.8718560834620912,0.5759017377777622,0.9798349038265282,0.4122394253756744,0.834236090774035,0.8402499045048462,1.0292552393761925,0.3183399775905243,0.8970766676246128,0.740907208422101,0.9933304040297597,0.7232019200092191,0.2848641061776381,0.9200922552232239,0.9963764796516469,0.7354019127000614,1.1243924391794855,0.8836830046017972,0.4366067411306242,1.0152611745874742,0.6598510033517451,0.9730083937448935,0.579561094811866,0.5215699819881724,0.9821947144585108,0.9262508613159627,0.8941134935028203,0.90214537234856,0.10213468324750037,0.541252899383767,0.850365973218941,0.9405117106618287,0.8103654505266039,0.9590330929568277,0.2851339479968529,0.9588733819887779,0.9853986367242701,1.0386284911784869,0.9669902763869672,1.0624507386359776,0.9912215757766705,0.8403680781681842,1.0683804783648796,0.7146281855361662,0.39739880541355327,0.9654014890923844,0.937817901862093,0.9629263941398618,0.9385302107963039,1.040812910238411,1.2090548454884666,0.8219416818848719,0.8612273790892898,0.8612296344376497,0.9870742119384609,0.9232714538860406,0.7199764007842177,0.9135475629710716,1.0460920191628005,0.6712489844209328,0.9718502881709776,1.038071801799482,0.921807564588717,0.9958059759106388,1.0193061685144102,1.0085984145367541,1.030022376671766,1.0099222962140615,0.8552212992211617,0.9872264727352151,0.6316511608490257,0.9968879023558183,0.9813801875881005,0.9693724801353567,0.632814521696819,0.9931831179882603,0.9683250704710608,0.8568333180557812,0.9325782540997282,0.9507219032289557,0.5060304986055836,0.913003368254841,0.8708191618073113,1.054806473768849,0.9436060512912632,0.8431960114498063,0.8482235195091367,1.0874399231627303,0.9513458531704099,0.9184312940717999,0.9165362298948232,0.8905204100465417,0.9503007990488475,0.4588197772415844,0.7815624719248692,-0.6771237509120933,0.9015611963842953,0.6805630885367602,0.981497939449176,0.9320745471739915,0.5860825571710276,0.383512296046075,1.0089929132596183,0.8333445658709675,0.0,0.9864777864717942,0.9060589063603555,0.9558062789923042,0.48219114443089683,0.6059591762736838,0.9235095414819741,0.7789532056248161,0.7305464102148493,0.96162064578208,0.5258558613754003,1.0073175716055585,1.0280306603964353,0.7873185343936099,0.9059998106904056,0.4576844054837576,0.3884382307184839,0.9441479179074003,1.027514822612214,1.1897647237921944,0.5825399549932669,0.9890875620462705,0.911727927528147,0.9886151118222122,0.966967399898044,0.9672874823011066,0.9268615134281672,0.47513417450219164,0.3321089794227897,0.912817770721361,0.6262906093383859,0.9615819555714702,0.9668346317573581,1.5044268913335335,0.9110631865389082,0.49507791342044455,0.7627867557438732,0.977555816052814,0.9835881155664049,1.027846454526607,0.14080199214776237,0.6378990401295747,1.018140715600023,0.969603198119436,0.5450381475759645,0.9989009945495589,0.9986302166673166,1.0040241904260967,0.8838812415389576,0.8057515394896554,0.7158161762489943,0.9556874416401709,0.8278129498211438,0.8694420543006075,0.935000060269836,0.7966819526593927,0.8627888085250739,1.0354087661704963,0.9998505292368448,0.7023110956971735,0.9680926060318588,0.316503435212522,0.0,0.7689123020263305,0.9820208137433436,1.0388016475784105,0.38352537361585715,0.9576598200003649,1.0176950906256979],\"yaxis\":\"y\",\"type\":\"scatter\"}],                        {\"template\":{\"data\":{\"histogram2dcontour\":[{\"type\":\"histogram2dcontour\",\"colorbar\":{\"outlinewidth\":0,\"ticks\":\"\"},\"colorscale\":[[0.0,\"#0d0887\"],[0.1111111111111111,\"#46039f\"],[0.2222222222222222,\"#7201a8\"],[0.3333333333333333,\"#9c179e\"],[0.4444444444444444,\"#bd3786\"],[0.5555555555555556,\"#d8576b\"],[0.6666666666666666,\"#ed7953\"],[0.7777777777777778,\"#fb9f3a\"],[0.8888888888888888,\"#fdca26\"],[1.0,\"#f0f921\"]]}],\"choropleth\":[{\"type\":\"choropleth\",\"colorbar\":{\"outlinewidth\":0,\"ticks\":\"\"}}],\"histogram2d\":[{\"type\":\"histogram2d\",\"colorbar\":{\"outlinewidth\":0,\"ticks\":\"\"},\"colorscale\":[[0.0,\"#0d0887\"],[0.1111111111111111,\"#46039f\"],[0.2222222222222222,\"#7201a8\"],[0.3333333333333333,\"#9c179e\"],[0.4444444444444444,\"#bd3786\"],[0.5555555555555556,\"#d8576b\"],[0.6666666666666666,\"#ed7953\"],[0.7777777777777778,\"#fb9f3a\"],[0.8888888888888888,\"#fdca26\"],[1.0,\"#f0f921\"]]}],\"heatmap\":[{\"type\":\"heatmap\",\"colorbar\":{\"outlinewidth\":0,\"ticks\":\"\"},\"colorscale\":[[0.0,\"#0d0887\"],[0.1111111111111111,\"#46039f\"],[0.2222222222222222,\"#7201a8\"],[0.3333333333333333,\"#9c179e\"],[0.4444444444444444,\"#bd3786\"],[0.5555555555555556,\"#d8576b\"],[0.6666666666666666,\"#ed7953\"],[0.7777777777777778,\"#fb9f3a\"],[0.8888888888888888,\"#fdca26\"],[1.0,\"#f0f921\"]]}],\"heatmapgl\":[{\"type\":\"heatmapgl\",\"colorbar\":{\"outlinewidth\":0,\"ticks\":\"\"},\"colorscale\":[[0.0,\"#0d0887\"],[0.1111111111111111,\"#46039f\"],[0.2222222222222222,\"#7201a8\"],[0.3333333333333333,\"#9c179e\"],[0.4444444444444444,\"#bd3786\"],[0.5555555555555556,\"#d8576b\"],[0.6666666666666666,\"#ed7953\"],[0.7777777777777778,\"#fb9f3a\"],[0.8888888888888888,\"#fdca26\"],[1.0,\"#f0f921\"]]}],\"contourcarpet\":[{\"type\":\"contourcarpet\",\"colorbar\":{\"outlinewidth\":0,\"ticks\":\"\"}}],\"contour\":[{\"type\":\"contour\",\"colorbar\":{\"outlinewidth\":0,\"ticks\":\"\"},\"colorscale\":[[0.0,\"#0d0887\"],[0.1111111111111111,\"#46039f\"],[0.2222222222222222,\"#7201a8\"],[0.3333333333333333,\"#9c179e\"],[0.4444444444444444,\"#bd3786\"],[0.5555555555555556,\"#d8576b\"],[0.6666666666666666,\"#ed7953\"],[0.7777777777777778,\"#fb9f3a\"],[0.8888888888888888,\"#fdca26\"],[1.0,\"#f0f921\"]]}],\"surface\":[{\"type\":\"surface\",\"colorbar\":{\"outlinewidth\":0,\"ticks\":\"\"},\"colorscale\":[[0.0,\"#0d0887\"],[0.1111111111111111,\"#46039f\"],[0.2222222222222222,\"#7201a8\"],[0.3333333333333333,\"#9c179e\"],[0.4444444444444444,\"#bd3786\"],[0.5555555555555556,\"#d8576b\"],[0.6666666666666666,\"#ed7953\"],[0.7777777777777778,\"#fb9f3a\"],[0.8888888888888888,\"#fdca26\"],[1.0,\"#f0f921\"]]}],\"mesh3d\":[{\"type\":\"mesh3d\",\"colorbar\":{\"outlinewidth\":0,\"ticks\":\"\"}}],\"scatter\":[{\"fillpattern\":{\"fillmode\":\"overlay\",\"size\":10,\"solidity\":0.2},\"type\":\"scatter\"}],\"parcoords\":[{\"type\":\"parcoords\",\"line\":{\"colorbar\":{\"outlinewidth\":0,\"ticks\":\"\"}}}],\"scatterpolargl\":[{\"type\":\"scatterpolargl\",\"marker\":{\"colorbar\":{\"outlinewidth\":0,\"ticks\":\"\"}}}],\"bar\":[{\"error_x\":{\"color\":\"#2a3f5f\"},\"error_y\":{\"color\":\"#2a3f5f\"},\"marker\":{\"line\":{\"color\":\"#E5ECF6\",\"width\":0.5},\"pattern\":{\"fillmode\":\"overlay\",\"size\":10,\"solidity\":0.2}},\"type\":\"bar\"}],\"scattergeo\":[{\"type\":\"scattergeo\",\"marker\":{\"colorbar\":{\"outlinewidth\":0,\"ticks\":\"\"}}}],\"scatterpolar\":[{\"type\":\"scatterpolar\",\"marker\":{\"colorbar\":{\"outlinewidth\":0,\"ticks\":\"\"}}}],\"histogram\":[{\"marker\":{\"pattern\":{\"fillmode\":\"overlay\",\"size\":10,\"solidity\":0.2}},\"type\":\"histogram\"}],\"scattergl\":[{\"type\":\"scattergl\",\"marker\":{\"colorbar\":{\"outlinewidth\":0,\"ticks\":\"\"}}}],\"scatter3d\":[{\"type\":\"scatter3d\",\"line\":{\"colorbar\":{\"outlinewidth\":0,\"ticks\":\"\"}},\"marker\":{\"colorbar\":{\"outlinewidth\":0,\"ticks\":\"\"}}}],\"scattermapbox\":[{\"type\":\"scattermapbox\",\"marker\":{\"colorbar\":{\"outlinewidth\":0,\"ticks\":\"\"}}}],\"scatterternary\":[{\"type\":\"scatterternary\",\"marker\":{\"colorbar\":{\"outlinewidth\":0,\"ticks\":\"\"}}}],\"scattercarpet\":[{\"type\":\"scattercarpet\",\"marker\":{\"colorbar\":{\"outlinewidth\":0,\"ticks\":\"\"}}}],\"carpet\":[{\"aaxis\":{\"endlinecolor\":\"#2a3f5f\",\"gridcolor\":\"white\",\"linecolor\":\"white\",\"minorgridcolor\":\"white\",\"startlinecolor\":\"#2a3f5f\"},\"baxis\":{\"endlinecolor\":\"#2a3f5f\",\"gridcolor\":\"white\",\"linecolor\":\"white\",\"minorgridcolor\":\"white\",\"startlinecolor\":\"#2a3f5f\"},\"type\":\"carpet\"}],\"table\":[{\"cells\":{\"fill\":{\"color\":\"#EBF0F8\"},\"line\":{\"color\":\"white\"}},\"header\":{\"fill\":{\"color\":\"#C8D4E3\"},\"line\":{\"color\":\"white\"}},\"type\":\"table\"}],\"barpolar\":[{\"marker\":{\"line\":{\"color\":\"#E5ECF6\",\"width\":0.5},\"pattern\":{\"fillmode\":\"overlay\",\"size\":10,\"solidity\":0.2}},\"type\":\"barpolar\"}],\"pie\":[{\"automargin\":true,\"type\":\"pie\"}]},\"layout\":{\"autotypenumbers\":\"strict\",\"colorway\":[\"#636efa\",\"#EF553B\",\"#00cc96\",\"#ab63fa\",\"#FFA15A\",\"#19d3f3\",\"#FF6692\",\"#B6E880\",\"#FF97FF\",\"#FECB52\"],\"font\":{\"color\":\"#2a3f5f\"},\"hovermode\":\"closest\",\"hoverlabel\":{\"align\":\"left\"},\"paper_bgcolor\":\"white\",\"plot_bgcolor\":\"#E5ECF6\",\"polar\":{\"bgcolor\":\"#E5ECF6\",\"angularaxis\":{\"gridcolor\":\"white\",\"linecolor\":\"white\",\"ticks\":\"\"},\"radialaxis\":{\"gridcolor\":\"white\",\"linecolor\":\"white\",\"ticks\":\"\"}},\"ternary\":{\"bgcolor\":\"#E5ECF6\",\"aaxis\":{\"gridcolor\":\"white\",\"linecolor\":\"white\",\"ticks\":\"\"},\"baxis\":{\"gridcolor\":\"white\",\"linecolor\":\"white\",\"ticks\":\"\"},\"caxis\":{\"gridcolor\":\"white\",\"linecolor\":\"white\",\"ticks\":\"\"}},\"coloraxis\":{\"colorbar\":{\"outlinewidth\":0,\"ticks\":\"\"}},\"colorscale\":{\"sequential\":[[0.0,\"#0d0887\"],[0.1111111111111111,\"#46039f\"],[0.2222222222222222,\"#7201a8\"],[0.3333333333333333,\"#9c179e\"],[0.4444444444444444,\"#bd3786\"],[0.5555555555555556,\"#d8576b\"],[0.6666666666666666,\"#ed7953\"],[0.7777777777777778,\"#fb9f3a\"],[0.8888888888888888,\"#fdca26\"],[1.0,\"#f0f921\"]],\"sequentialminus\":[[0.0,\"#0d0887\"],[0.1111111111111111,\"#46039f\"],[0.2222222222222222,\"#7201a8\"],[0.3333333333333333,\"#9c179e\"],[0.4444444444444444,\"#bd3786\"],[0.5555555555555556,\"#d8576b\"],[0.6666666666666666,\"#ed7953\"],[0.7777777777777778,\"#fb9f3a\"],[0.8888888888888888,\"#fdca26\"],[1.0,\"#f0f921\"]],\"diverging\":[[0,\"#8e0152\"],[0.1,\"#c51b7d\"],[0.2,\"#de77ae\"],[0.3,\"#f1b6da\"],[0.4,\"#fde0ef\"],[0.5,\"#f7f7f7\"],[0.6,\"#e6f5d0\"],[0.7,\"#b8e186\"],[0.8,\"#7fbc41\"],[0.9,\"#4d9221\"],[1,\"#276419\"]]},\"xaxis\":{\"gridcolor\":\"white\",\"linecolor\":\"white\",\"ticks\":\"\",\"title\":{\"standoff\":15},\"zerolinecolor\":\"white\",\"automargin\":true,\"zerolinewidth\":2},\"yaxis\":{\"gridcolor\":\"white\",\"linecolor\":\"white\",\"ticks\":\"\",\"title\":{\"standoff\":15},\"zerolinecolor\":\"white\",\"automargin\":true,\"zerolinewidth\":2},\"scene\":{\"xaxis\":{\"backgroundcolor\":\"#E5ECF6\",\"gridcolor\":\"white\",\"linecolor\":\"white\",\"showbackground\":true,\"ticks\":\"\",\"zerolinecolor\":\"white\",\"gridwidth\":2},\"yaxis\":{\"backgroundcolor\":\"#E5ECF6\",\"gridcolor\":\"white\",\"linecolor\":\"white\",\"showbackground\":true,\"ticks\":\"\",\"zerolinecolor\":\"white\",\"gridwidth\":2},\"zaxis\":{\"backgroundcolor\":\"#E5ECF6\",\"gridcolor\":\"white\",\"linecolor\":\"white\",\"showbackground\":true,\"ticks\":\"\",\"zerolinecolor\":\"white\",\"gridwidth\":2}},\"shapedefaults\":{\"line\":{\"color\":\"#2a3f5f\"}},\"annotationdefaults\":{\"arrowcolor\":\"#2a3f5f\",\"arrowhead\":0,\"arrowwidth\":1},\"geo\":{\"bgcolor\":\"white\",\"landcolor\":\"#E5ECF6\",\"subunitcolor\":\"white\",\"showland\":true,\"showlakes\":true,\"lakecolor\":\"white\"},\"title\":{\"x\":0.05},\"mapbox\":{\"style\":\"light\"}}},\"xaxis\":{\"anchor\":\"y\",\"domain\":[0.0,1.0],\"title\":{\"text\":\"\"},\"showticklabels\":false},\"yaxis\":{\"anchor\":\"x\",\"domain\":[0.0,1.0],\"title\":{\"text\":\"P\\u002fVP\"}},\"legend\":{\"tracegroupgap\":0},\"title\":{\"text\":\"PVP\"},\"margin\":{\"l\":0,\"r\":0,\"t\":25,\"b\":0},\"width\":600,\"height\":250},                        {\"responsive\": true}                    ).then(function(){\n",
       "                            \n",
       "var gd = document.getElementById('911ad207-5b6d-4ea0-bdd1-d3d2d1d8e465');\n",
       "var x = new MutationObserver(function (mutations, observer) {{\n",
       "        var display = window.getComputedStyle(gd).display;\n",
       "        if (!display || display === 'none') {{\n",
       "            console.log([gd, 'removed!']);\n",
       "            Plotly.purge(gd);\n",
       "            observer.disconnect();\n",
       "        }}\n",
       "}});\n",
       "\n",
       "// Listen for the removal of the full notebook cells\n",
       "var notebookContainer = gd.closest('#notebook-container');\n",
       "if (notebookContainer) {{\n",
       "    x.observe(notebookContainer, {childList: true});\n",
       "}}\n",
       "\n",
       "// Listen for the clearing of the current output cell\n",
       "var outputEl = gd.closest('.output');\n",
       "if (outputEl) {{\n",
       "    x.observe(outputEl, {childList: true});\n",
       "}}\n",
       "\n",
       "                        })                };                });            </script>        </div>"
      ]
     },
     "metadata": {},
     "output_type": "display_data"
    }
   ],
   "source": [
    "def show_plot_scatter(metric, ticker):\n",
    "    y_title = ''\n",
    "    \n",
    "    if metric == equity_growth:\n",
    "        df_temp = df_net_worth[['Ticker', 'Growth']].rename(columns={'Growth':'Value'})\n",
    "        y_title = '% Evolução Mensal'\n",
    "    elif metric == pvp:\n",
    "        df_temp = df_pvp[['Ticker', 'PVP']].rename(columns={'PVP':'Value'})\n",
    "        y_title = 'P/VP'\n",
    "    elif metric == shareholders:\n",
    "        df_temp = df_current[['Ticker', 'Total_Numero_Cotistas']].rename(columns={'Total_Numero_Cotistas':'Value'})\n",
    "        y_title = 'Número Cotistas'\n",
    "    elif metric == liquidity:\n",
    "        df_temp = df_liquidity[['Ticker', 'averageVolume']].rename(columns={'averageVolume':'Value'})\n",
    "        y_title = 'Média Diária de Negócios'\n",
    "    elif metric == dividend_yield:\n",
    "        df_temp = df_dividend_yield[['Ticker', 'DY_Mean']].rename(columns={'DY_Mean':'Value'})\n",
    "        y_title = 'DV Médio Mensal'\n",
    "    elif metric == dividend_share:\n",
    "        df_temp = df_dividend_quota[['Ticker', 'Growth']].rename(columns={'Growth':'Value'})\n",
    "        y_title = '% Evolução Mensal'\n",
    "    elif metric == vacancy:\n",
    "        df_temp = df_vacancy[['Ticker', 'Vacancy']].rename(columns={'Vacancy':'Value'})\n",
    "        y_title = '% Vacância'\n",
    "    elif metric == default:\n",
    "        df_temp = df_default[['Ticker', 'Default']].rename(columns={'Default':'Value'})\n",
    "        y_title = '% Inadimplência'\n",
    "        \n",
    "    df_temp = df_temp.sort_values(by='Ticker', ascending=True).reset_index(drop=True)\n",
    "    \n",
    "    grafico = px.scatter(df_temp[['Ticker', 'Value']], x='Ticker', y='Value', title=metric)\n",
    "    \n",
    "    row = df_temp.loc[df_temp['Ticker'] == ticker][['Value']]\n",
    "    if len(row) > 0:\n",
    "        x = [ticker]\n",
    "        y = row.values[0]\n",
    "        grafico.add_scatter(x=x, y=y, marker=dict(size=12, line=dict(width=2, color='DarkSlateGrey')))\n",
    "        \n",
    "    grafico.update_traces(showlegend=False)\n",
    "    grafico.update_xaxes(title_text=\"\", showticklabels=False)\n",
    "    grafico.update_yaxes(title_text=y_title)\n",
    "    grafico.update_layout(width=600,\n",
    "                          height=250,\n",
    "                          margin=dict(l=0, r=0, t=25, b=0))\n",
    "    \n",
    "    return grafico\n",
    "\n",
    "grafico = show_plot_scatter(pvp, '')\n",
    "grafico"
   ]
  },
  {
   "cell_type": "code",
   "execution_count": 72,
   "id": "13f91830",
   "metadata": {},
   "outputs": [
    {
     "name": "stdout",
     "output_type": "stream",
     "text": [
      "Dash app running on http://127.0.0.1:8050/\n"
     ]
    }
   ],
   "source": [
    "df_dash_filtered = df_dash.copy()\n",
    "df_dash_filtered['GradeFinal'] = 0.00\n",
    "for grade in columns_grade_metrics:\n",
    "    df_dash_filtered[grade] = 0.00\n",
    "df_dash_filtered.insert(1, 'GradeFinal', df_dash_filtered.pop('GradeFinal'))\n",
    "\n",
    "columns_dash = []\n",
    "for col in df_dash_filtered.columns:\n",
    "    hideable = col not in ('Ticker', 'GradeFinal')\n",
    "    columns_dash.append({'name': col, 'id': col, 'hideable': hideable})\n",
    "\n",
    "app = Dash(__name__, suppress_callback_exceptions=True)\n",
    "\n",
    "app.layout = html.Div(children=[\n",
    "    html.Div(style={'display':'flex', 'justify-content':'space-between'}, children=[\n",
    "    \n",
    "    html.Div(style={'width': '33%'}, children=[\n",
    "        dcc.Dropdown(\n",
    "            id='dropdown-management-type',\n",
    "            options=list_management_type,\n",
    "            multi=True,\n",
    "            placeholder='Select o(s) tipo de gestão'\n",
    "        ),\n",
    "        dcc.Dropdown(\n",
    "            id='dropdown-fii-type',\n",
    "            options=list_fii_type,\n",
    "            multi=True,\n",
    "            placeholder='Selecione o(s) tipo de FII'\n",
    "        ),\n",
    "        dcc.Dropdown(\n",
    "            id='dropdown-segment',\n",
    "            options=list_segment,\n",
    "            multi=True,\n",
    "            placeholder='Selecione o(s) segmento'\n",
    "    )]),\n",
    "    html.Div(style={'width': '66%'}, children=div_elements_metrics)\n",
    "        \n",
    "    ]),\n",
    "    \n",
    "    html.Div(style={'display':'flex'}, children=[\n",
    "        \n",
    "    html.Div(style={'width':'51%', 'margin-top':'20px'}, children=[\n",
    "        dash_table.DataTable(\n",
    "            id='tbl-grade',\n",
    "            data=df_dash_filtered.to_dict('records'),\n",
    "            #columns=[{\"name\": i, \"id\": i} for i in df_dash_filtered.columns],\n",
    "            columns=columns_dash,\n",
    "            fixed_rows={'headers': True},\n",
    "            fixed_columns={'headers': True, 'data': 2},\n",
    "            hidden_columns=columns_grade_metrics,\n",
    "            page_size=50,\n",
    "            tooltip_header={i: i for i in df_dash_filtered.columns},\n",
    "            style_table={\n",
    "                'minWidth': '100%', 'width': '100%', 'maxWidth': '100%', 'overflowX': 'auto',\n",
    "                'height': '430px', 'overflowY': 'auto'\n",
    "            },\n",
    "            style_cell={\n",
    "                'minWidth': '80px'\n",
    "            }\n",
    "        )\n",
    "    ]),\n",
    "    \n",
    "    html.Div(style={'flex':'1', 'margin-top':'20px', 'margin-left':'30px'}, children=[\n",
    "        html.Div(\n",
    "            id=\"div-bar-chart\",\n",
    "            style={\n",
    "                \n",
    "            }),\n",
    "        html.Div(\n",
    "            id=\"div-scatter-chart\",\n",
    "            style={\n",
    "            })\n",
    "    ])\n",
    "        \n",
    "    ])\n",
    "])\n",
    "\n",
    "@callback(\n",
    "    Output('tbl-grade', 'data'),\n",
    "    [Input('dropdown-management-type', 'value')],\n",
    "    [Input('dropdown-fii-type', 'value')],\n",
    "    [Input('dropdown-segment', 'value')],\n",
    "    Input('slider-metric-0', 'value'),\n",
    "    Input('slider-metric-1', 'value'),\n",
    "    Input('slider-metric-2', 'value'),\n",
    "    Input('slider-metric-3', 'value'),\n",
    "    Input('slider-metric-4', 'value'),\n",
    "    Input('slider-metric-5', 'value'),\n",
    "    Input('slider-metric-6', 'value'),\n",
    "    Input('slider-metric-7', 'value')\n",
    ")\n",
    "\n",
    "def update_tbl_grade(selected_management_types, selected_fii_types, selected_segments,\n",
    "                    w_equity_growth, w_pvp, w_shareholders, w_liquidity,\n",
    "                    w_dividend_yield, w_dividend_share, w_vacancy, w_default):\n",
    "    global df_dash_filtered\n",
    "    df_dash_filtered = df_dash.copy()\n",
    "    \n",
    "    if selected_management_types:\n",
    "        df_dash_filtered = df_dash_filtered[df_dash_filtered['Tipo_Gestao'].isin(selected_management_types)]\n",
    "    \n",
    "    if selected_fii_types:\n",
    "        df_dash_filtered = df_dash_filtered[df_dash_filtered['Tipo'].isin(selected_fii_types)]\n",
    "        \n",
    "    if selected_segments:\n",
    "        df_dash_filtered = df_dash_filtered[df_dash_filtered['Segmento_Atuacao'].isin(selected_segments)]\n",
    "    \n",
    "    include_metric_score(equity_growth, w_equity_growth)\n",
    "    include_metric_score(pvp, w_pvp)\n",
    "    include_metric_score(shareholders, w_shareholders)\n",
    "    include_metric_score(liquidity, w_liquidity)\n",
    "    include_metric_score(dividend_yield, w_dividend_yield)\n",
    "    include_metric_score(dividend_share, w_dividend_share)\n",
    "    include_metric_score(vacancy, w_vacancy)\n",
    "    include_metric_score(default, w_default)\n",
    "    \n",
    "    columns_weight = [col for col in df_dash_filtered.columns if col.startswith('Weight_')]\n",
    "    columns_score = [col for col in df_dash_filtered.columns if col.startswith('Score_')]\n",
    "    \n",
    "    df_dash_filtered['WeightTotal'] = df_dash_filtered[columns_weight].sum(axis=1) \n",
    "    df_dash_filtered['ScoreTotal'] = df_dash_filtered[columns_score].sum(axis=1)\n",
    "    df_dash_filtered['GradeFinal'] = df_dash_filtered['ScoreTotal'] / df_dash_filtered['WeightTotal']\n",
    "    \n",
    "    df_dash_filtered = df_dash_filtered.round(2)\n",
    "\n",
    "    return df_dash_filtered.sort_values(by=['GradeFinal', 'Ticker'], ascending=[False, True]).to_dict('records')\n",
    "\n",
    "@callback(\n",
    "    Output('div-bar-chart', 'children'),\n",
    "    [Input('tbl-grade', 'active_cell'),\n",
    "     Input('tbl-grade', 'data')]\n",
    ")\n",
    "\n",
    "def tbl_grade_click(active_cell, data):\n",
    "    if active_cell:\n",
    "        ticker = data[active_cell['row']]['Ticker']\n",
    "        \n",
    "        df_temp = pd.DataFrame(data=data)\n",
    "        df_temp = df_temp[df_temp['Ticker'] == ticker]\n",
    "        df_temp = df_temp[df_temp.columns.intersection(columns_grade_metrics)].T\n",
    "        df_temp.dropna(inplace=True)\n",
    "        x_values = [elemento.replace(\"Grade_\", \"\") for elemento in df_temp.index]\n",
    "        y_values = df_temp.values.ravel()\n",
    "\n",
    "        fig = px.bar(x=x_values, y=y_values, title=ticker)\n",
    "        fig.update_xaxes(title_text=\"\", tickfont=dict(size=10), tickangle=345)\n",
    "        fig.update_yaxes(title_text=\"Nota\")\n",
    "        fig.update_layout(width=600,\n",
    "                          height=260,\n",
    "                          margin=dict(l=0, r=0, t=25, b=30))\n",
    "        \n",
    "        return dcc.Graph(id='bar-chart', figure=fig)\n",
    "        #return str(active_cell) if active_cell else \"Click the table\"\n",
    "        #return str(data[active_cell['row']][active_cell['column_id']])\n",
    "\n",
    "@app.callback(\n",
    "    Output('div-scatter-chart', 'children'),\n",
    "    Input('bar-chart', 'clickData'),\n",
    "    [State('tbl-grade', 'active_cell'),\n",
    "     State('tbl-grade', 'data')]\n",
    ")\n",
    "\n",
    "def bar_chart_click(clickData, active_cell, data):\n",
    "    metric = ''\n",
    "    ticker = ''\n",
    "    \n",
    "    if clickData:\n",
    "        metric = clickData['points'][0]['x']\n",
    "        \n",
    "    if active_cell:\n",
    "        ticker = data[active_cell['row']]['Ticker']\n",
    "\n",
    "    if metric:\n",
    "        fig = show_plot_scatter(metric, ticker)\n",
    "        return dcc.Graph(id='scatter-chart', figure=fig)\n",
    "    else:\n",
    "        return ''\n",
    "        #return (f'metric: ',metric,', ticker: ',ticker)\n",
    "        \n",
    "if __name__ == '__main__':\n",
    "    app.run(debug=False, jupyter_mode='external')"
   ]
  },
  {
   "cell_type": "code",
   "execution_count": 66,
   "id": "6137b59a",
   "metadata": {},
   "outputs": [
    {
     "data": {
      "text/html": [
       "<div>\n",
       "<style scoped>\n",
       "    .dataframe tbody tr th:only-of-type {\n",
       "        vertical-align: middle;\n",
       "    }\n",
       "\n",
       "    .dataframe tbody tr th {\n",
       "        vertical-align: top;\n",
       "    }\n",
       "\n",
       "    .dataframe thead th {\n",
       "        text-align: right;\n",
       "    }\n",
       "</style>\n",
       "<table border=\"1\" class=\"dataframe\">\n",
       "  <thead>\n",
       "    <tr style=\"text-align: right;\">\n",
       "      <th></th>\n",
       "      <th>Metric</th>\n",
       "      <th>Grade_Asc</th>\n",
       "      <th>Interval_0</th>\n",
       "      <th>Interval_25</th>\n",
       "      <th>Interval_50</th>\n",
       "      <th>Interval_75</th>\n",
       "      <th>Interval_100</th>\n",
       "      <th>Grade_0</th>\n",
       "      <th>Grade_25</th>\n",
       "      <th>Grade_50</th>\n",
       "      <th>Grade_75</th>\n",
       "      <th>Grade_100</th>\n",
       "      <th>Coef_0</th>\n",
       "      <th>Coef_25</th>\n",
       "      <th>Coef_50</th>\n",
       "      <th>Coef_75</th>\n",
       "    </tr>\n",
       "  </thead>\n",
       "  <tbody>\n",
       "    <tr>\n",
       "      <th>0</th>\n",
       "      <td>Evolucao Patrimonial</td>\n",
       "      <td>True</td>\n",
       "      <td>0.000052</td>\n",
       "      <td>0.006599</td>\n",
       "      <td>0.021403</td>\n",
       "      <td>0.034059</td>\n",
       "      <td>4.984031e-02</td>\n",
       "      <td>1.0</td>\n",
       "      <td>3.0</td>\n",
       "      <td>5.5</td>\n",
       "      <td>8.0</td>\n",
       "      <td>10.0</td>\n",
       "      <td>0.003273</td>\n",
       "      <td>0.005922</td>\n",
       "      <td>0.005062</td>\n",
       "      <td>0.007891</td>\n",
       "    </tr>\n",
       "    <tr>\n",
       "      <th>1</th>\n",
       "      <td>PVP</td>\n",
       "      <td>False</td>\n",
       "      <td>0.500000</td>\n",
       "      <td>0.900000</td>\n",
       "      <td>1.100000</td>\n",
       "      <td>1.300000</td>\n",
       "      <td>1.600000e+00</td>\n",
       "      <td>10.0</td>\n",
       "      <td>8.0</td>\n",
       "      <td>5.5</td>\n",
       "      <td>3.0</td>\n",
       "      <td>1.0</td>\n",
       "      <td>-0.200000</td>\n",
       "      <td>-0.080000</td>\n",
       "      <td>-0.080000</td>\n",
       "      <td>-0.150000</td>\n",
       "    </tr>\n",
       "    <tr>\n",
       "      <th>2</th>\n",
       "      <td>Cotistas</td>\n",
       "      <td>True</td>\n",
       "      <td>528.000000</td>\n",
       "      <td>3705.000000</td>\n",
       "      <td>10341.000000</td>\n",
       "      <td>45732.000000</td>\n",
       "      <td>3.352980e+05</td>\n",
       "      <td>1.0</td>\n",
       "      <td>3.0</td>\n",
       "      <td>5.5</td>\n",
       "      <td>8.0</td>\n",
       "      <td>10.0</td>\n",
       "      <td>1588.500000</td>\n",
       "      <td>2654.400000</td>\n",
       "      <td>14156.400000</td>\n",
       "      <td>144783.000000</td>\n",
       "    </tr>\n",
       "    <tr>\n",
       "      <th>3</th>\n",
       "      <td>Liquidez</td>\n",
       "      <td>True</td>\n",
       "      <td>22.000000</td>\n",
       "      <td>1587.000000</td>\n",
       "      <td>6921.000000</td>\n",
       "      <td>25918.500000</td>\n",
       "      <td>1.197175e+06</td>\n",
       "      <td>1.0</td>\n",
       "      <td>3.0</td>\n",
       "      <td>5.5</td>\n",
       "      <td>8.0</td>\n",
       "      <td>10.0</td>\n",
       "      <td>782.500000</td>\n",
       "      <td>2133.600000</td>\n",
       "      <td>7599.000000</td>\n",
       "      <td>585628.250000</td>\n",
       "    </tr>\n",
       "    <tr>\n",
       "      <th>4</th>\n",
       "      <td>Dividend Yield</td>\n",
       "      <td>True</td>\n",
       "      <td>0.000072</td>\n",
       "      <td>0.003024</td>\n",
       "      <td>0.005977</td>\n",
       "      <td>0.008929</td>\n",
       "      <td>1.188097e-02</td>\n",
       "      <td>1.0</td>\n",
       "      <td>3.0</td>\n",
       "      <td>5.5</td>\n",
       "      <td>8.0</td>\n",
       "      <td>10.0</td>\n",
       "      <td>0.001476</td>\n",
       "      <td>0.001181</td>\n",
       "      <td>0.001181</td>\n",
       "      <td>0.001476</td>\n",
       "    </tr>\n",
       "    <tr>\n",
       "      <th>5</th>\n",
       "      <td>Dividend Cota</td>\n",
       "      <td>True</td>\n",
       "      <td>0.000170</td>\n",
       "      <td>0.003530</td>\n",
       "      <td>0.007525</td>\n",
       "      <td>0.012458</td>\n",
       "      <td>3.449227e-02</td>\n",
       "      <td>1.0</td>\n",
       "      <td>3.0</td>\n",
       "      <td>5.5</td>\n",
       "      <td>8.0</td>\n",
       "      <td>10.0</td>\n",
       "      <td>0.001680</td>\n",
       "      <td>0.001598</td>\n",
       "      <td>0.001973</td>\n",
       "      <td>0.011017</td>\n",
       "    </tr>\n",
       "    <tr>\n",
       "      <th>6</th>\n",
       "      <td>Vacancia</td>\n",
       "      <td>False</td>\n",
       "      <td>0.000000</td>\n",
       "      <td>0.200000</td>\n",
       "      <td>0.400000</td>\n",
       "      <td>0.600000</td>\n",
       "      <td>8.000000e-01</td>\n",
       "      <td>10.0</td>\n",
       "      <td>8.0</td>\n",
       "      <td>5.5</td>\n",
       "      <td>3.0</td>\n",
       "      <td>1.0</td>\n",
       "      <td>-0.100000</td>\n",
       "      <td>-0.080000</td>\n",
       "      <td>-0.080000</td>\n",
       "      <td>-0.100000</td>\n",
       "    </tr>\n",
       "    <tr>\n",
       "      <th>7</th>\n",
       "      <td>Inadimplencia</td>\n",
       "      <td>False</td>\n",
       "      <td>0.000000</td>\n",
       "      <td>0.100000</td>\n",
       "      <td>0.250000</td>\n",
       "      <td>0.500000</td>\n",
       "      <td>8.000000e-01</td>\n",
       "      <td>10.0</td>\n",
       "      <td>8.0</td>\n",
       "      <td>5.5</td>\n",
       "      <td>3.0</td>\n",
       "      <td>1.0</td>\n",
       "      <td>-0.050000</td>\n",
       "      <td>-0.060000</td>\n",
       "      <td>-0.100000</td>\n",
       "      <td>-0.150000</td>\n",
       "    </tr>\n",
       "  </tbody>\n",
       "</table>\n",
       "</div>"
      ],
      "text/plain": [
       "                 Metric  Grade_Asc  Interval_0  Interval_25   Interval_50  \\\n",
       "0  Evolucao Patrimonial       True    0.000052     0.006599      0.021403   \n",
       "1                   PVP      False    0.500000     0.900000      1.100000   \n",
       "2              Cotistas       True  528.000000  3705.000000  10341.000000   \n",
       "3              Liquidez       True   22.000000  1587.000000   6921.000000   \n",
       "4        Dividend Yield       True    0.000072     0.003024      0.005977   \n",
       "5         Dividend Cota       True    0.000170     0.003530      0.007525   \n",
       "6              Vacancia      False    0.000000     0.200000      0.400000   \n",
       "7         Inadimplencia      False    0.000000     0.100000      0.250000   \n",
       "\n",
       "    Interval_75  Interval_100  Grade_0  Grade_25  Grade_50  Grade_75  \\\n",
       "0      0.034059  4.984031e-02      1.0       3.0       5.5       8.0   \n",
       "1      1.300000  1.600000e+00     10.0       8.0       5.5       3.0   \n",
       "2  45732.000000  3.352980e+05      1.0       3.0       5.5       8.0   \n",
       "3  25918.500000  1.197175e+06      1.0       3.0       5.5       8.0   \n",
       "4      0.008929  1.188097e-02      1.0       3.0       5.5       8.0   \n",
       "5      0.012458  3.449227e-02      1.0       3.0       5.5       8.0   \n",
       "6      0.600000  8.000000e-01     10.0       8.0       5.5       3.0   \n",
       "7      0.500000  8.000000e-01     10.0       8.0       5.5       3.0   \n",
       "\n",
       "   Grade_100       Coef_0      Coef_25       Coef_50        Coef_75  \n",
       "0       10.0     0.003273     0.005922      0.005062       0.007891  \n",
       "1        1.0    -0.200000    -0.080000     -0.080000      -0.150000  \n",
       "2       10.0  1588.500000  2654.400000  14156.400000  144783.000000  \n",
       "3       10.0   782.500000  2133.600000   7599.000000  585628.250000  \n",
       "4       10.0     0.001476     0.001181      0.001181       0.001476  \n",
       "5       10.0     0.001680     0.001598      0.001973       0.011017  \n",
       "6        1.0    -0.100000    -0.080000     -0.080000      -0.100000  \n",
       "7        1.0    -0.050000    -0.060000     -0.100000      -0.150000  "
      ]
     },
     "execution_count": 66,
     "metadata": {},
     "output_type": "execute_result"
    }
   ],
   "source": [
    "ticker = 'BTLG11'\n",
    "row = df_current.loc[df_current['Ticker'] == ticker][['Total_Numero_Cotistas']]\n",
    "x = [ticker]\n",
    "y = row.values[0]\n",
    "\n",
    "#df_metrics.loc[df_metrics['Metric'] == 'Cotistas']\n",
    "df_metrics\n",
    "# df_temp = pd.DataFrame(data=[{'Intervalo': 528.0, 'Grade': 1.0},\n",
    "#                              {'Intervalo': 3705.0, 'Grade': 3.0},\n",
    "#                              {'Intervalo': 10341.0, 'Grade': 5.5},\n",
    "#                              {'Intervalo': 45732.0, 'Grade': 8.0},\n",
    "#                              {'Intervalo': 335298.0, 'Grade': 10.0}\n",
    "#                             ])"
   ]
  },
  {
   "cell_type": "code",
   "execution_count": 70,
   "id": "1e7b2ad4",
   "metadata": {},
   "outputs": [
    {
     "data": {
      "application/vnd.plotly.v1+json": {
       "config": {
        "plotlyServerURL": "https://plot.ly"
       },
       "data": [
        {
         "hovertemplate": "Ticker=%{x}<br>Total_Numero_Cotistas=%{y}<extra></extra>",
         "legendgroup": "",
         "marker": {
          "color": "#636efa",
          "symbol": "circle"
         },
         "mode": "markers",
         "name": "",
         "orientation": "v",
         "showlegend": false,
         "type": "scatter",
         "x": [
          "ABCP11",
          "AFHI11",
          "AIEC11",
          "ALMI11",
          "ALZM11",
          "ALZR11",
          "APTO11",
          "AROA11",
          "BARI11",
          "BBFI11B",
          "BBFO11",
          "BBRC11",
          "BCFF11",
          "BCIA11",
          "BCRI11",
          "BICR11",
          "BIME11",
          "BLMG11",
          "BLMR11",
          "BMLC11",
          "BNFS11",
          "BPFF11",
          "BRCO11",
          "BRCR11",
          "BTCI11",
          "BTLG11",
          "BTRA11",
          "CACR11",
          "CARE11",
          "CBOP11",
          "CEOC11",
          "CNES11",
          "CPFF11",
          "CPFO11",
          "CPTS11",
          "CRFF11",
          "CTXT11",
          "CVBI11",
          "CXAG11",
          "CXCE11B",
          "CXCI11",
          "CXCO11",
          "CXRI11",
          "CXTL11",
          "CYCR11",
          "DEVA11",
          "DPRO11",
          "DVFF11",
          "EDFO11B",
          "EDGA11",
          "EQIR11",
          "EURO11",
          "EVBI11",
          "FAED11",
          "FAMB11B",
          "FATN11",
          "FCFL11",
          "FIGS11",
          "FIIB11",
          "FIIP11B",
          "FIVN11",
          "FLCR11",
          "FLMA11",
          "FLRP11",
          "FPAB11",
          "FVPQ11",
          "GALG11",
          "GAME11",
          "GCFF11",
          "GCRI11",
          "GGRC11",
          "GSFI11",
          "GTWR11",
          "HABT11",
          "HBRH11",
          "HCRI11",
          "HCTR11",
          "HFOF11",
          "HGBS11",
          "HGCR11",
          "HGFF11",
          "HGLG11",
          "HGPO11",
          "HGRE11",
          "HGRU11",
          "HLOG11",
          "HOFC11",
          "HOSI11",
          "HREC11",
          "HSAF11",
          "HSLG11",
          "HSML11",
          "HTMX11",
          "IBCR11",
          "IRDM11",
          "IRIM11",
          "ITIP11",
          "ITIT11",
          "JFLL11",
          "JPPA11",
          "JRDM11",
          "JSAF11",
          "JSRE11",
          "KCRE11",
          "KFOF11",
          "KISU11",
          "KIVO11",
          "KNCR11",
          "KNHF11",
          "KNRI11",
          "KNSC11",
          "LGCP11",
          "LIFE11",
          "LUGG11",
          "LVBI11",
          "MALL11",
          "MANA11",
          "MAXR11",
          "MCCI11",
          "MCHF11",
          "MFAI11",
          "MFII11",
          "MGCR11",
          "MGHT11",
          "MORC11",
          "MORE11",
          "MXRF11",
          "NCHB11",
          "NCRI11",
          "NEWL11",
          "NEWU11",
          "NSLU11",
          "OGHY11",
          "ONEF11",
          "OUFF11",
          "OUJP11",
          "OULG11",
          "OURE11",
          "PABY11",
          "PATC11",
          "PATL11",
          "PLCR11",
          "PLOG11",
          "PORD11",
          "PQDP11",
          "PRSV11",
          "PVBI11",
          "QAGR11",
          "QAMI11",
          "RBED11",
          "RBFF11",
          "RBHY11",
          "RBOP11",
          "RBRD11",
          "RBRF11",
          "RBRL11",
          "RBRP11",
          "RBRR11",
          "RBRS11",
          "RBRY11",
          "RBVA11",
          "RCRB11",
          "RDPD11",
          "RECR11",
          "RECT11",
          "RELG11",
          "RFOF11",
          "RINV11",
          "RNDP11",
          "RNGO11",
          "RPRI11",
          "RRCI11",
          "RVBI11",
          "RZAK11",
          "RZAT11",
          "SADI11",
          "SARE11",
          "SCPF11",
          "SDIL11",
          "SEQR11",
          "SHPH11",
          "SNCI11",
          "SNEL11",
          "SNFF11",
          "SNLG11",
          "SPTW11",
          "SPXS11",
          "TEPP11",
          "TGAR11",
          "TORD11",
          "TRNT11",
          "TRXF11",
          "VCJR11",
          "VCRR11",
          "VGHF11",
          "VGIP11",
          "VGIR11",
          "VIFI11",
          "VILG11",
          "VINO11",
          "VISC11",
          "VIUR11",
          "VLOL11",
          "VOTS11",
          "VRTA11",
          "VSHO11",
          "VTLT11",
          "VVPR11",
          "WHGR11",
          "WPLZ11",
          "XPCI11",
          "XPCM11",
          "XPHT11",
          "XPIN11",
          "XPLG11",
          "XPML11",
          "XPPR11",
          "XPSF11",
          "ZAVI11"
         ],
         "xaxis": "x",
         "y": [
          17090,
          29705,
          17606,
          2228,
          8611,
          150227,
          10055,
          1367,
          36224,
          7377,
          6193,
          9513,
          335241,
          21947,
          46507,
          621,
          8827,
          14125,
          17513,
          1422,
          5246,
          18854,
          120624,
          148034,
          163039,
          279451,
          20881,
          20109,
          11708,
          3046,
          4982,
          1641,
          9379,
          528,
          347058,
          1472,
          2736,
          89607,
          12346,
          3616,
          5428,
          14334,
          2203,
          714,
          15207,
          120844,
          682,
          1397,
          528,
          5148,
          11467,
          2355,
          1038,
          4679,
          2518,
          5715,
          3954,
          14514,
          16512,
          7389,
          4087,
          2816,
          14668,
          802,
          904,
          4030,
          150149,
          24224,
          1759,
          4837,
          107363,
          8480,
          35825,
          69799,
          950,
          3265,
          187227,
          77881,
          110083,
          106395,
          17312,
          454240,
          19436,
          150557,
          209006,
          4249,
          6727,
          1545,
          2516,
          10950,
          35212,
          171412,
          33788,
          4110,
          295257,
          2696,
          5295,
          10345,
          3635,
          8811,
          4001,
          16969,
          107332,
          11027,
          19381,
          133277,
          5029,
          320354,
          13508,
          265736,
          142820,
          16293,
          6876,
          6904,
          104360,
          134208,
          5690,
          4482,
          118627,
          83266,
          2773,
          30601,
          4360,
          5209,
          3642,
          3815,
          1069877,
          10858,
          816,
          5019,
          1414,
          6197,
          1565,
          2602,
          7693,
          29684,
          5321,
          6292,
          667,
          8474,
          24766,
          15801,
          2997,
          27257,
          3972,
          941,
          138748,
          21758,
          1440,
          13403,
          20458,
          3669,
          3537,
          8717,
          113306,
          14795,
          87609,
          136411,
          1210,
          54442,
          51287,
          31940,
          2722,
          178187,
          67506,
          5983,
          4754,
          1134,
          1267,
          10338,
          2815,
          2109,
          12296,
          51916,
          39241,
          10908,
          43237,
          4980,
          61196,
          5636,
          2417,
          43408,
          5194,
          29646,
          3406,
          25394,
          8811,
          22257,
          149933,
          90908,
          671,
          135681,
          27093,
          4393,
          391595,
          90085,
          237835,
          6366,
          161804,
          152325,
          294965,
          53511,
          3127,
          718,
          123707,
          3879,
          6094,
          1372,
          14115,
          1883,
          79858,
          23251,
          930,
          50574,
          335298,
          409164,
          55407,
          65013,
          5412
         ],
         "yaxis": "y"
        },
        {
         "marker": {
          "line": {
           "color": "DarkSlateGrey",
           "width": 2
          },
          "size": 12
         },
         "showlegend": false,
         "type": "scatter",
         "x": [
          "BTLG11"
         ],
         "y": [
          279451
         ]
        }
       ],
       "layout": {
        "annotations": [
         {
          "font": {
           "color": "red"
          },
          "showarrow": false,
          "text": "<b>5.5</b>",
          "x": 1,
          "xanchor": "right",
          "xref": "x domain",
          "y": 10000,
          "yanchor": "bottom",
          "yref": "y"
         },
         {
          "font": {
           "color": "green"
          },
          "showarrow": false,
          "text": "<b>10.0</b>",
          "x": 1,
          "xanchor": "right",
          "xref": "x domain",
          "y": 335298,
          "yanchor": "bottom",
          "yref": "y"
         }
        ],
        "legend": {
         "tracegroupgap": 0
        },
        "margin": {
         "t": 60
        },
        "shapes": [
         {
          "line": {
           "color": "Red",
           "dash": "dot"
          },
          "type": "line",
          "x0": 0,
          "x1": 1,
          "xref": "x domain",
          "y0": 10000,
          "y1": 10000,
          "yref": "y"
         },
         {
          "line": {
           "color": "Green",
           "dash": "dot"
          },
          "type": "line",
          "x0": 0,
          "x1": 1,
          "xref": "x domain",
          "y0": 335298,
          "y1": 335298,
          "yref": "y"
         }
        ],
        "template": {
         "data": {
          "bar": [
           {
            "error_x": {
             "color": "#2a3f5f"
            },
            "error_y": {
             "color": "#2a3f5f"
            },
            "marker": {
             "line": {
              "color": "#E5ECF6",
              "width": 0.5
             },
             "pattern": {
              "fillmode": "overlay",
              "size": 10,
              "solidity": 0.2
             }
            },
            "type": "bar"
           }
          ],
          "barpolar": [
           {
            "marker": {
             "line": {
              "color": "#E5ECF6",
              "width": 0.5
             },
             "pattern": {
              "fillmode": "overlay",
              "size": 10,
              "solidity": 0.2
             }
            },
            "type": "barpolar"
           }
          ],
          "carpet": [
           {
            "aaxis": {
             "endlinecolor": "#2a3f5f",
             "gridcolor": "white",
             "linecolor": "white",
             "minorgridcolor": "white",
             "startlinecolor": "#2a3f5f"
            },
            "baxis": {
             "endlinecolor": "#2a3f5f",
             "gridcolor": "white",
             "linecolor": "white",
             "minorgridcolor": "white",
             "startlinecolor": "#2a3f5f"
            },
            "type": "carpet"
           }
          ],
          "choropleth": [
           {
            "colorbar": {
             "outlinewidth": 0,
             "ticks": ""
            },
            "type": "choropleth"
           }
          ],
          "contour": [
           {
            "colorbar": {
             "outlinewidth": 0,
             "ticks": ""
            },
            "colorscale": [
             [
              0,
              "#0d0887"
             ],
             [
              0.1111111111111111,
              "#46039f"
             ],
             [
              0.2222222222222222,
              "#7201a8"
             ],
             [
              0.3333333333333333,
              "#9c179e"
             ],
             [
              0.4444444444444444,
              "#bd3786"
             ],
             [
              0.5555555555555556,
              "#d8576b"
             ],
             [
              0.6666666666666666,
              "#ed7953"
             ],
             [
              0.7777777777777778,
              "#fb9f3a"
             ],
             [
              0.8888888888888888,
              "#fdca26"
             ],
             [
              1,
              "#f0f921"
             ]
            ],
            "type": "contour"
           }
          ],
          "contourcarpet": [
           {
            "colorbar": {
             "outlinewidth": 0,
             "ticks": ""
            },
            "type": "contourcarpet"
           }
          ],
          "heatmap": [
           {
            "colorbar": {
             "outlinewidth": 0,
             "ticks": ""
            },
            "colorscale": [
             [
              0,
              "#0d0887"
             ],
             [
              0.1111111111111111,
              "#46039f"
             ],
             [
              0.2222222222222222,
              "#7201a8"
             ],
             [
              0.3333333333333333,
              "#9c179e"
             ],
             [
              0.4444444444444444,
              "#bd3786"
             ],
             [
              0.5555555555555556,
              "#d8576b"
             ],
             [
              0.6666666666666666,
              "#ed7953"
             ],
             [
              0.7777777777777778,
              "#fb9f3a"
             ],
             [
              0.8888888888888888,
              "#fdca26"
             ],
             [
              1,
              "#f0f921"
             ]
            ],
            "type": "heatmap"
           }
          ],
          "heatmapgl": [
           {
            "colorbar": {
             "outlinewidth": 0,
             "ticks": ""
            },
            "colorscale": [
             [
              0,
              "#0d0887"
             ],
             [
              0.1111111111111111,
              "#46039f"
             ],
             [
              0.2222222222222222,
              "#7201a8"
             ],
             [
              0.3333333333333333,
              "#9c179e"
             ],
             [
              0.4444444444444444,
              "#bd3786"
             ],
             [
              0.5555555555555556,
              "#d8576b"
             ],
             [
              0.6666666666666666,
              "#ed7953"
             ],
             [
              0.7777777777777778,
              "#fb9f3a"
             ],
             [
              0.8888888888888888,
              "#fdca26"
             ],
             [
              1,
              "#f0f921"
             ]
            ],
            "type": "heatmapgl"
           }
          ],
          "histogram": [
           {
            "marker": {
             "pattern": {
              "fillmode": "overlay",
              "size": 10,
              "solidity": 0.2
             }
            },
            "type": "histogram"
           }
          ],
          "histogram2d": [
           {
            "colorbar": {
             "outlinewidth": 0,
             "ticks": ""
            },
            "colorscale": [
             [
              0,
              "#0d0887"
             ],
             [
              0.1111111111111111,
              "#46039f"
             ],
             [
              0.2222222222222222,
              "#7201a8"
             ],
             [
              0.3333333333333333,
              "#9c179e"
             ],
             [
              0.4444444444444444,
              "#bd3786"
             ],
             [
              0.5555555555555556,
              "#d8576b"
             ],
             [
              0.6666666666666666,
              "#ed7953"
             ],
             [
              0.7777777777777778,
              "#fb9f3a"
             ],
             [
              0.8888888888888888,
              "#fdca26"
             ],
             [
              1,
              "#f0f921"
             ]
            ],
            "type": "histogram2d"
           }
          ],
          "histogram2dcontour": [
           {
            "colorbar": {
             "outlinewidth": 0,
             "ticks": ""
            },
            "colorscale": [
             [
              0,
              "#0d0887"
             ],
             [
              0.1111111111111111,
              "#46039f"
             ],
             [
              0.2222222222222222,
              "#7201a8"
             ],
             [
              0.3333333333333333,
              "#9c179e"
             ],
             [
              0.4444444444444444,
              "#bd3786"
             ],
             [
              0.5555555555555556,
              "#d8576b"
             ],
             [
              0.6666666666666666,
              "#ed7953"
             ],
             [
              0.7777777777777778,
              "#fb9f3a"
             ],
             [
              0.8888888888888888,
              "#fdca26"
             ],
             [
              1,
              "#f0f921"
             ]
            ],
            "type": "histogram2dcontour"
           }
          ],
          "mesh3d": [
           {
            "colorbar": {
             "outlinewidth": 0,
             "ticks": ""
            },
            "type": "mesh3d"
           }
          ],
          "parcoords": [
           {
            "line": {
             "colorbar": {
              "outlinewidth": 0,
              "ticks": ""
             }
            },
            "type": "parcoords"
           }
          ],
          "pie": [
           {
            "automargin": true,
            "type": "pie"
           }
          ],
          "scatter": [
           {
            "fillpattern": {
             "fillmode": "overlay",
             "size": 10,
             "solidity": 0.2
            },
            "type": "scatter"
           }
          ],
          "scatter3d": [
           {
            "line": {
             "colorbar": {
              "outlinewidth": 0,
              "ticks": ""
             }
            },
            "marker": {
             "colorbar": {
              "outlinewidth": 0,
              "ticks": ""
             }
            },
            "type": "scatter3d"
           }
          ],
          "scattercarpet": [
           {
            "marker": {
             "colorbar": {
              "outlinewidth": 0,
              "ticks": ""
             }
            },
            "type": "scattercarpet"
           }
          ],
          "scattergeo": [
           {
            "marker": {
             "colorbar": {
              "outlinewidth": 0,
              "ticks": ""
             }
            },
            "type": "scattergeo"
           }
          ],
          "scattergl": [
           {
            "marker": {
             "colorbar": {
              "outlinewidth": 0,
              "ticks": ""
             }
            },
            "type": "scattergl"
           }
          ],
          "scattermapbox": [
           {
            "marker": {
             "colorbar": {
              "outlinewidth": 0,
              "ticks": ""
             }
            },
            "type": "scattermapbox"
           }
          ],
          "scatterpolar": [
           {
            "marker": {
             "colorbar": {
              "outlinewidth": 0,
              "ticks": ""
             }
            },
            "type": "scatterpolar"
           }
          ],
          "scatterpolargl": [
           {
            "marker": {
             "colorbar": {
              "outlinewidth": 0,
              "ticks": ""
             }
            },
            "type": "scatterpolargl"
           }
          ],
          "scatterternary": [
           {
            "marker": {
             "colorbar": {
              "outlinewidth": 0,
              "ticks": ""
             }
            },
            "type": "scatterternary"
           }
          ],
          "surface": [
           {
            "colorbar": {
             "outlinewidth": 0,
             "ticks": ""
            },
            "colorscale": [
             [
              0,
              "#0d0887"
             ],
             [
              0.1111111111111111,
              "#46039f"
             ],
             [
              0.2222222222222222,
              "#7201a8"
             ],
             [
              0.3333333333333333,
              "#9c179e"
             ],
             [
              0.4444444444444444,
              "#bd3786"
             ],
             [
              0.5555555555555556,
              "#d8576b"
             ],
             [
              0.6666666666666666,
              "#ed7953"
             ],
             [
              0.7777777777777778,
              "#fb9f3a"
             ],
             [
              0.8888888888888888,
              "#fdca26"
             ],
             [
              1,
              "#f0f921"
             ]
            ],
            "type": "surface"
           }
          ],
          "table": [
           {
            "cells": {
             "fill": {
              "color": "#EBF0F8"
             },
             "line": {
              "color": "white"
             }
            },
            "header": {
             "fill": {
              "color": "#C8D4E3"
             },
             "line": {
              "color": "white"
             }
            },
            "type": "table"
           }
          ]
         },
         "layout": {
          "annotationdefaults": {
           "arrowcolor": "#2a3f5f",
           "arrowhead": 0,
           "arrowwidth": 1
          },
          "autotypenumbers": "strict",
          "coloraxis": {
           "colorbar": {
            "outlinewidth": 0,
            "ticks": ""
           }
          },
          "colorscale": {
           "diverging": [
            [
             0,
             "#8e0152"
            ],
            [
             0.1,
             "#c51b7d"
            ],
            [
             0.2,
             "#de77ae"
            ],
            [
             0.3,
             "#f1b6da"
            ],
            [
             0.4,
             "#fde0ef"
            ],
            [
             0.5,
             "#f7f7f7"
            ],
            [
             0.6,
             "#e6f5d0"
            ],
            [
             0.7,
             "#b8e186"
            ],
            [
             0.8,
             "#7fbc41"
            ],
            [
             0.9,
             "#4d9221"
            ],
            [
             1,
             "#276419"
            ]
           ],
           "sequential": [
            [
             0,
             "#0d0887"
            ],
            [
             0.1111111111111111,
             "#46039f"
            ],
            [
             0.2222222222222222,
             "#7201a8"
            ],
            [
             0.3333333333333333,
             "#9c179e"
            ],
            [
             0.4444444444444444,
             "#bd3786"
            ],
            [
             0.5555555555555556,
             "#d8576b"
            ],
            [
             0.6666666666666666,
             "#ed7953"
            ],
            [
             0.7777777777777778,
             "#fb9f3a"
            ],
            [
             0.8888888888888888,
             "#fdca26"
            ],
            [
             1,
             "#f0f921"
            ]
           ],
           "sequentialminus": [
            [
             0,
             "#0d0887"
            ],
            [
             0.1111111111111111,
             "#46039f"
            ],
            [
             0.2222222222222222,
             "#7201a8"
            ],
            [
             0.3333333333333333,
             "#9c179e"
            ],
            [
             0.4444444444444444,
             "#bd3786"
            ],
            [
             0.5555555555555556,
             "#d8576b"
            ],
            [
             0.6666666666666666,
             "#ed7953"
            ],
            [
             0.7777777777777778,
             "#fb9f3a"
            ],
            [
             0.8888888888888888,
             "#fdca26"
            ],
            [
             1,
             "#f0f921"
            ]
           ]
          },
          "colorway": [
           "#636efa",
           "#EF553B",
           "#00cc96",
           "#ab63fa",
           "#FFA15A",
           "#19d3f3",
           "#FF6692",
           "#B6E880",
           "#FF97FF",
           "#FECB52"
          ],
          "font": {
           "color": "#2a3f5f"
          },
          "geo": {
           "bgcolor": "white",
           "lakecolor": "white",
           "landcolor": "#E5ECF6",
           "showlakes": true,
           "showland": true,
           "subunitcolor": "white"
          },
          "hoverlabel": {
           "align": "left"
          },
          "hovermode": "closest",
          "mapbox": {
           "style": "light"
          },
          "paper_bgcolor": "white",
          "plot_bgcolor": "#E5ECF6",
          "polar": {
           "angularaxis": {
            "gridcolor": "white",
            "linecolor": "white",
            "ticks": ""
           },
           "bgcolor": "#E5ECF6",
           "radialaxis": {
            "gridcolor": "white",
            "linecolor": "white",
            "ticks": ""
           }
          },
          "scene": {
           "xaxis": {
            "backgroundcolor": "#E5ECF6",
            "gridcolor": "white",
            "gridwidth": 2,
            "linecolor": "white",
            "showbackground": true,
            "ticks": "",
            "zerolinecolor": "white"
           },
           "yaxis": {
            "backgroundcolor": "#E5ECF6",
            "gridcolor": "white",
            "gridwidth": 2,
            "linecolor": "white",
            "showbackground": true,
            "ticks": "",
            "zerolinecolor": "white"
           },
           "zaxis": {
            "backgroundcolor": "#E5ECF6",
            "gridcolor": "white",
            "gridwidth": 2,
            "linecolor": "white",
            "showbackground": true,
            "ticks": "",
            "zerolinecolor": "white"
           }
          },
          "shapedefaults": {
           "line": {
            "color": "#2a3f5f"
           }
          },
          "ternary": {
           "aaxis": {
            "gridcolor": "white",
            "linecolor": "white",
            "ticks": ""
           },
           "baxis": {
            "gridcolor": "white",
            "linecolor": "white",
            "ticks": ""
           },
           "bgcolor": "#E5ECF6",
           "caxis": {
            "gridcolor": "white",
            "linecolor": "white",
            "ticks": ""
           }
          },
          "title": {
           "x": 0.05
          },
          "xaxis": {
           "automargin": true,
           "gridcolor": "white",
           "linecolor": "white",
           "ticks": "",
           "title": {
            "standoff": 15
           },
           "zerolinecolor": "white",
           "zerolinewidth": 2
          },
          "yaxis": {
           "automargin": true,
           "gridcolor": "white",
           "linecolor": "white",
           "ticks": "",
           "title": {
            "standoff": 15
           },
           "zerolinecolor": "white",
           "zerolinewidth": 2
          }
         }
        },
        "xaxis": {
         "anchor": "y",
         "domain": [
          0,
          1
         ],
         "showticklabels": false,
         "title": {
          "text": ""
         }
        },
        "yaxis": {
         "anchor": "x",
         "domain": [
          0,
          1
         ],
         "title": {
          "text": "Total_Numero_Cotistas"
         }
        }
       }
      },
      "text/html": [
       "<div>                            <div id=\"9bf20d50-99ac-48f0-89e5-7f5999106615\" class=\"plotly-graph-div\" style=\"height:525px; width:100%;\"></div>            <script type=\"text/javascript\">                require([\"plotly\"], function(Plotly) {                    window.PLOTLYENV=window.PLOTLYENV || {};                                    if (document.getElementById(\"9bf20d50-99ac-48f0-89e5-7f5999106615\")) {                    Plotly.newPlot(                        \"9bf20d50-99ac-48f0-89e5-7f5999106615\",                        [{\"hovertemplate\":\"Ticker=%{x}\\u003cbr\\u003eTotal_Numero_Cotistas=%{y}\\u003cextra\\u003e\\u003c\\u002fextra\\u003e\",\"legendgroup\":\"\",\"marker\":{\"color\":\"#636efa\",\"symbol\":\"circle\"},\"mode\":\"markers\",\"name\":\"\",\"orientation\":\"v\",\"showlegend\":false,\"x\":[\"ABCP11\",\"AFHI11\",\"AIEC11\",\"ALMI11\",\"ALZM11\",\"ALZR11\",\"APTO11\",\"AROA11\",\"BARI11\",\"BBFI11B\",\"BBFO11\",\"BBRC11\",\"BCFF11\",\"BCIA11\",\"BCRI11\",\"BICR11\",\"BIME11\",\"BLMG11\",\"BLMR11\",\"BMLC11\",\"BNFS11\",\"BPFF11\",\"BRCO11\",\"BRCR11\",\"BTCI11\",\"BTLG11\",\"BTRA11\",\"CACR11\",\"CARE11\",\"CBOP11\",\"CEOC11\",\"CNES11\",\"CPFF11\",\"CPFO11\",\"CPTS11\",\"CRFF11\",\"CTXT11\",\"CVBI11\",\"CXAG11\",\"CXCE11B\",\"CXCI11\",\"CXCO11\",\"CXRI11\",\"CXTL11\",\"CYCR11\",\"DEVA11\",\"DPRO11\",\"DVFF11\",\"EDFO11B\",\"EDGA11\",\"EQIR11\",\"EURO11\",\"EVBI11\",\"FAED11\",\"FAMB11B\",\"FATN11\",\"FCFL11\",\"FIGS11\",\"FIIB11\",\"FIIP11B\",\"FIVN11\",\"FLCR11\",\"FLMA11\",\"FLRP11\",\"FPAB11\",\"FVPQ11\",\"GALG11\",\"GAME11\",\"GCFF11\",\"GCRI11\",\"GGRC11\",\"GSFI11\",\"GTWR11\",\"HABT11\",\"HBRH11\",\"HCRI11\",\"HCTR11\",\"HFOF11\",\"HGBS11\",\"HGCR11\",\"HGFF11\",\"HGLG11\",\"HGPO11\",\"HGRE11\",\"HGRU11\",\"HLOG11\",\"HOFC11\",\"HOSI11\",\"HREC11\",\"HSAF11\",\"HSLG11\",\"HSML11\",\"HTMX11\",\"IBCR11\",\"IRDM11\",\"IRIM11\",\"ITIP11\",\"ITIT11\",\"JFLL11\",\"JPPA11\",\"JRDM11\",\"JSAF11\",\"JSRE11\",\"KCRE11\",\"KFOF11\",\"KISU11\",\"KIVO11\",\"KNCR11\",\"KNHF11\",\"KNRI11\",\"KNSC11\",\"LGCP11\",\"LIFE11\",\"LUGG11\",\"LVBI11\",\"MALL11\",\"MANA11\",\"MAXR11\",\"MCCI11\",\"MCHF11\",\"MFAI11\",\"MFII11\",\"MGCR11\",\"MGHT11\",\"MORC11\",\"MORE11\",\"MXRF11\",\"NCHB11\",\"NCRI11\",\"NEWL11\",\"NEWU11\",\"NSLU11\",\"OGHY11\",\"ONEF11\",\"OUFF11\",\"OUJP11\",\"OULG11\",\"OURE11\",\"PABY11\",\"PATC11\",\"PATL11\",\"PLCR11\",\"PLOG11\",\"PORD11\",\"PQDP11\",\"PRSV11\",\"PVBI11\",\"QAGR11\",\"QAMI11\",\"RBED11\",\"RBFF11\",\"RBHY11\",\"RBOP11\",\"RBRD11\",\"RBRF11\",\"RBRL11\",\"RBRP11\",\"RBRR11\",\"RBRS11\",\"RBRY11\",\"RBVA11\",\"RCRB11\",\"RDPD11\",\"RECR11\",\"RECT11\",\"RELG11\",\"RFOF11\",\"RINV11\",\"RNDP11\",\"RNGO11\",\"RPRI11\",\"RRCI11\",\"RVBI11\",\"RZAK11\",\"RZAT11\",\"SADI11\",\"SARE11\",\"SCPF11\",\"SDIL11\",\"SEQR11\",\"SHPH11\",\"SNCI11\",\"SNEL11\",\"SNFF11\",\"SNLG11\",\"SPTW11\",\"SPXS11\",\"TEPP11\",\"TGAR11\",\"TORD11\",\"TRNT11\",\"TRXF11\",\"VCJR11\",\"VCRR11\",\"VGHF11\",\"VGIP11\",\"VGIR11\",\"VIFI11\",\"VILG11\",\"VINO11\",\"VISC11\",\"VIUR11\",\"VLOL11\",\"VOTS11\",\"VRTA11\",\"VSHO11\",\"VTLT11\",\"VVPR11\",\"WHGR11\",\"WPLZ11\",\"XPCI11\",\"XPCM11\",\"XPHT11\",\"XPIN11\",\"XPLG11\",\"XPML11\",\"XPPR11\",\"XPSF11\",\"ZAVI11\"],\"xaxis\":\"x\",\"y\":[17090.0,29705.0,17606.0,2228.0,8611.0,150227.0,10055.0,1367.0,36224.0,7377.0,6193.0,9513.0,335241.0,21947.0,46507.0,621.0,8827.0,14125.0,17513.0,1422.0,5246.0,18854.0,120624.0,148034.0,163039.0,279451.0,20881.0,20109.0,11708.0,3046.0,4982.0,1641.0,9379.0,528.0,347058.0,1472.0,2736.0,89607.0,12346.0,3616.0,5428.0,14334.0,2203.0,714.0,15207.0,120844.0,682.0,1397.0,528.0,5148.0,11467.0,2355.0,1038.0,4679.0,2518.0,5715.0,3954.0,14514.0,16512.0,7389.0,4087.0,2816.0,14668.0,802.0,904.0,4030.0,150149.0,24224.0,1759.0,4837.0,107363.0,8480.0,35825.0,69799.0,950.0,3265.0,187227.0,77881.0,110083.0,106395.0,17312.0,454240.0,19436.0,150557.0,209006.0,4249.0,6727.0,1545.0,2516.0,10950.0,35212.0,171412.0,33788.0,4110.0,295257.0,2696.0,5295.0,10345.0,3635.0,8811.0,4001.0,16969.0,107332.0,11027.0,19381.0,133277.0,5029.0,320354.0,13508.0,265736.0,142820.0,16293.0,6876.0,6904.0,104360.0,134208.0,5690.0,4482.0,118627.0,83266.0,2773.0,30601.0,4360.0,5209.0,3642.0,3815.0,1069877.0,10858.0,816.0,5019.0,1414.0,6197.0,1565.0,2602.0,7693.0,29684.0,5321.0,6292.0,667.0,8474.0,24766.0,15801.0,2997.0,27257.0,3972.0,941.0,138748.0,21758.0,1440.0,13403.0,20458.0,3669.0,3537.0,8717.0,113306.0,14795.0,87609.0,136411.0,1210.0,54442.0,51287.0,31940.0,2722.0,178187.0,67506.0,5983.0,4754.0,1134.0,1267.0,10338.0,2815.0,2109.0,12296.0,51916.0,39241.0,10908.0,43237.0,4980.0,61196.0,5636.0,2417.0,43408.0,5194.0,29646.0,3406.0,25394.0,8811.0,22257.0,149933.0,90908.0,671.0,135681.0,27093.0,4393.0,391595.0,90085.0,237835.0,6366.0,161804.0,152325.0,294965.0,53511.0,3127.0,718.0,123707.0,3879.0,6094.0,1372.0,14115.0,1883.0,79858.0,23251.0,930.0,50574.0,335298.0,409164.0,55407.0,65013.0,5412.0],\"yaxis\":\"y\",\"type\":\"scatter\"},{\"marker\":{\"line\":{\"color\":\"DarkSlateGrey\",\"width\":2},\"size\":12},\"x\":[\"BTLG11\"],\"y\":[279451.0],\"type\":\"scatter\",\"showlegend\":false}],                        {\"template\":{\"data\":{\"histogram2dcontour\":[{\"type\":\"histogram2dcontour\",\"colorbar\":{\"outlinewidth\":0,\"ticks\":\"\"},\"colorscale\":[[0.0,\"#0d0887\"],[0.1111111111111111,\"#46039f\"],[0.2222222222222222,\"#7201a8\"],[0.3333333333333333,\"#9c179e\"],[0.4444444444444444,\"#bd3786\"],[0.5555555555555556,\"#d8576b\"],[0.6666666666666666,\"#ed7953\"],[0.7777777777777778,\"#fb9f3a\"],[0.8888888888888888,\"#fdca26\"],[1.0,\"#f0f921\"]]}],\"choropleth\":[{\"type\":\"choropleth\",\"colorbar\":{\"outlinewidth\":0,\"ticks\":\"\"}}],\"histogram2d\":[{\"type\":\"histogram2d\",\"colorbar\":{\"outlinewidth\":0,\"ticks\":\"\"},\"colorscale\":[[0.0,\"#0d0887\"],[0.1111111111111111,\"#46039f\"],[0.2222222222222222,\"#7201a8\"],[0.3333333333333333,\"#9c179e\"],[0.4444444444444444,\"#bd3786\"],[0.5555555555555556,\"#d8576b\"],[0.6666666666666666,\"#ed7953\"],[0.7777777777777778,\"#fb9f3a\"],[0.8888888888888888,\"#fdca26\"],[1.0,\"#f0f921\"]]}],\"heatmap\":[{\"type\":\"heatmap\",\"colorbar\":{\"outlinewidth\":0,\"ticks\":\"\"},\"colorscale\":[[0.0,\"#0d0887\"],[0.1111111111111111,\"#46039f\"],[0.2222222222222222,\"#7201a8\"],[0.3333333333333333,\"#9c179e\"],[0.4444444444444444,\"#bd3786\"],[0.5555555555555556,\"#d8576b\"],[0.6666666666666666,\"#ed7953\"],[0.7777777777777778,\"#fb9f3a\"],[0.8888888888888888,\"#fdca26\"],[1.0,\"#f0f921\"]]}],\"heatmapgl\":[{\"type\":\"heatmapgl\",\"colorbar\":{\"outlinewidth\":0,\"ticks\":\"\"},\"colorscale\":[[0.0,\"#0d0887\"],[0.1111111111111111,\"#46039f\"],[0.2222222222222222,\"#7201a8\"],[0.3333333333333333,\"#9c179e\"],[0.4444444444444444,\"#bd3786\"],[0.5555555555555556,\"#d8576b\"],[0.6666666666666666,\"#ed7953\"],[0.7777777777777778,\"#fb9f3a\"],[0.8888888888888888,\"#fdca26\"],[1.0,\"#f0f921\"]]}],\"contourcarpet\":[{\"type\":\"contourcarpet\",\"colorbar\":{\"outlinewidth\":0,\"ticks\":\"\"}}],\"contour\":[{\"type\":\"contour\",\"colorbar\":{\"outlinewidth\":0,\"ticks\":\"\"},\"colorscale\":[[0.0,\"#0d0887\"],[0.1111111111111111,\"#46039f\"],[0.2222222222222222,\"#7201a8\"],[0.3333333333333333,\"#9c179e\"],[0.4444444444444444,\"#bd3786\"],[0.5555555555555556,\"#d8576b\"],[0.6666666666666666,\"#ed7953\"],[0.7777777777777778,\"#fb9f3a\"],[0.8888888888888888,\"#fdca26\"],[1.0,\"#f0f921\"]]}],\"surface\":[{\"type\":\"surface\",\"colorbar\":{\"outlinewidth\":0,\"ticks\":\"\"},\"colorscale\":[[0.0,\"#0d0887\"],[0.1111111111111111,\"#46039f\"],[0.2222222222222222,\"#7201a8\"],[0.3333333333333333,\"#9c179e\"],[0.4444444444444444,\"#bd3786\"],[0.5555555555555556,\"#d8576b\"],[0.6666666666666666,\"#ed7953\"],[0.7777777777777778,\"#fb9f3a\"],[0.8888888888888888,\"#fdca26\"],[1.0,\"#f0f921\"]]}],\"mesh3d\":[{\"type\":\"mesh3d\",\"colorbar\":{\"outlinewidth\":0,\"ticks\":\"\"}}],\"scatter\":[{\"fillpattern\":{\"fillmode\":\"overlay\",\"size\":10,\"solidity\":0.2},\"type\":\"scatter\"}],\"parcoords\":[{\"type\":\"parcoords\",\"line\":{\"colorbar\":{\"outlinewidth\":0,\"ticks\":\"\"}}}],\"scatterpolargl\":[{\"type\":\"scatterpolargl\",\"marker\":{\"colorbar\":{\"outlinewidth\":0,\"ticks\":\"\"}}}],\"bar\":[{\"error_x\":{\"color\":\"#2a3f5f\"},\"error_y\":{\"color\":\"#2a3f5f\"},\"marker\":{\"line\":{\"color\":\"#E5ECF6\",\"width\":0.5},\"pattern\":{\"fillmode\":\"overlay\",\"size\":10,\"solidity\":0.2}},\"type\":\"bar\"}],\"scattergeo\":[{\"type\":\"scattergeo\",\"marker\":{\"colorbar\":{\"outlinewidth\":0,\"ticks\":\"\"}}}],\"scatterpolar\":[{\"type\":\"scatterpolar\",\"marker\":{\"colorbar\":{\"outlinewidth\":0,\"ticks\":\"\"}}}],\"histogram\":[{\"marker\":{\"pattern\":{\"fillmode\":\"overlay\",\"size\":10,\"solidity\":0.2}},\"type\":\"histogram\"}],\"scattergl\":[{\"type\":\"scattergl\",\"marker\":{\"colorbar\":{\"outlinewidth\":0,\"ticks\":\"\"}}}],\"scatter3d\":[{\"type\":\"scatter3d\",\"line\":{\"colorbar\":{\"outlinewidth\":0,\"ticks\":\"\"}},\"marker\":{\"colorbar\":{\"outlinewidth\":0,\"ticks\":\"\"}}}],\"scattermapbox\":[{\"type\":\"scattermapbox\",\"marker\":{\"colorbar\":{\"outlinewidth\":0,\"ticks\":\"\"}}}],\"scatterternary\":[{\"type\":\"scatterternary\",\"marker\":{\"colorbar\":{\"outlinewidth\":0,\"ticks\":\"\"}}}],\"scattercarpet\":[{\"type\":\"scattercarpet\",\"marker\":{\"colorbar\":{\"outlinewidth\":0,\"ticks\":\"\"}}}],\"carpet\":[{\"aaxis\":{\"endlinecolor\":\"#2a3f5f\",\"gridcolor\":\"white\",\"linecolor\":\"white\",\"minorgridcolor\":\"white\",\"startlinecolor\":\"#2a3f5f\"},\"baxis\":{\"endlinecolor\":\"#2a3f5f\",\"gridcolor\":\"white\",\"linecolor\":\"white\",\"minorgridcolor\":\"white\",\"startlinecolor\":\"#2a3f5f\"},\"type\":\"carpet\"}],\"table\":[{\"cells\":{\"fill\":{\"color\":\"#EBF0F8\"},\"line\":{\"color\":\"white\"}},\"header\":{\"fill\":{\"color\":\"#C8D4E3\"},\"line\":{\"color\":\"white\"}},\"type\":\"table\"}],\"barpolar\":[{\"marker\":{\"line\":{\"color\":\"#E5ECF6\",\"width\":0.5},\"pattern\":{\"fillmode\":\"overlay\",\"size\":10,\"solidity\":0.2}},\"type\":\"barpolar\"}],\"pie\":[{\"automargin\":true,\"type\":\"pie\"}]},\"layout\":{\"autotypenumbers\":\"strict\",\"colorway\":[\"#636efa\",\"#EF553B\",\"#00cc96\",\"#ab63fa\",\"#FFA15A\",\"#19d3f3\",\"#FF6692\",\"#B6E880\",\"#FF97FF\",\"#FECB52\"],\"font\":{\"color\":\"#2a3f5f\"},\"hovermode\":\"closest\",\"hoverlabel\":{\"align\":\"left\"},\"paper_bgcolor\":\"white\",\"plot_bgcolor\":\"#E5ECF6\",\"polar\":{\"bgcolor\":\"#E5ECF6\",\"angularaxis\":{\"gridcolor\":\"white\",\"linecolor\":\"white\",\"ticks\":\"\"},\"radialaxis\":{\"gridcolor\":\"white\",\"linecolor\":\"white\",\"ticks\":\"\"}},\"ternary\":{\"bgcolor\":\"#E5ECF6\",\"aaxis\":{\"gridcolor\":\"white\",\"linecolor\":\"white\",\"ticks\":\"\"},\"baxis\":{\"gridcolor\":\"white\",\"linecolor\":\"white\",\"ticks\":\"\"},\"caxis\":{\"gridcolor\":\"white\",\"linecolor\":\"white\",\"ticks\":\"\"}},\"coloraxis\":{\"colorbar\":{\"outlinewidth\":0,\"ticks\":\"\"}},\"colorscale\":{\"sequential\":[[0.0,\"#0d0887\"],[0.1111111111111111,\"#46039f\"],[0.2222222222222222,\"#7201a8\"],[0.3333333333333333,\"#9c179e\"],[0.4444444444444444,\"#bd3786\"],[0.5555555555555556,\"#d8576b\"],[0.6666666666666666,\"#ed7953\"],[0.7777777777777778,\"#fb9f3a\"],[0.8888888888888888,\"#fdca26\"],[1.0,\"#f0f921\"]],\"sequentialminus\":[[0.0,\"#0d0887\"],[0.1111111111111111,\"#46039f\"],[0.2222222222222222,\"#7201a8\"],[0.3333333333333333,\"#9c179e\"],[0.4444444444444444,\"#bd3786\"],[0.5555555555555556,\"#d8576b\"],[0.6666666666666666,\"#ed7953\"],[0.7777777777777778,\"#fb9f3a\"],[0.8888888888888888,\"#fdca26\"],[1.0,\"#f0f921\"]],\"diverging\":[[0,\"#8e0152\"],[0.1,\"#c51b7d\"],[0.2,\"#de77ae\"],[0.3,\"#f1b6da\"],[0.4,\"#fde0ef\"],[0.5,\"#f7f7f7\"],[0.6,\"#e6f5d0\"],[0.7,\"#b8e186\"],[0.8,\"#7fbc41\"],[0.9,\"#4d9221\"],[1,\"#276419\"]]},\"xaxis\":{\"gridcolor\":\"white\",\"linecolor\":\"white\",\"ticks\":\"\",\"title\":{\"standoff\":15},\"zerolinecolor\":\"white\",\"automargin\":true,\"zerolinewidth\":2},\"yaxis\":{\"gridcolor\":\"white\",\"linecolor\":\"white\",\"ticks\":\"\",\"title\":{\"standoff\":15},\"zerolinecolor\":\"white\",\"automargin\":true,\"zerolinewidth\":2},\"scene\":{\"xaxis\":{\"backgroundcolor\":\"#E5ECF6\",\"gridcolor\":\"white\",\"linecolor\":\"white\",\"showbackground\":true,\"ticks\":\"\",\"zerolinecolor\":\"white\",\"gridwidth\":2},\"yaxis\":{\"backgroundcolor\":\"#E5ECF6\",\"gridcolor\":\"white\",\"linecolor\":\"white\",\"showbackground\":true,\"ticks\":\"\",\"zerolinecolor\":\"white\",\"gridwidth\":2},\"zaxis\":{\"backgroundcolor\":\"#E5ECF6\",\"gridcolor\":\"white\",\"linecolor\":\"white\",\"showbackground\":true,\"ticks\":\"\",\"zerolinecolor\":\"white\",\"gridwidth\":2}},\"shapedefaults\":{\"line\":{\"color\":\"#2a3f5f\"}},\"annotationdefaults\":{\"arrowcolor\":\"#2a3f5f\",\"arrowhead\":0,\"arrowwidth\":1},\"geo\":{\"bgcolor\":\"white\",\"landcolor\":\"#E5ECF6\",\"subunitcolor\":\"white\",\"showland\":true,\"showlakes\":true,\"lakecolor\":\"white\"},\"title\":{\"x\":0.05},\"mapbox\":{\"style\":\"light\"}}},\"xaxis\":{\"anchor\":\"y\",\"domain\":[0.0,1.0],\"title\":{\"text\":\"\"},\"showticklabels\":false},\"yaxis\":{\"anchor\":\"x\",\"domain\":[0.0,1.0],\"title\":{\"text\":\"Total_Numero_Cotistas\"}},\"legend\":{\"tracegroupgap\":0},\"margin\":{\"t\":60},\"shapes\":[{\"line\":{\"color\":\"Red\",\"dash\":\"dot\"},\"type\":\"line\",\"x0\":0,\"x1\":1,\"xref\":\"x domain\",\"y0\":10000.0,\"y1\":10000.0,\"yref\":\"y\"},{\"line\":{\"color\":\"Green\",\"dash\":\"dot\"},\"type\":\"line\",\"x0\":0,\"x1\":1,\"xref\":\"x domain\",\"y0\":335298.0,\"y1\":335298.0,\"yref\":\"y\"}],\"annotations\":[{\"font\":{\"color\":\"red\"},\"showarrow\":false,\"text\":\"\\u003cb\\u003e5.5\\u003c\\u002fb\\u003e\",\"x\":1,\"xanchor\":\"right\",\"xref\":\"x domain\",\"y\":10000.0,\"yanchor\":\"bottom\",\"yref\":\"y\"},{\"font\":{\"color\":\"green\"},\"showarrow\":false,\"text\":\"\\u003cb\\u003e10.0\\u003c\\u002fb\\u003e\",\"x\":1,\"xanchor\":\"right\",\"xref\":\"x domain\",\"y\":335298.0,\"yanchor\":\"bottom\",\"yref\":\"y\"}]},                        {\"responsive\": true}                    ).then(function(){\n",
       "                            \n",
       "var gd = document.getElementById('9bf20d50-99ac-48f0-89e5-7f5999106615');\n",
       "var x = new MutationObserver(function (mutations, observer) {{\n",
       "        var display = window.getComputedStyle(gd).display;\n",
       "        if (!display || display === 'none') {{\n",
       "            console.log([gd, 'removed!']);\n",
       "            Plotly.purge(gd);\n",
       "            observer.disconnect();\n",
       "        }}\n",
       "}});\n",
       "\n",
       "// Listen for the removal of the full notebook cells\n",
       "var notebookContainer = gd.closest('#notebook-container');\n",
       "if (notebookContainer) {{\n",
       "    x.observe(notebookContainer, {childList: true});\n",
       "}}\n",
       "\n",
       "// Listen for the clearing of the current output cell\n",
       "var outputEl = gd.closest('.output');\n",
       "if (outputEl) {{\n",
       "    x.observe(outputEl, {childList: true});\n",
       "}}\n",
       "\n",
       "                        })                };                });            </script>        </div>"
      ]
     },
     "metadata": {},
     "output_type": "display_data"
    }
   ],
   "source": [
    "grafico = px.scatter(df_current[['Ticker', 'Total_Numero_Cotistas']], x='Ticker', y='Total_Numero_Cotistas')\n",
    "grafico.add_scatter(x=x, y=y, marker=dict(size=12, line=dict(width=2, color='DarkSlateGrey')))\n",
    "grafico.add_hline(y=10000.0,row=1,col=1,line_dash=\"dot\",line_color=\"Red\", annotation={'text': '<b>5.5</b>',\n",
    "                                                                                    'font': {'color': 'red'}\n",
    "                                                                                   })\n",
    "grafico.add_hline(y=335298.0,row=1,col=1,line_dash=\"dot\",line_color=\"Green\", annotation={'text': '<b>10.0</b>',\n",
    "                                                                                    'font': {'color': 'green'}\n",
    "                                                                                   })\n",
    "grafico.update_xaxes(showticklabels=False)\n",
    "grafico.update_traces(showlegend=False)\n",
    "grafico.update_xaxes(title_text=\"\")\n",
    "grafico.update_layout(\n",
    "    #yaxis=dict(range=[10000, 500000])\n",
    "    #xaxis=dict(domain=[0.25, 0.75]),\n",
    "    #yaxis=dict(\n",
    "    #    title=\"Cotistas\",\n",
    "    #)\n",
    ")\n",
    "grafico"
   ]
  },
  {
   "cell_type": "code",
   "execution_count": 196,
   "id": "2c63e1b2",
   "metadata": {},
   "outputs": [
    {
     "data": {
      "text/html": [
       "<div>\n",
       "<style scoped>\n",
       "    .dataframe tbody tr th:only-of-type {\n",
       "        vertical-align: middle;\n",
       "    }\n",
       "\n",
       "    .dataframe tbody tr th {\n",
       "        vertical-align: top;\n",
       "    }\n",
       "\n",
       "    .dataframe thead th {\n",
       "        text-align: right;\n",
       "    }\n",
       "</style>\n",
       "<table border=\"1\" class=\"dataframe\">\n",
       "  <thead>\n",
       "    <tr style=\"text-align: right;\">\n",
       "      <th></th>\n",
       "      <th>Ticker</th>\n",
       "      <th>Total_Numero_Cotistas</th>\n",
       "    </tr>\n",
       "  </thead>\n",
       "  <tbody>\n",
       "    <tr>\n",
       "      <th>86</th>\n",
       "      <td>HOFC11</td>\n",
       "      <td>6727.0</td>\n",
       "    </tr>\n",
       "    <tr>\n",
       "      <th>93</th>\n",
       "      <td>IBCR11</td>\n",
       "      <td>4110.0</td>\n",
       "    </tr>\n",
       "    <tr>\n",
       "      <th>99</th>\n",
       "      <td>JPPA11</td>\n",
       "      <td>8811.0</td>\n",
       "    </tr>\n",
       "    <tr>\n",
       "      <th>165</th>\n",
       "      <td>RELG11</td>\n",
       "      <td>5983.0</td>\n",
       "    </tr>\n",
       "    <tr>\n",
       "      <th>172</th>\n",
       "      <td>RVBI11</td>\n",
       "      <td>12296.0</td>\n",
       "    </tr>\n",
       "    <tr>\n",
       "      <th>185</th>\n",
       "      <td>SPTW11</td>\n",
       "      <td>25394.0</td>\n",
       "    </tr>\n",
       "    <tr>\n",
       "      <th>189</th>\n",
       "      <td>TORD11</td>\n",
       "      <td>90908.0</td>\n",
       "    </tr>\n",
       "    <tr>\n",
       "      <th>197</th>\n",
       "      <td>VIFI11</td>\n",
       "      <td>6366.0</td>\n",
       "    </tr>\n",
       "  </tbody>\n",
       "</table>\n",
       "</div>"
      ],
      "text/plain": [
       "     Ticker  Total_Numero_Cotistas\n",
       "86   HOFC11                 6727.0\n",
       "93   IBCR11                 4110.0\n",
       "99   JPPA11                 8811.0\n",
       "165  RELG11                 5983.0\n",
       "172  RVBI11                12296.0\n",
       "185  SPTW11                25394.0\n",
       "189  TORD11                90908.0\n",
       "197  VIFI11                 6366.0"
      ]
     },
     "execution_count": 196,
     "metadata": {},
     "output_type": "execute_result"
    }
   ],
   "source": [
    "df_current.loc[df_current['Ticker'].isin(['RVBI11', 'HOFC11', 'VSLH11', 'JPPA11', 'SPTW11', 'IBCR11', 'RELG11', 'VIFI11', 'TORD11'])][['Ticker', 'Total_Numero_Cotistas']]"
   ]
  },
  {
   "cell_type": "code",
   "execution_count": 124,
   "id": "7eac0ee0",
   "metadata": {},
   "outputs": [
    {
     "data": {
      "application/vnd.plotly.v1+json": {
       "config": {
        "plotlyServerURL": "https://plot.ly"
       },
       "data": [
        {
         "alignmentgroup": "True",
         "hovertemplate": "x=%{x}<br>y=%{y}<extra></extra>",
         "legendgroup": "",
         "marker": {
          "color": "#636efa",
          "pattern": {
           "shape": ""
          }
         },
         "name": "",
         "offsetgroup": "",
         "orientation": "v",
         "showlegend": false,
         "textposition": "auto",
         "type": "bar",
         "x": [
          "evolucao_patrimonio",
          "pvp",
          "numero_cotista",
          "liquidity",
          "dividend_yield",
          "dividendo_cota",
          "vacancy",
          "default"
         ],
         "xaxis": "x",
         "y": [
          8.36,
          6.26,
          8.7,
          8.14,
          4.93,
          6.43,
          9.61,
          9.29
         ],
         "yaxis": "y"
        }
       ],
       "layout": {
        "barmode": "relative",
        "legend": {
         "tracegroupgap": 0
        },
        "margin": {
         "t": 60
        },
        "template": {
         "data": {
          "bar": [
           {
            "error_x": {
             "color": "#2a3f5f"
            },
            "error_y": {
             "color": "#2a3f5f"
            },
            "marker": {
             "line": {
              "color": "#E5ECF6",
              "width": 0.5
             },
             "pattern": {
              "fillmode": "overlay",
              "size": 10,
              "solidity": 0.2
             }
            },
            "type": "bar"
           }
          ],
          "barpolar": [
           {
            "marker": {
             "line": {
              "color": "#E5ECF6",
              "width": 0.5
             },
             "pattern": {
              "fillmode": "overlay",
              "size": 10,
              "solidity": 0.2
             }
            },
            "type": "barpolar"
           }
          ],
          "carpet": [
           {
            "aaxis": {
             "endlinecolor": "#2a3f5f",
             "gridcolor": "white",
             "linecolor": "white",
             "minorgridcolor": "white",
             "startlinecolor": "#2a3f5f"
            },
            "baxis": {
             "endlinecolor": "#2a3f5f",
             "gridcolor": "white",
             "linecolor": "white",
             "minorgridcolor": "white",
             "startlinecolor": "#2a3f5f"
            },
            "type": "carpet"
           }
          ],
          "choropleth": [
           {
            "colorbar": {
             "outlinewidth": 0,
             "ticks": ""
            },
            "type": "choropleth"
           }
          ],
          "contour": [
           {
            "colorbar": {
             "outlinewidth": 0,
             "ticks": ""
            },
            "colorscale": [
             [
              0,
              "#0d0887"
             ],
             [
              0.1111111111111111,
              "#46039f"
             ],
             [
              0.2222222222222222,
              "#7201a8"
             ],
             [
              0.3333333333333333,
              "#9c179e"
             ],
             [
              0.4444444444444444,
              "#bd3786"
             ],
             [
              0.5555555555555556,
              "#d8576b"
             ],
             [
              0.6666666666666666,
              "#ed7953"
             ],
             [
              0.7777777777777778,
              "#fb9f3a"
             ],
             [
              0.8888888888888888,
              "#fdca26"
             ],
             [
              1,
              "#f0f921"
             ]
            ],
            "type": "contour"
           }
          ],
          "contourcarpet": [
           {
            "colorbar": {
             "outlinewidth": 0,
             "ticks": ""
            },
            "type": "contourcarpet"
           }
          ],
          "heatmap": [
           {
            "colorbar": {
             "outlinewidth": 0,
             "ticks": ""
            },
            "colorscale": [
             [
              0,
              "#0d0887"
             ],
             [
              0.1111111111111111,
              "#46039f"
             ],
             [
              0.2222222222222222,
              "#7201a8"
             ],
             [
              0.3333333333333333,
              "#9c179e"
             ],
             [
              0.4444444444444444,
              "#bd3786"
             ],
             [
              0.5555555555555556,
              "#d8576b"
             ],
             [
              0.6666666666666666,
              "#ed7953"
             ],
             [
              0.7777777777777778,
              "#fb9f3a"
             ],
             [
              0.8888888888888888,
              "#fdca26"
             ],
             [
              1,
              "#f0f921"
             ]
            ],
            "type": "heatmap"
           }
          ],
          "heatmapgl": [
           {
            "colorbar": {
             "outlinewidth": 0,
             "ticks": ""
            },
            "colorscale": [
             [
              0,
              "#0d0887"
             ],
             [
              0.1111111111111111,
              "#46039f"
             ],
             [
              0.2222222222222222,
              "#7201a8"
             ],
             [
              0.3333333333333333,
              "#9c179e"
             ],
             [
              0.4444444444444444,
              "#bd3786"
             ],
             [
              0.5555555555555556,
              "#d8576b"
             ],
             [
              0.6666666666666666,
              "#ed7953"
             ],
             [
              0.7777777777777778,
              "#fb9f3a"
             ],
             [
              0.8888888888888888,
              "#fdca26"
             ],
             [
              1,
              "#f0f921"
             ]
            ],
            "type": "heatmapgl"
           }
          ],
          "histogram": [
           {
            "marker": {
             "pattern": {
              "fillmode": "overlay",
              "size": 10,
              "solidity": 0.2
             }
            },
            "type": "histogram"
           }
          ],
          "histogram2d": [
           {
            "colorbar": {
             "outlinewidth": 0,
             "ticks": ""
            },
            "colorscale": [
             [
              0,
              "#0d0887"
             ],
             [
              0.1111111111111111,
              "#46039f"
             ],
             [
              0.2222222222222222,
              "#7201a8"
             ],
             [
              0.3333333333333333,
              "#9c179e"
             ],
             [
              0.4444444444444444,
              "#bd3786"
             ],
             [
              0.5555555555555556,
              "#d8576b"
             ],
             [
              0.6666666666666666,
              "#ed7953"
             ],
             [
              0.7777777777777778,
              "#fb9f3a"
             ],
             [
              0.8888888888888888,
              "#fdca26"
             ],
             [
              1,
              "#f0f921"
             ]
            ],
            "type": "histogram2d"
           }
          ],
          "histogram2dcontour": [
           {
            "colorbar": {
             "outlinewidth": 0,
             "ticks": ""
            },
            "colorscale": [
             [
              0,
              "#0d0887"
             ],
             [
              0.1111111111111111,
              "#46039f"
             ],
             [
              0.2222222222222222,
              "#7201a8"
             ],
             [
              0.3333333333333333,
              "#9c179e"
             ],
             [
              0.4444444444444444,
              "#bd3786"
             ],
             [
              0.5555555555555556,
              "#d8576b"
             ],
             [
              0.6666666666666666,
              "#ed7953"
             ],
             [
              0.7777777777777778,
              "#fb9f3a"
             ],
             [
              0.8888888888888888,
              "#fdca26"
             ],
             [
              1,
              "#f0f921"
             ]
            ],
            "type": "histogram2dcontour"
           }
          ],
          "mesh3d": [
           {
            "colorbar": {
             "outlinewidth": 0,
             "ticks": ""
            },
            "type": "mesh3d"
           }
          ],
          "parcoords": [
           {
            "line": {
             "colorbar": {
              "outlinewidth": 0,
              "ticks": ""
             }
            },
            "type": "parcoords"
           }
          ],
          "pie": [
           {
            "automargin": true,
            "type": "pie"
           }
          ],
          "scatter": [
           {
            "fillpattern": {
             "fillmode": "overlay",
             "size": 10,
             "solidity": 0.2
            },
            "type": "scatter"
           }
          ],
          "scatter3d": [
           {
            "line": {
             "colorbar": {
              "outlinewidth": 0,
              "ticks": ""
             }
            },
            "marker": {
             "colorbar": {
              "outlinewidth": 0,
              "ticks": ""
             }
            },
            "type": "scatter3d"
           }
          ],
          "scattercarpet": [
           {
            "marker": {
             "colorbar": {
              "outlinewidth": 0,
              "ticks": ""
             }
            },
            "type": "scattercarpet"
           }
          ],
          "scattergeo": [
           {
            "marker": {
             "colorbar": {
              "outlinewidth": 0,
              "ticks": ""
             }
            },
            "type": "scattergeo"
           }
          ],
          "scattergl": [
           {
            "marker": {
             "colorbar": {
              "outlinewidth": 0,
              "ticks": ""
             }
            },
            "type": "scattergl"
           }
          ],
          "scattermapbox": [
           {
            "marker": {
             "colorbar": {
              "outlinewidth": 0,
              "ticks": ""
             }
            },
            "type": "scattermapbox"
           }
          ],
          "scatterpolar": [
           {
            "marker": {
             "colorbar": {
              "outlinewidth": 0,
              "ticks": ""
             }
            },
            "type": "scatterpolar"
           }
          ],
          "scatterpolargl": [
           {
            "marker": {
             "colorbar": {
              "outlinewidth": 0,
              "ticks": ""
             }
            },
            "type": "scatterpolargl"
           }
          ],
          "scatterternary": [
           {
            "marker": {
             "colorbar": {
              "outlinewidth": 0,
              "ticks": ""
             }
            },
            "type": "scatterternary"
           }
          ],
          "surface": [
           {
            "colorbar": {
             "outlinewidth": 0,
             "ticks": ""
            },
            "colorscale": [
             [
              0,
              "#0d0887"
             ],
             [
              0.1111111111111111,
              "#46039f"
             ],
             [
              0.2222222222222222,
              "#7201a8"
             ],
             [
              0.3333333333333333,
              "#9c179e"
             ],
             [
              0.4444444444444444,
              "#bd3786"
             ],
             [
              0.5555555555555556,
              "#d8576b"
             ],
             [
              0.6666666666666666,
              "#ed7953"
             ],
             [
              0.7777777777777778,
              "#fb9f3a"
             ],
             [
              0.8888888888888888,
              "#fdca26"
             ],
             [
              1,
              "#f0f921"
             ]
            ],
            "type": "surface"
           }
          ],
          "table": [
           {
            "cells": {
             "fill": {
              "color": "#EBF0F8"
             },
             "line": {
              "color": "white"
             }
            },
            "header": {
             "fill": {
              "color": "#C8D4E3"
             },
             "line": {
              "color": "white"
             }
            },
            "type": "table"
           }
          ]
         },
         "layout": {
          "annotationdefaults": {
           "arrowcolor": "#2a3f5f",
           "arrowhead": 0,
           "arrowwidth": 1
          },
          "autotypenumbers": "strict",
          "coloraxis": {
           "colorbar": {
            "outlinewidth": 0,
            "ticks": ""
           }
          },
          "colorscale": {
           "diverging": [
            [
             0,
             "#8e0152"
            ],
            [
             0.1,
             "#c51b7d"
            ],
            [
             0.2,
             "#de77ae"
            ],
            [
             0.3,
             "#f1b6da"
            ],
            [
             0.4,
             "#fde0ef"
            ],
            [
             0.5,
             "#f7f7f7"
            ],
            [
             0.6,
             "#e6f5d0"
            ],
            [
             0.7,
             "#b8e186"
            ],
            [
             0.8,
             "#7fbc41"
            ],
            [
             0.9,
             "#4d9221"
            ],
            [
             1,
             "#276419"
            ]
           ],
           "sequential": [
            [
             0,
             "#0d0887"
            ],
            [
             0.1111111111111111,
             "#46039f"
            ],
            [
             0.2222222222222222,
             "#7201a8"
            ],
            [
             0.3333333333333333,
             "#9c179e"
            ],
            [
             0.4444444444444444,
             "#bd3786"
            ],
            [
             0.5555555555555556,
             "#d8576b"
            ],
            [
             0.6666666666666666,
             "#ed7953"
            ],
            [
             0.7777777777777778,
             "#fb9f3a"
            ],
            [
             0.8888888888888888,
             "#fdca26"
            ],
            [
             1,
             "#f0f921"
            ]
           ],
           "sequentialminus": [
            [
             0,
             "#0d0887"
            ],
            [
             0.1111111111111111,
             "#46039f"
            ],
            [
             0.2222222222222222,
             "#7201a8"
            ],
            [
             0.3333333333333333,
             "#9c179e"
            ],
            [
             0.4444444444444444,
             "#bd3786"
            ],
            [
             0.5555555555555556,
             "#d8576b"
            ],
            [
             0.6666666666666666,
             "#ed7953"
            ],
            [
             0.7777777777777778,
             "#fb9f3a"
            ],
            [
             0.8888888888888888,
             "#fdca26"
            ],
            [
             1,
             "#f0f921"
            ]
           ]
          },
          "colorway": [
           "#636efa",
           "#EF553B",
           "#00cc96",
           "#ab63fa",
           "#FFA15A",
           "#19d3f3",
           "#FF6692",
           "#B6E880",
           "#FF97FF",
           "#FECB52"
          ],
          "font": {
           "color": "#2a3f5f"
          },
          "geo": {
           "bgcolor": "white",
           "lakecolor": "white",
           "landcolor": "#E5ECF6",
           "showlakes": true,
           "showland": true,
           "subunitcolor": "white"
          },
          "hoverlabel": {
           "align": "left"
          },
          "hovermode": "closest",
          "mapbox": {
           "style": "light"
          },
          "paper_bgcolor": "white",
          "plot_bgcolor": "#E5ECF6",
          "polar": {
           "angularaxis": {
            "gridcolor": "white",
            "linecolor": "white",
            "ticks": ""
           },
           "bgcolor": "#E5ECF6",
           "radialaxis": {
            "gridcolor": "white",
            "linecolor": "white",
            "ticks": ""
           }
          },
          "scene": {
           "xaxis": {
            "backgroundcolor": "#E5ECF6",
            "gridcolor": "white",
            "gridwidth": 2,
            "linecolor": "white",
            "showbackground": true,
            "ticks": "",
            "zerolinecolor": "white"
           },
           "yaxis": {
            "backgroundcolor": "#E5ECF6",
            "gridcolor": "white",
            "gridwidth": 2,
            "linecolor": "white",
            "showbackground": true,
            "ticks": "",
            "zerolinecolor": "white"
           },
           "zaxis": {
            "backgroundcolor": "#E5ECF6",
            "gridcolor": "white",
            "gridwidth": 2,
            "linecolor": "white",
            "showbackground": true,
            "ticks": "",
            "zerolinecolor": "white"
           }
          },
          "shapedefaults": {
           "line": {
            "color": "#2a3f5f"
           }
          },
          "ternary": {
           "aaxis": {
            "gridcolor": "white",
            "linecolor": "white",
            "ticks": ""
           },
           "baxis": {
            "gridcolor": "white",
            "linecolor": "white",
            "ticks": ""
           },
           "bgcolor": "#E5ECF6",
           "caxis": {
            "gridcolor": "white",
            "linecolor": "white",
            "ticks": ""
           }
          },
          "title": {
           "x": 0.05
          },
          "xaxis": {
           "automargin": true,
           "gridcolor": "white",
           "linecolor": "white",
           "ticks": "",
           "title": {
            "standoff": 15
           },
           "zerolinecolor": "white",
           "zerolinewidth": 2
          },
          "yaxis": {
           "automargin": true,
           "gridcolor": "white",
           "linecolor": "white",
           "ticks": "",
           "title": {
            "standoff": 15
           },
           "zerolinecolor": "white",
           "zerolinewidth": 2
          }
         }
        },
        "xaxis": {
         "anchor": "y",
         "domain": [
          0,
          1
         ],
         "tickangle": -30,
         "title": {
          "text": "x"
         }
        },
        "yaxis": {
         "anchor": "x",
         "domain": [
          0,
          1
         ],
         "title": {
          "text": "y"
         }
        }
       }
      },
      "text/html": [
       "<div>                            <div id=\"4fffa284-fd2a-4c2c-a793-17cccd246a14\" class=\"plotly-graph-div\" style=\"height:525px; width:100%;\"></div>            <script type=\"text/javascript\">                require([\"plotly\"], function(Plotly) {                    window.PLOTLYENV=window.PLOTLYENV || {};                                    if (document.getElementById(\"4fffa284-fd2a-4c2c-a793-17cccd246a14\")) {                    Plotly.newPlot(                        \"4fffa284-fd2a-4c2c-a793-17cccd246a14\",                        [{\"alignmentgroup\":\"True\",\"hovertemplate\":\"x=%{x}\\u003cbr\\u003ey=%{y}\\u003cextra\\u003e\\u003c\\u002fextra\\u003e\",\"legendgroup\":\"\",\"marker\":{\"color\":\"#636efa\",\"pattern\":{\"shape\":\"\"}},\"name\":\"\",\"offsetgroup\":\"\",\"orientation\":\"v\",\"showlegend\":false,\"textposition\":\"auto\",\"x\":[\"evolucao_patrimonio\",\"pvp\",\"numero_cotista\",\"liquidity\",\"dividend_yield\",\"dividendo_cota\",\"vacancy\",\"default\"],\"xaxis\":\"x\",\"y\":[8.36,6.26,8.7,8.14,4.93,6.43,9.61,9.29],\"yaxis\":\"y\",\"type\":\"bar\"}],                        {\"template\":{\"data\":{\"histogram2dcontour\":[{\"type\":\"histogram2dcontour\",\"colorbar\":{\"outlinewidth\":0,\"ticks\":\"\"},\"colorscale\":[[0.0,\"#0d0887\"],[0.1111111111111111,\"#46039f\"],[0.2222222222222222,\"#7201a8\"],[0.3333333333333333,\"#9c179e\"],[0.4444444444444444,\"#bd3786\"],[0.5555555555555556,\"#d8576b\"],[0.6666666666666666,\"#ed7953\"],[0.7777777777777778,\"#fb9f3a\"],[0.8888888888888888,\"#fdca26\"],[1.0,\"#f0f921\"]]}],\"choropleth\":[{\"type\":\"choropleth\",\"colorbar\":{\"outlinewidth\":0,\"ticks\":\"\"}}],\"histogram2d\":[{\"type\":\"histogram2d\",\"colorbar\":{\"outlinewidth\":0,\"ticks\":\"\"},\"colorscale\":[[0.0,\"#0d0887\"],[0.1111111111111111,\"#46039f\"],[0.2222222222222222,\"#7201a8\"],[0.3333333333333333,\"#9c179e\"],[0.4444444444444444,\"#bd3786\"],[0.5555555555555556,\"#d8576b\"],[0.6666666666666666,\"#ed7953\"],[0.7777777777777778,\"#fb9f3a\"],[0.8888888888888888,\"#fdca26\"],[1.0,\"#f0f921\"]]}],\"heatmap\":[{\"type\":\"heatmap\",\"colorbar\":{\"outlinewidth\":0,\"ticks\":\"\"},\"colorscale\":[[0.0,\"#0d0887\"],[0.1111111111111111,\"#46039f\"],[0.2222222222222222,\"#7201a8\"],[0.3333333333333333,\"#9c179e\"],[0.4444444444444444,\"#bd3786\"],[0.5555555555555556,\"#d8576b\"],[0.6666666666666666,\"#ed7953\"],[0.7777777777777778,\"#fb9f3a\"],[0.8888888888888888,\"#fdca26\"],[1.0,\"#f0f921\"]]}],\"heatmapgl\":[{\"type\":\"heatmapgl\",\"colorbar\":{\"outlinewidth\":0,\"ticks\":\"\"},\"colorscale\":[[0.0,\"#0d0887\"],[0.1111111111111111,\"#46039f\"],[0.2222222222222222,\"#7201a8\"],[0.3333333333333333,\"#9c179e\"],[0.4444444444444444,\"#bd3786\"],[0.5555555555555556,\"#d8576b\"],[0.6666666666666666,\"#ed7953\"],[0.7777777777777778,\"#fb9f3a\"],[0.8888888888888888,\"#fdca26\"],[1.0,\"#f0f921\"]]}],\"contourcarpet\":[{\"type\":\"contourcarpet\",\"colorbar\":{\"outlinewidth\":0,\"ticks\":\"\"}}],\"contour\":[{\"type\":\"contour\",\"colorbar\":{\"outlinewidth\":0,\"ticks\":\"\"},\"colorscale\":[[0.0,\"#0d0887\"],[0.1111111111111111,\"#46039f\"],[0.2222222222222222,\"#7201a8\"],[0.3333333333333333,\"#9c179e\"],[0.4444444444444444,\"#bd3786\"],[0.5555555555555556,\"#d8576b\"],[0.6666666666666666,\"#ed7953\"],[0.7777777777777778,\"#fb9f3a\"],[0.8888888888888888,\"#fdca26\"],[1.0,\"#f0f921\"]]}],\"surface\":[{\"type\":\"surface\",\"colorbar\":{\"outlinewidth\":0,\"ticks\":\"\"},\"colorscale\":[[0.0,\"#0d0887\"],[0.1111111111111111,\"#46039f\"],[0.2222222222222222,\"#7201a8\"],[0.3333333333333333,\"#9c179e\"],[0.4444444444444444,\"#bd3786\"],[0.5555555555555556,\"#d8576b\"],[0.6666666666666666,\"#ed7953\"],[0.7777777777777778,\"#fb9f3a\"],[0.8888888888888888,\"#fdca26\"],[1.0,\"#f0f921\"]]}],\"mesh3d\":[{\"type\":\"mesh3d\",\"colorbar\":{\"outlinewidth\":0,\"ticks\":\"\"}}],\"scatter\":[{\"fillpattern\":{\"fillmode\":\"overlay\",\"size\":10,\"solidity\":0.2},\"type\":\"scatter\"}],\"parcoords\":[{\"type\":\"parcoords\",\"line\":{\"colorbar\":{\"outlinewidth\":0,\"ticks\":\"\"}}}],\"scatterpolargl\":[{\"type\":\"scatterpolargl\",\"marker\":{\"colorbar\":{\"outlinewidth\":0,\"ticks\":\"\"}}}],\"bar\":[{\"error_x\":{\"color\":\"#2a3f5f\"},\"error_y\":{\"color\":\"#2a3f5f\"},\"marker\":{\"line\":{\"color\":\"#E5ECF6\",\"width\":0.5},\"pattern\":{\"fillmode\":\"overlay\",\"size\":10,\"solidity\":0.2}},\"type\":\"bar\"}],\"scattergeo\":[{\"type\":\"scattergeo\",\"marker\":{\"colorbar\":{\"outlinewidth\":0,\"ticks\":\"\"}}}],\"scatterpolar\":[{\"type\":\"scatterpolar\",\"marker\":{\"colorbar\":{\"outlinewidth\":0,\"ticks\":\"\"}}}],\"histogram\":[{\"marker\":{\"pattern\":{\"fillmode\":\"overlay\",\"size\":10,\"solidity\":0.2}},\"type\":\"histogram\"}],\"scattergl\":[{\"type\":\"scattergl\",\"marker\":{\"colorbar\":{\"outlinewidth\":0,\"ticks\":\"\"}}}],\"scatter3d\":[{\"type\":\"scatter3d\",\"line\":{\"colorbar\":{\"outlinewidth\":0,\"ticks\":\"\"}},\"marker\":{\"colorbar\":{\"outlinewidth\":0,\"ticks\":\"\"}}}],\"scattermapbox\":[{\"type\":\"scattermapbox\",\"marker\":{\"colorbar\":{\"outlinewidth\":0,\"ticks\":\"\"}}}],\"scatterternary\":[{\"type\":\"scatterternary\",\"marker\":{\"colorbar\":{\"outlinewidth\":0,\"ticks\":\"\"}}}],\"scattercarpet\":[{\"type\":\"scattercarpet\",\"marker\":{\"colorbar\":{\"outlinewidth\":0,\"ticks\":\"\"}}}],\"carpet\":[{\"aaxis\":{\"endlinecolor\":\"#2a3f5f\",\"gridcolor\":\"white\",\"linecolor\":\"white\",\"minorgridcolor\":\"white\",\"startlinecolor\":\"#2a3f5f\"},\"baxis\":{\"endlinecolor\":\"#2a3f5f\",\"gridcolor\":\"white\",\"linecolor\":\"white\",\"minorgridcolor\":\"white\",\"startlinecolor\":\"#2a3f5f\"},\"type\":\"carpet\"}],\"table\":[{\"cells\":{\"fill\":{\"color\":\"#EBF0F8\"},\"line\":{\"color\":\"white\"}},\"header\":{\"fill\":{\"color\":\"#C8D4E3\"},\"line\":{\"color\":\"white\"}},\"type\":\"table\"}],\"barpolar\":[{\"marker\":{\"line\":{\"color\":\"#E5ECF6\",\"width\":0.5},\"pattern\":{\"fillmode\":\"overlay\",\"size\":10,\"solidity\":0.2}},\"type\":\"barpolar\"}],\"pie\":[{\"automargin\":true,\"type\":\"pie\"}]},\"layout\":{\"autotypenumbers\":\"strict\",\"colorway\":[\"#636efa\",\"#EF553B\",\"#00cc96\",\"#ab63fa\",\"#FFA15A\",\"#19d3f3\",\"#FF6692\",\"#B6E880\",\"#FF97FF\",\"#FECB52\"],\"font\":{\"color\":\"#2a3f5f\"},\"hovermode\":\"closest\",\"hoverlabel\":{\"align\":\"left\"},\"paper_bgcolor\":\"white\",\"plot_bgcolor\":\"#E5ECF6\",\"polar\":{\"bgcolor\":\"#E5ECF6\",\"angularaxis\":{\"gridcolor\":\"white\",\"linecolor\":\"white\",\"ticks\":\"\"},\"radialaxis\":{\"gridcolor\":\"white\",\"linecolor\":\"white\",\"ticks\":\"\"}},\"ternary\":{\"bgcolor\":\"#E5ECF6\",\"aaxis\":{\"gridcolor\":\"white\",\"linecolor\":\"white\",\"ticks\":\"\"},\"baxis\":{\"gridcolor\":\"white\",\"linecolor\":\"white\",\"ticks\":\"\"},\"caxis\":{\"gridcolor\":\"white\",\"linecolor\":\"white\",\"ticks\":\"\"}},\"coloraxis\":{\"colorbar\":{\"outlinewidth\":0,\"ticks\":\"\"}},\"colorscale\":{\"sequential\":[[0.0,\"#0d0887\"],[0.1111111111111111,\"#46039f\"],[0.2222222222222222,\"#7201a8\"],[0.3333333333333333,\"#9c179e\"],[0.4444444444444444,\"#bd3786\"],[0.5555555555555556,\"#d8576b\"],[0.6666666666666666,\"#ed7953\"],[0.7777777777777778,\"#fb9f3a\"],[0.8888888888888888,\"#fdca26\"],[1.0,\"#f0f921\"]],\"sequentialminus\":[[0.0,\"#0d0887\"],[0.1111111111111111,\"#46039f\"],[0.2222222222222222,\"#7201a8\"],[0.3333333333333333,\"#9c179e\"],[0.4444444444444444,\"#bd3786\"],[0.5555555555555556,\"#d8576b\"],[0.6666666666666666,\"#ed7953\"],[0.7777777777777778,\"#fb9f3a\"],[0.8888888888888888,\"#fdca26\"],[1.0,\"#f0f921\"]],\"diverging\":[[0,\"#8e0152\"],[0.1,\"#c51b7d\"],[0.2,\"#de77ae\"],[0.3,\"#f1b6da\"],[0.4,\"#fde0ef\"],[0.5,\"#f7f7f7\"],[0.6,\"#e6f5d0\"],[0.7,\"#b8e186\"],[0.8,\"#7fbc41\"],[0.9,\"#4d9221\"],[1,\"#276419\"]]},\"xaxis\":{\"gridcolor\":\"white\",\"linecolor\":\"white\",\"ticks\":\"\",\"title\":{\"standoff\":15},\"zerolinecolor\":\"white\",\"automargin\":true,\"zerolinewidth\":2},\"yaxis\":{\"gridcolor\":\"white\",\"linecolor\":\"white\",\"ticks\":\"\",\"title\":{\"standoff\":15},\"zerolinecolor\":\"white\",\"automargin\":true,\"zerolinewidth\":2},\"scene\":{\"xaxis\":{\"backgroundcolor\":\"#E5ECF6\",\"gridcolor\":\"white\",\"linecolor\":\"white\",\"showbackground\":true,\"ticks\":\"\",\"zerolinecolor\":\"white\",\"gridwidth\":2},\"yaxis\":{\"backgroundcolor\":\"#E5ECF6\",\"gridcolor\":\"white\",\"linecolor\":\"white\",\"showbackground\":true,\"ticks\":\"\",\"zerolinecolor\":\"white\",\"gridwidth\":2},\"zaxis\":{\"backgroundcolor\":\"#E5ECF6\",\"gridcolor\":\"white\",\"linecolor\":\"white\",\"showbackground\":true,\"ticks\":\"\",\"zerolinecolor\":\"white\",\"gridwidth\":2}},\"shapedefaults\":{\"line\":{\"color\":\"#2a3f5f\"}},\"annotationdefaults\":{\"arrowcolor\":\"#2a3f5f\",\"arrowhead\":0,\"arrowwidth\":1},\"geo\":{\"bgcolor\":\"white\",\"landcolor\":\"#E5ECF6\",\"subunitcolor\":\"white\",\"showland\":true,\"showlakes\":true,\"lakecolor\":\"white\"},\"title\":{\"x\":0.05},\"mapbox\":{\"style\":\"light\"}}},\"xaxis\":{\"anchor\":\"y\",\"domain\":[0.0,1.0],\"title\":{\"text\":\"x\"},\"tickangle\":-30},\"yaxis\":{\"anchor\":\"x\",\"domain\":[0.0,1.0],\"title\":{\"text\":\"y\"}},\"legend\":{\"tracegroupgap\":0},\"margin\":{\"t\":60},\"barmode\":\"relative\"},                        {\"responsive\": true}                    ).then(function(){\n",
       "                            \n",
       "var gd = document.getElementById('4fffa284-fd2a-4c2c-a793-17cccd246a14');\n",
       "var x = new MutationObserver(function (mutations, observer) {{\n",
       "        var display = window.getComputedStyle(gd).display;\n",
       "        if (!display || display === 'none') {{\n",
       "            console.log([gd, 'removed!']);\n",
       "            Plotly.purge(gd);\n",
       "            observer.disconnect();\n",
       "        }}\n",
       "}});\n",
       "\n",
       "// Listen for the removal of the full notebook cells\n",
       "var notebookContainer = gd.closest('#notebook-container');\n",
       "if (notebookContainer) {{\n",
       "    x.observe(notebookContainer, {childList: true});\n",
       "}}\n",
       "\n",
       "// Listen for the clearing of the current output cell\n",
       "var outputEl = gd.closest('.output');\n",
       "if (outputEl) {{\n",
       "    x.observe(outputEl, {childList: true});\n",
       "}}\n",
       "\n",
       "                        })                };                });            </script>        </div>"
      ]
     },
     "metadata": {},
     "output_type": "display_data"
    }
   ],
   "source": [
    "df_temp = df_dash_filtered[df_dash_filtered['Ticker'] == 'XPML11'][columns_grade_metrics].T\n",
    "x_values = [elemento.replace(\"Grade_\", \"\") for elemento in df_temp.index]\n",
    "y_values = df_temp.values.ravel()\n",
    "\n",
    "fig_bar_plotly = px.bar(x=x_values, y=y_values).update_xaxes(tickangle=330)\n",
    "#str(fig_bar_plotly.data)\n",
    "fig_bar_plotly.show()"
   ]
  },
  {
   "cell_type": "code",
   "execution_count": null,
   "id": "c28e80b4",
   "metadata": {},
   "outputs": [],
   "source": [
    "def plot_ticker_grades(ticker):\n",
    "    global df_dash_filtered\n",
    "    \n",
    "    df_temp = df_dash_filtered[df_dash_filtered['Ticker'] == ticker][columns_grade_metrics].T\n",
    "    x_values = [elemento.replace(\"Grade_\", \"\") for elemento in df_temp.index]\n",
    "    y_values = df_temp.values.ravel()\n",
    "\n",
    "    fig_bar_plotly = px.bar(x=x_values, y=y_values).update_xaxes(tickangle=330)\n",
    "\n",
    "    return fig_bar_plotly"
   ]
  },
  {
   "cell_type": "code",
   "execution_count": 175,
   "id": "940f9765",
   "metadata": {},
   "outputs": [
    {
     "data": {
      "text/html": [
       "<div>\n",
       "<style scoped>\n",
       "    .dataframe tbody tr th:only-of-type {\n",
       "        vertical-align: middle;\n",
       "    }\n",
       "\n",
       "    .dataframe tbody tr th {\n",
       "        vertical-align: top;\n",
       "    }\n",
       "\n",
       "    .dataframe thead th {\n",
       "        text-align: right;\n",
       "    }\n",
       "</style>\n",
       "<table border=\"1\" class=\"dataframe\">\n",
       "  <thead>\n",
       "    <tr style=\"text-align: right;\">\n",
       "      <th></th>\n",
       "      <th>DataBase</th>\n",
       "      <th>ValorProvento</th>\n",
       "    </tr>\n",
       "  </thead>\n",
       "  <tbody>\n",
       "    <tr>\n",
       "      <th>486</th>\n",
       "      <td>2023-07-18</td>\n",
       "      <td>256.328699</td>\n",
       "    </tr>\n",
       "  </tbody>\n",
       "</table>\n",
       "</div>"
      ],
      "text/plain": [
       "      DataBase  ValorProvento\n",
       "486 2023-07-18     256.328699"
      ]
     },
     "execution_count": 175,
     "metadata": {},
     "output_type": "execute_result"
    }
   ],
   "source": [
    "#df_cvm_dividend.isnull().sum()\n",
    "#df_cvm_dividend[(df_cvm_dividend['CodNegociacaoCota'] == 'XPML11') & (df_cvm_dividend['DataBase'] = datetime(2024,2,16))]\n",
    "#df_cvm_dividend[(df_cvm_dividend['DataBase'] == datetime(2024,2,16))]\n",
    "#df_cvm_dividend[(df_cvm_dividend['CodNegociacao'] == 'ASRF11')][['DataBase', 'ValorProvento']]\n",
    "#df_cvm_dividend[(df_cvm_dividend['CodNegociacaoCota'].isnull() == True) & (df_cvm_dividend['CodNegociacao'].isnull() == True)]\n",
    "\n",
    "#folder = f'{path_cvm_dividend}'\n",
    "#file = os.path.join(folder, 'XPML11_2024_2_16_v1_0.xml')\n",
    "#file = os.path.join(folder, 'aaa.xml')\n",
    "#file = os.path.join(folder, 'ABCP11_2016_12_29_v1_0.xml')\n",
    "#file = os.path.join(folder, 'LFTT11_2023_4_26_v2_0.xml')\n",
    "#file = os.path.join(folder, 'RSPD11_2022_12_29_v1_0.xml')\n",
    "#rows = get_cvm_dividend_list(file)\n",
    "#rows"
   ]
  },
  {
   "cell_type": "code",
   "execution_count": 37,
   "id": "9db059c7",
   "metadata": {},
   "outputs": [
    {
     "data": {
      "text/plain": [
       "datetime.datetime(2021, 10, 1, 0, 0)"
      ]
     },
     "execution_count": 37,
     "metadata": {},
     "output_type": "execute_result"
    }
   ],
   "source": [
    "# def get_number_from_date(date):\n",
    "#     date_year = date.year\n",
    "#     date_month = date.month\n",
    "#     number = (date_year-2000) * 12 + date_month\n",
    "#     return number\n",
    "\n",
    "# def get_date_from_number(number):\n",
    "#     date_year = (number-1)/12\n",
    "#     mod_year = date_year % int(date_year)\n",
    "#     date_month = math.ceil(mod_year * 12 + 1)\n",
    "#     date = datetime(int(date_year+2000), date_month, 1)\n",
    "#     return date\n",
    "\n",
    "# date = datetime(2021,10,1)\n",
    "# number = get_number_from_date(date)\n",
    "# get_date_from_number(number)"
   ]
  },
  {
   "cell_type": "code",
   "execution_count": 142,
   "id": "9e844a46",
   "metadata": {},
   "outputs": [
    {
     "data": {
      "text/html": [
       "<div>\n",
       "<style scoped>\n",
       "    .dataframe tbody tr th:only-of-type {\n",
       "        vertical-align: middle;\n",
       "    }\n",
       "\n",
       "    .dataframe tbody tr th {\n",
       "        vertical-align: top;\n",
       "    }\n",
       "\n",
       "    .dataframe thead th {\n",
       "        text-align: right;\n",
       "    }\n",
       "</style>\n",
       "<table border=\"1\" class=\"dataframe\">\n",
       "  <thead>\n",
       "    <tr style=\"text-align: right;\">\n",
       "      <th></th>\n",
       "      <th>Ticker</th>\n",
       "      <th>Data_Referencia</th>\n",
       "      <th>Rendimento</th>\n",
       "      <th>Dividend_Mean6M</th>\n",
       "    </tr>\n",
       "  </thead>\n",
       "  <tbody>\n",
       "    <tr>\n",
       "      <th>10962</th>\n",
       "      <td>XPML11</td>\n",
       "      <td>2018-02-01</td>\n",
       "      <td>0.512398</td>\n",
       "      <td>NaN</td>\n",
       "    </tr>\n",
       "    <tr>\n",
       "      <th>10963</th>\n",
       "      <td>XPML11</td>\n",
       "      <td>2018-03-01</td>\n",
       "      <td>0.495126</td>\n",
       "      <td>NaN</td>\n",
       "    </tr>\n",
       "    <tr>\n",
       "      <th>10964</th>\n",
       "      <td>XPML11</td>\n",
       "      <td>2018-04-01</td>\n",
       "      <td>0.502850</td>\n",
       "      <td>NaN</td>\n",
       "    </tr>\n",
       "    <tr>\n",
       "      <th>10965</th>\n",
       "      <td>XPML11</td>\n",
       "      <td>2018-05-01</td>\n",
       "      <td>0.526895</td>\n",
       "      <td>NaN</td>\n",
       "    </tr>\n",
       "    <tr>\n",
       "      <th>10966</th>\n",
       "      <td>XPML11</td>\n",
       "      <td>2018-06-01</td>\n",
       "      <td>0.495511</td>\n",
       "      <td>NaN</td>\n",
       "    </tr>\n",
       "    <tr>\n",
       "      <th>...</th>\n",
       "      <td>...</td>\n",
       "      <td>...</td>\n",
       "      <td>...</td>\n",
       "      <td>...</td>\n",
       "    </tr>\n",
       "    <tr>\n",
       "      <th>11030</th>\n",
       "      <td>XPML11</td>\n",
       "      <td>2023-10-01</td>\n",
       "      <td>0.850000</td>\n",
       "      <td>0.831667</td>\n",
       "    </tr>\n",
       "    <tr>\n",
       "      <th>11031</th>\n",
       "      <td>XPML11</td>\n",
       "      <td>2023-11-01</td>\n",
       "      <td>0.850000</td>\n",
       "      <td>0.838333</td>\n",
       "    </tr>\n",
       "    <tr>\n",
       "      <th>11032</th>\n",
       "      <td>XPML11</td>\n",
       "      <td>2023-12-01</td>\n",
       "      <td>0.900000</td>\n",
       "      <td>0.853333</td>\n",
       "    </tr>\n",
       "    <tr>\n",
       "      <th>11033</th>\n",
       "      <td>XPML11</td>\n",
       "      <td>2024-01-01</td>\n",
       "      <td>0.920000</td>\n",
       "      <td>0.868333</td>\n",
       "    </tr>\n",
       "    <tr>\n",
       "      <th>11034</th>\n",
       "      <td>XPML11</td>\n",
       "      <td>2024-02-01</td>\n",
       "      <td>0.900000</td>\n",
       "      <td>0.878333</td>\n",
       "    </tr>\n",
       "  </tbody>\n",
       "</table>\n",
       "<p>73 rows × 4 columns</p>\n",
       "</div>"
      ],
      "text/plain": [
       "       Ticker Data_Referencia  Rendimento  Dividend_Mean6M\n",
       "10962  XPML11      2018-02-01    0.512398              NaN\n",
       "10963  XPML11      2018-03-01    0.495126              NaN\n",
       "10964  XPML11      2018-04-01    0.502850              NaN\n",
       "10965  XPML11      2018-05-01    0.526895              NaN\n",
       "10966  XPML11      2018-06-01    0.495511              NaN\n",
       "...       ...             ...         ...              ...\n",
       "11030  XPML11      2023-10-01    0.850000         0.831667\n",
       "11031  XPML11      2023-11-01    0.850000         0.838333\n",
       "11032  XPML11      2023-12-01    0.900000         0.853333\n",
       "11033  XPML11      2024-01-01    0.920000         0.868333\n",
       "11034  XPML11      2024-02-01    0.900000         0.878333\n",
       "\n",
       "[73 rows x 4 columns]"
      ]
     },
     "execution_count": 142,
     "metadata": {},
     "output_type": "execute_result"
    }
   ],
   "source": [
    "#df_duplicados = df_dividend[(df_dividend.duplicated(subset=['Ticker', 'DataBase'])) & (~df_dividend['ISIN'].str.contains('CTF'))]\n",
    "#df_dividend = df_dividend.loc[~df_dividend.index.isin(df_duplicados.index)]\n",
    "\n",
    "#df_temp = df_dividend[df_dividend['Ticker'] == 'XPML11']\n",
    "#df_temp['Rendimento_Mean6M'] = df_temp['Rendimento'].rolling(window=6).mean()\n",
    "#df_temp = df_temp[df_temp['Rendimento_Mean6M'].notnull()]\n",
    "#df_temp.iloc[20:70]\n",
    "# df_temp = df_dividend.copy()\n",
    "\n",
    "# for ticker in df_temp['Ticker'].unique():\n",
    "#     start_date = df_temp[df_temp['Ticker'] == ticker]['Data_Referencia'].min()\n",
    "#     end_date = df_temp[df_temp['Ticker'] == ticker]['Data_Referencia'].max()\n",
    "\n",
    "#     date_range = pd.date_range(start=start_date, end=end_date, freq='MS')\n",
    "#     df_date_range = pd.DataFrame({'Ticker': [ticker] * len(date_range), 'Data_Referencia': date_range})\n",
    "\n",
    "#     df_temp = pd.merge(df_temp, df_date_range, on=['Ticker', 'Data_Referencia'], how='outer')\n",
    "#     df_temp = df_temp.sort_values(by=['Ticker', 'Data_Referencia'])\n",
    "\n",
    "\n",
    "#(10855, 4)\n",
    "#11151 rows × 4 columns\n",
    "\n",
    "#df_merged = pd.merge(df_temp, df_date_range, on='Data_Referencia', how='right')\n",
    "#df_merged = df_merged.sort_values(by='Data_Referencia')\n",
    "#df_merged.iloc[20:70]\n",
    "\n",
    "#print(date_range)\n",
    "#set(df_plot['DataBase'])"
   ]
  }
 ],
 "metadata": {
  "kernelspec": {
   "display_name": "mylab",
   "language": "python",
   "name": "mylab"
  },
  "language_info": {
   "codemirror_mode": {
    "name": "ipython",
    "version": 3
   },
   "file_extension": ".py",
   "mimetype": "text/x-python",
   "name": "python",
   "nbconvert_exporter": "python",
   "pygments_lexer": "ipython3",
   "version": "3.11.5"
  }
 },
 "nbformat": 4,
 "nbformat_minor": 5
}
